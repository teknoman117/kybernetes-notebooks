{
 "cells": [
  {
   "cell_type": "markdown",
   "id": "2ec7700c-6774-47e5-abe7-dc6a87252ff1",
   "metadata": {},
   "source": [
    "# Kybernetes 2 - An Analysis\n",
    "\n",
    "This notebook is an experiment on analyzing the log data from Kybernetes 2 in a visual way using Jupyter Notebooks and Bokeh"
   ]
  },
  {
   "cell_type": "markdown",
   "id": "ff48d1a2-914d-407c-8401-27058b94947b",
   "metadata": {},
   "source": [
    "### Processing Kybernetes 2 Log Data\n",
    "\n",
    "Honestly the log format from the robot is garbage. I need to actually define a sensor recording format. A snippet of log data from the robot:"
   ]
  },
  {
   "cell_type": "raw",
   "id": "e880da79-81c8-48e7-9c52-253cadfbf173",
   "metadata": {},
   "source": [
    "[1713646855.1504629] gps = Position(latitude=37.326965, longitude=-121.8912303, declination=13.1)\n",
    "[1713646855.1505895] MoveTo.on_gps(): heading to target = -103.9016164389703, distance to target = 9.719203632024085\n",
    "[1713646855.1554573] status = StatusPacket(remote=KillSwitchStatusPacket(steering_input=1480, throttle_input=1960, steering_updated=1, throttle_updated=1, armable=1, state=4), state=49, battery_low=0, bumper_pressed=0, odometer=8724, motion=PIDFrame(Enabled=1, Input=(157, 148, 153), Target=259, Output=231.61495971679688, e=102, pTerm=-9, iTerm=8.15999984741211, dTerm=-7.0))\n",
    "[1713646855.168348] heading = -102.786355888\n",
    "[1713646855.168428] MoveTo.on_imu(): heading error = 1.1152605509702909\n",
    "[1713646855.169851] fix = Fix(area=222, x=991, y=364)\n",
    "[1713646855.1715732] status = StatusPacket(remote=KillSwitchStatusPacket(steering_input=1488, throttle_input=1952, steering_updated=1, throttle_updated=1, armable=1, state=4), state=49, battery_low=0, bumper_pressed=0, odometer=8866, motion=PIDFrame(Enabled=1, Input=(142, 157, 148), Target=259, Output=237.06895446777344, e=117, pTerm=15, iTerm=9.359999656677246, dTerm=12.0))"
   ]
  },
  {
   "cell_type": "markdown",
   "id": "bc6e8ce2-0080-480a-a107-776b068df12c",
   "metadata": {},
   "source": [
    "#### Define a function to rip GPS data from a log file"
   ]
  },
  {
   "cell_type": "code",
   "execution_count": 2,
   "id": "ce745d78-7472-4d51-8f6c-f0ccc4e7b3bf",
   "metadata": {},
   "outputs": [],
   "source": [
    "import re\n",
    "\n",
    "def read_gps_data(filename):\n",
    "    with open(filename, 'r') as f:\n",
    "        lines = f.readlines()\n",
    "\n",
    "    gps_lines = [line for line in lines if \"gps = Position(\" in line]\n",
    "    regex = r\"\\[(?P<timestamp>-?\\d+\\.\\d+)\\] gps = Position\\(latitude=(?P<latitude>-?\\d+\\.\\d+), longitude=(?P<longitude>-?\\d+\\.\\d+), declination=(?P<declination>-?\\d+\\.\\d+)\\)\"\n",
    "    parsed = [re.search(regex, line) for line in gps_lines]\n",
    "    positions = [(float(m.group('timestamp')), float(m.group('latitude')), float(m.group('longitude'))) for m in parsed]\n",
    "    return positions"
   ]
  },
  {
   "cell_type": "code",
   "execution_count": 3,
   "id": "ab5d482c-f728-462e-9d80-3d34e4bcafce",
   "metadata": {},
   "outputs": [],
   "source": [
    "positions = read_gps_data('logs/robomagellan.2024.robogames.run1.txt')"
   ]
  },
  {
   "cell_type": "markdown",
   "id": "32c712c8-7280-4e3b-b4f7-78a521d5f987",
   "metadata": {},
   "source": [
    "#### Read Google Maps API Key from OS environment\n",
    "\n",
    "If you don't have a Google Maps API Key, create a project though the Google Cloud Admin console\n",
    "\n",
    "https://console.cloud.google.com/google/maps-apis/"
   ]
  },
  {
   "cell_type": "code",
   "execution_count": 4,
   "id": "fc31b169-37ad-411f-9403-0313952e86e1",
   "metadata": {},
   "outputs": [],
   "source": [
    "import os\n",
    "\n",
    "API_KEY = os.environ['GOOGLE_API_KEY']"
   ]
  },
  {
   "cell_type": "markdown",
   "id": "b29e7973-c9b6-472f-a320-49363c2ae4ab",
   "metadata": {},
   "source": [
    "#### Import Bokeh"
   ]
  },
  {
   "cell_type": "code",
   "execution_count": 5,
   "id": "df092653-16e5-49fe-b683-7f017063a10e",
   "metadata": {},
   "outputs": [
    {
     "data": {
      "text/html": [
       "    <style>\n",
       "        .bk-notebook-logo {\n",
       "            display: block;\n",
       "            width: 20px;\n",
       "            height: 20px;\n",
       "            background-image: url(data:image/png;base64,iVBORw0KGgoAAAANSUhEUgAAABQAAAAUCAYAAACNiR0NAAAABHNCSVQICAgIfAhkiAAAAAlwSFlzAAALEgAACxIB0t1+/AAAABx0RVh0U29mdHdhcmUAQWRvYmUgRmlyZXdvcmtzIENTNui8sowAAAOkSURBVDiNjZRtaJVlGMd/1/08zzln5zjP1LWcU9N0NkN8m2CYjpgQYQXqSs0I84OLIC0hkEKoPtiH3gmKoiJDU7QpLgoLjLIQCpEsNJ1vqUOdO7ppbuec5+V+rj4ctwzd8IIbbi6u+8f1539dt3A78eXC7QizUF7gyV1fD1Yqg4JWz84yffhm0qkFqBogB9rM8tZdtwVsPUhWhGcFJngGeWrPzHm5oaMmkfEg1usvLFyc8jLRqDOMru7AyC8saQr7GG7f5fvDeH7Ej8CM66nIF+8yngt6HWaKh7k49Soy9nXurCi1o3qUbS3zWfrYeQDTB/Qj6kX6Ybhw4B+bOYoLKCC9H3Nu/leUTZ1JdRWkkn2ldcCamzrcf47KKXdAJllSlxAOkRgyHsGC/zRday5Qld9DyoM4/q/rUoy/CXh3jzOu3bHUVZeU+DEn8FInkPBFlu3+nW3Nw0mk6vCDiWg8CeJaxEwuHS3+z5RgY+YBR6V1Z1nxSOfoaPa4LASWxxdNp+VWTk7+4vzaou8v8PN+xo+KY2xsw6une2frhw05CTYOmQvsEhjhWjn0bmXPjpE1+kplmmkP3suftwTubK9Vq22qKmrBhpY4jvd5afdRA3wGjFAgcnTK2s4hY0/GPNIb0nErGMCRxWOOX64Z8RAC4oCXdklmEvcL8o0BfkNK4lUg9HTl+oPlQxdNo3Mg4Nv175e/1LDGzZen30MEjRUtmXSfiTVu1kK8W4txyV6BMKlbgk3lMwYCiusNy9fVfvvwMxv8Ynl6vxoByANLTWplvuj/nF9m2+PDtt1eiHPBr1oIfhCChQMBw6Aw0UulqTKZdfVvfG7VcfIqLG9bcldL/+pdWTLxLUy8Qq38heUIjh4XlzZxzQm19lLFlr8vdQ97rjZVOLf8nclzckbcD4wxXMidpX30sFd37Fv/GtwwhzhxGVAprjbg0gCAEeIgwCZyTV2Z1REEW8O4py0wsjeloKoMr6iCY6dP92H6Vw/oTyICIthibxjm/DfN9lVz8IqtqKYLUXfoKVMVQVVJOElGjrnnUt9T9wbgp8AyYKaGlqingHZU/uG2NTZSVqwHQTWkx9hxjkpWDaCg6Ckj5qebgBVbT3V3NNXMSiWSDdGV3hrtzla7J+duwPOToIg42ChPQOQjspnSlp1V+Gjdged7+8UN5CRAV7a5EdFNwCjEaBR27b3W890TE7g24NAP/mMDXRWrGoFPQI9ls/MWO2dWFAar/xcOIImbbpA3zgAAAABJRU5ErkJggg==);\n",
       "        }\n",
       "    </style>\n",
       "    <div>\n",
       "        <a href=\"https://bokeh.org\" target=\"_blank\" class=\"bk-notebook-logo\"></a>\n",
       "        <span id=\"fd245e9d-fa2b-4e4e-bcf7-cee44ffaec10\">Loading BokehJS ...</span>\n",
       "    </div>\n"
      ]
     },
     "metadata": {},
     "output_type": "display_data"
    },
    {
     "data": {
      "application/javascript": [
       "'use strict';\n",
       "(function(root) {\n",
       "  function now() {\n",
       "    return new Date();\n",
       "  }\n",
       "\n",
       "  const force = true;\n",
       "\n",
       "  if (typeof root._bokeh_onload_callbacks === \"undefined\" || force === true) {\n",
       "    root._bokeh_onload_callbacks = [];\n",
       "    root._bokeh_is_loading = undefined;\n",
       "  }\n",
       "\n",
       "const JS_MIME_TYPE = 'application/javascript';\n",
       "  const HTML_MIME_TYPE = 'text/html';\n",
       "  const EXEC_MIME_TYPE = 'application/vnd.bokehjs_exec.v0+json';\n",
       "  const CLASS_NAME = 'output_bokeh rendered_html';\n",
       "\n",
       "  /**\n",
       "   * Render data to the DOM node\n",
       "   */\n",
       "  function render(props, node) {\n",
       "    const script = document.createElement(\"script\");\n",
       "    node.appendChild(script);\n",
       "  }\n",
       "\n",
       "  /**\n",
       "   * Handle when an output is cleared or removed\n",
       "   */\n",
       "  function handleClearOutput(event, handle) {\n",
       "    function drop(id) {\n",
       "      const view = Bokeh.index.get_by_id(id)\n",
       "      if (view != null) {\n",
       "        view.model.document.clear()\n",
       "        Bokeh.index.delete(view)\n",
       "      }\n",
       "    }\n",
       "\n",
       "    const cell = handle.cell;\n",
       "\n",
       "    const id = cell.output_area._bokeh_element_id;\n",
       "    const server_id = cell.output_area._bokeh_server_id;\n",
       "\n",
       "    // Clean up Bokeh references\n",
       "    if (id != null) {\n",
       "      drop(id)\n",
       "    }\n",
       "\n",
       "    if (server_id !== undefined) {\n",
       "      // Clean up Bokeh references\n",
       "      const cmd_clean = \"from bokeh.io.state import curstate; print(curstate().uuid_to_server['\" + server_id + \"'].get_sessions()[0].document.roots[0]._id)\";\n",
       "      cell.notebook.kernel.execute(cmd_clean, {\n",
       "        iopub: {\n",
       "          output: function(msg) {\n",
       "            const id = msg.content.text.trim()\n",
       "            drop(id)\n",
       "          }\n",
       "        }\n",
       "      });\n",
       "      // Destroy server and session\n",
       "      const cmd_destroy = \"import bokeh.io.notebook as ion; ion.destroy_server('\" + server_id + \"')\";\n",
       "      cell.notebook.kernel.execute(cmd_destroy);\n",
       "    }\n",
       "  }\n",
       "\n",
       "  /**\n",
       "   * Handle when a new output is added\n",
       "   */\n",
       "  function handleAddOutput(event, handle) {\n",
       "    const output_area = handle.output_area;\n",
       "    const output = handle.output;\n",
       "\n",
       "    // limit handleAddOutput to display_data with EXEC_MIME_TYPE content only\n",
       "    if ((output.output_type != \"display_data\") || (!Object.prototype.hasOwnProperty.call(output.data, EXEC_MIME_TYPE))) {\n",
       "      return\n",
       "    }\n",
       "\n",
       "    const toinsert = output_area.element.find(\".\" + CLASS_NAME.split(' ')[0]);\n",
       "\n",
       "    if (output.metadata[EXEC_MIME_TYPE][\"id\"] !== undefined) {\n",
       "      toinsert[toinsert.length - 1].firstChild.textContent = output.data[JS_MIME_TYPE];\n",
       "      // store reference to embed id on output_area\n",
       "      output_area._bokeh_element_id = output.metadata[EXEC_MIME_TYPE][\"id\"];\n",
       "    }\n",
       "    if (output.metadata[EXEC_MIME_TYPE][\"server_id\"] !== undefined) {\n",
       "      const bk_div = document.createElement(\"div\");\n",
       "      bk_div.innerHTML = output.data[HTML_MIME_TYPE];\n",
       "      const script_attrs = bk_div.children[0].attributes;\n",
       "      for (let i = 0; i < script_attrs.length; i++) {\n",
       "        toinsert[toinsert.length - 1].firstChild.setAttribute(script_attrs[i].name, script_attrs[i].value);\n",
       "        toinsert[toinsert.length - 1].firstChild.textContent = bk_div.children[0].textContent\n",
       "      }\n",
       "      // store reference to server id on output_area\n",
       "      output_area._bokeh_server_id = output.metadata[EXEC_MIME_TYPE][\"server_id\"];\n",
       "    }\n",
       "  }\n",
       "\n",
       "  function register_renderer(events, OutputArea) {\n",
       "\n",
       "    function append_mime(data, metadata, element) {\n",
       "      // create a DOM node to render to\n",
       "      const toinsert = this.create_output_subarea(\n",
       "        metadata,\n",
       "        CLASS_NAME,\n",
       "        EXEC_MIME_TYPE\n",
       "      );\n",
       "      this.keyboard_manager.register_events(toinsert);\n",
       "      // Render to node\n",
       "      const props = {data: data, metadata: metadata[EXEC_MIME_TYPE]};\n",
       "      render(props, toinsert[toinsert.length - 1]);\n",
       "      element.append(toinsert);\n",
       "      return toinsert\n",
       "    }\n",
       "\n",
       "    /* Handle when an output is cleared or removed */\n",
       "    events.on('clear_output.CodeCell', handleClearOutput);\n",
       "    events.on('delete.Cell', handleClearOutput);\n",
       "\n",
       "    /* Handle when a new output is added */\n",
       "    events.on('output_added.OutputArea', handleAddOutput);\n",
       "\n",
       "    /**\n",
       "     * Register the mime type and append_mime function with output_area\n",
       "     */\n",
       "    OutputArea.prototype.register_mime_type(EXEC_MIME_TYPE, append_mime, {\n",
       "      /* Is output safe? */\n",
       "      safe: true,\n",
       "      /* Index of renderer in `output_area.display_order` */\n",
       "      index: 0\n",
       "    });\n",
       "  }\n",
       "\n",
       "  // register the mime type if in Jupyter Notebook environment and previously unregistered\n",
       "  if (root.Jupyter !== undefined) {\n",
       "    const events = require('base/js/events');\n",
       "    const OutputArea = require('notebook/js/outputarea').OutputArea;\n",
       "\n",
       "    if (OutputArea.prototype.mime_types().indexOf(EXEC_MIME_TYPE) == -1) {\n",
       "      register_renderer(events, OutputArea);\n",
       "    }\n",
       "  }\n",
       "  if (typeof (root._bokeh_timeout) === \"undefined\" || force === true) {\n",
       "    root._bokeh_timeout = Date.now() + 5000;\n",
       "    root._bokeh_failed_load = false;\n",
       "  }\n",
       "\n",
       "  const NB_LOAD_WARNING = {'data': {'text/html':\n",
       "     \"<div style='background-color: #fdd'>\\n\"+\n",
       "     \"<p>\\n\"+\n",
       "     \"BokehJS does not appear to have successfully loaded. If loading BokehJS from CDN, this \\n\"+\n",
       "     \"may be due to a slow or bad network connection. Possible fixes:\\n\"+\n",
       "     \"</p>\\n\"+\n",
       "     \"<ul>\\n\"+\n",
       "     \"<li>re-rerun `output_notebook()` to attempt to load from CDN again, or</li>\\n\"+\n",
       "     \"<li>use INLINE resources instead, as so:</li>\\n\"+\n",
       "     \"</ul>\\n\"+\n",
       "     \"<code>\\n\"+\n",
       "     \"from bokeh.resources import INLINE\\n\"+\n",
       "     \"output_notebook(resources=INLINE)\\n\"+\n",
       "     \"</code>\\n\"+\n",
       "     \"</div>\"}};\n",
       "\n",
       "  function display_loaded(error = null) {\n",
       "    const el = document.getElementById(\"fd245e9d-fa2b-4e4e-bcf7-cee44ffaec10\");\n",
       "    if (el != null) {\n",
       "      const html = (() => {\n",
       "        if (typeof root.Bokeh === \"undefined\") {\n",
       "          if (error == null) {\n",
       "            return \"BokehJS is loading ...\";\n",
       "          } else {\n",
       "            return \"BokehJS failed to load.\";\n",
       "          }\n",
       "        } else {\n",
       "          const prefix = `BokehJS ${root.Bokeh.version}`;\n",
       "          if (error == null) {\n",
       "            return `${prefix} successfully loaded.`;\n",
       "          } else {\n",
       "            return `${prefix} <b>encountered errors</b> while loading and may not function as expected.`;\n",
       "          }\n",
       "        }\n",
       "      })();\n",
       "      el.innerHTML = html;\n",
       "\n",
       "      if (error != null) {\n",
       "        const wrapper = document.createElement(\"div\");\n",
       "        wrapper.style.overflow = \"auto\";\n",
       "        wrapper.style.height = \"5em\";\n",
       "        wrapper.style.resize = \"vertical\";\n",
       "        const content = document.createElement(\"div\");\n",
       "        content.style.fontFamily = \"monospace\";\n",
       "        content.style.whiteSpace = \"pre-wrap\";\n",
       "        content.style.backgroundColor = \"rgb(255, 221, 221)\";\n",
       "        content.textContent = error.stack ?? error.toString();\n",
       "        wrapper.append(content);\n",
       "        el.append(wrapper);\n",
       "      }\n",
       "    } else if (Date.now() < root._bokeh_timeout) {\n",
       "      setTimeout(() => display_loaded(error), 100);\n",
       "    }\n",
       "  }\n",
       "\n",
       "  function run_callbacks() {\n",
       "    try {\n",
       "      root._bokeh_onload_callbacks.forEach(function(callback) {\n",
       "        if (callback != null)\n",
       "          callback();\n",
       "      });\n",
       "    } finally {\n",
       "      delete root._bokeh_onload_callbacks\n",
       "    }\n",
       "    console.debug(\"Bokeh: all callbacks have finished\");\n",
       "  }\n",
       "\n",
       "  function load_libs(css_urls, js_urls, callback) {\n",
       "    if (css_urls == null) css_urls = [];\n",
       "    if (js_urls == null) js_urls = [];\n",
       "\n",
       "    root._bokeh_onload_callbacks.push(callback);\n",
       "    if (root._bokeh_is_loading > 0) {\n",
       "      console.debug(\"Bokeh: BokehJS is being loaded, scheduling callback at\", now());\n",
       "      return null;\n",
       "    }\n",
       "    if (js_urls == null || js_urls.length === 0) {\n",
       "      run_callbacks();\n",
       "      return null;\n",
       "    }\n",
       "    console.debug(\"Bokeh: BokehJS not loaded, scheduling load and callback at\", now());\n",
       "    root._bokeh_is_loading = css_urls.length + js_urls.length;\n",
       "\n",
       "    function on_load() {\n",
       "      root._bokeh_is_loading--;\n",
       "      if (root._bokeh_is_loading === 0) {\n",
       "        console.debug(\"Bokeh: all BokehJS libraries/stylesheets loaded\");\n",
       "        run_callbacks()\n",
       "      }\n",
       "    }\n",
       "\n",
       "    function on_error(url) {\n",
       "      console.error(\"failed to load \" + url);\n",
       "    }\n",
       "\n",
       "    for (let i = 0; i < css_urls.length; i++) {\n",
       "      const url = css_urls[i];\n",
       "      const element = document.createElement(\"link\");\n",
       "      element.onload = on_load;\n",
       "      element.onerror = on_error.bind(null, url);\n",
       "      element.rel = \"stylesheet\";\n",
       "      element.type = \"text/css\";\n",
       "      element.href = url;\n",
       "      console.debug(\"Bokeh: injecting link tag for BokehJS stylesheet: \", url);\n",
       "      document.body.appendChild(element);\n",
       "    }\n",
       "\n",
       "    for (let i = 0; i < js_urls.length; i++) {\n",
       "      const url = js_urls[i];\n",
       "      const element = document.createElement('script');\n",
       "      element.onload = on_load;\n",
       "      element.onerror = on_error.bind(null, url);\n",
       "      element.async = false;\n",
       "      element.src = url;\n",
       "      console.debug(\"Bokeh: injecting script tag for BokehJS library: \", url);\n",
       "      document.head.appendChild(element);\n",
       "    }\n",
       "  };\n",
       "\n",
       "  function inject_raw_css(css) {\n",
       "    const element = document.createElement(\"style\");\n",
       "    element.appendChild(document.createTextNode(css));\n",
       "    document.body.appendChild(element);\n",
       "  }\n",
       "\n",
       "  const js_urls = [\"https://cdn.bokeh.org/bokeh/release/bokeh-3.6.0.min.js\", \"https://cdn.bokeh.org/bokeh/release/bokeh-gl-3.6.0.min.js\", \"https://cdn.bokeh.org/bokeh/release/bokeh-widgets-3.6.0.min.js\", \"https://cdn.bokeh.org/bokeh/release/bokeh-tables-3.6.0.min.js\", \"https://cdn.bokeh.org/bokeh/release/bokeh-mathjax-3.6.0.min.js\"];\n",
       "  const css_urls = [];\n",
       "\n",
       "  const inline_js = [    function(Bokeh) {\n",
       "      Bokeh.set_log_level(\"info\");\n",
       "    },\n",
       "function(Bokeh) {\n",
       "    }\n",
       "  ];\n",
       "\n",
       "  function run_inline_js() {\n",
       "    if (root.Bokeh !== undefined || force === true) {\n",
       "      try {\n",
       "            for (let i = 0; i < inline_js.length; i++) {\n",
       "      inline_js[i].call(root, root.Bokeh);\n",
       "    }\n",
       "\n",
       "      } catch (error) {display_loaded(error);throw error;\n",
       "      }if (force === true) {\n",
       "        display_loaded();\n",
       "      }} else if (Date.now() < root._bokeh_timeout) {\n",
       "      setTimeout(run_inline_js, 100);\n",
       "    } else if (!root._bokeh_failed_load) {\n",
       "      console.log(\"Bokeh: BokehJS failed to load within specified timeout.\");\n",
       "      root._bokeh_failed_load = true;\n",
       "    } else if (force !== true) {\n",
       "      const cell = $(document.getElementById(\"fd245e9d-fa2b-4e4e-bcf7-cee44ffaec10\")).parents('.cell').data().cell;\n",
       "      cell.output_area.append_execute_result(NB_LOAD_WARNING)\n",
       "    }\n",
       "  }\n",
       "\n",
       "  if (root._bokeh_is_loading === 0) {\n",
       "    console.debug(\"Bokeh: BokehJS loaded, going straight to plotting\");\n",
       "    run_inline_js();\n",
       "  } else {\n",
       "    load_libs(css_urls, js_urls, function() {\n",
       "      console.debug(\"Bokeh: BokehJS plotting callback run at\", now());\n",
       "      run_inline_js();\n",
       "    });\n",
       "  }\n",
       "}(window));"
      ],
      "application/vnd.bokehjs_load.v0+json": "'use strict';\n(function(root) {\n  function now() {\n    return new Date();\n  }\n\n  const force = true;\n\n  if (typeof root._bokeh_onload_callbacks === \"undefined\" || force === true) {\n    root._bokeh_onload_callbacks = [];\n    root._bokeh_is_loading = undefined;\n  }\n\n\n  if (typeof (root._bokeh_timeout) === \"undefined\" || force === true) {\n    root._bokeh_timeout = Date.now() + 5000;\n    root._bokeh_failed_load = false;\n  }\n\n  const NB_LOAD_WARNING = {'data': {'text/html':\n     \"<div style='background-color: #fdd'>\\n\"+\n     \"<p>\\n\"+\n     \"BokehJS does not appear to have successfully loaded. If loading BokehJS from CDN, this \\n\"+\n     \"may be due to a slow or bad network connection. Possible fixes:\\n\"+\n     \"</p>\\n\"+\n     \"<ul>\\n\"+\n     \"<li>re-rerun `output_notebook()` to attempt to load from CDN again, or</li>\\n\"+\n     \"<li>use INLINE resources instead, as so:</li>\\n\"+\n     \"</ul>\\n\"+\n     \"<code>\\n\"+\n     \"from bokeh.resources import INLINE\\n\"+\n     \"output_notebook(resources=INLINE)\\n\"+\n     \"</code>\\n\"+\n     \"</div>\"}};\n\n  function display_loaded(error = null) {\n    const el = document.getElementById(\"fd245e9d-fa2b-4e4e-bcf7-cee44ffaec10\");\n    if (el != null) {\n      const html = (() => {\n        if (typeof root.Bokeh === \"undefined\") {\n          if (error == null) {\n            return \"BokehJS is loading ...\";\n          } else {\n            return \"BokehJS failed to load.\";\n          }\n        } else {\n          const prefix = `BokehJS ${root.Bokeh.version}`;\n          if (error == null) {\n            return `${prefix} successfully loaded.`;\n          } else {\n            return `${prefix} <b>encountered errors</b> while loading and may not function as expected.`;\n          }\n        }\n      })();\n      el.innerHTML = html;\n\n      if (error != null) {\n        const wrapper = document.createElement(\"div\");\n        wrapper.style.overflow = \"auto\";\n        wrapper.style.height = \"5em\";\n        wrapper.style.resize = \"vertical\";\n        const content = document.createElement(\"div\");\n        content.style.fontFamily = \"monospace\";\n        content.style.whiteSpace = \"pre-wrap\";\n        content.style.backgroundColor = \"rgb(255, 221, 221)\";\n        content.textContent = error.stack ?? error.toString();\n        wrapper.append(content);\n        el.append(wrapper);\n      }\n    } else if (Date.now() < root._bokeh_timeout) {\n      setTimeout(() => display_loaded(error), 100);\n    }\n  }\n\n  function run_callbacks() {\n    try {\n      root._bokeh_onload_callbacks.forEach(function(callback) {\n        if (callback != null)\n          callback();\n      });\n    } finally {\n      delete root._bokeh_onload_callbacks\n    }\n    console.debug(\"Bokeh: all callbacks have finished\");\n  }\n\n  function load_libs(css_urls, js_urls, callback) {\n    if (css_urls == null) css_urls = [];\n    if (js_urls == null) js_urls = [];\n\n    root._bokeh_onload_callbacks.push(callback);\n    if (root._bokeh_is_loading > 0) {\n      console.debug(\"Bokeh: BokehJS is being loaded, scheduling callback at\", now());\n      return null;\n    }\n    if (js_urls == null || js_urls.length === 0) {\n      run_callbacks();\n      return null;\n    }\n    console.debug(\"Bokeh: BokehJS not loaded, scheduling load and callback at\", now());\n    root._bokeh_is_loading = css_urls.length + js_urls.length;\n\n    function on_load() {\n      root._bokeh_is_loading--;\n      if (root._bokeh_is_loading === 0) {\n        console.debug(\"Bokeh: all BokehJS libraries/stylesheets loaded\");\n        run_callbacks()\n      }\n    }\n\n    function on_error(url) {\n      console.error(\"failed to load \" + url);\n    }\n\n    for (let i = 0; i < css_urls.length; i++) {\n      const url = css_urls[i];\n      const element = document.createElement(\"link\");\n      element.onload = on_load;\n      element.onerror = on_error.bind(null, url);\n      element.rel = \"stylesheet\";\n      element.type = \"text/css\";\n      element.href = url;\n      console.debug(\"Bokeh: injecting link tag for BokehJS stylesheet: \", url);\n      document.body.appendChild(element);\n    }\n\n    for (let i = 0; i < js_urls.length; i++) {\n      const url = js_urls[i];\n      const element = document.createElement('script');\n      element.onload = on_load;\n      element.onerror = on_error.bind(null, url);\n      element.async = false;\n      element.src = url;\n      console.debug(\"Bokeh: injecting script tag for BokehJS library: \", url);\n      document.head.appendChild(element);\n    }\n  };\n\n  function inject_raw_css(css) {\n    const element = document.createElement(\"style\");\n    element.appendChild(document.createTextNode(css));\n    document.body.appendChild(element);\n  }\n\n  const js_urls = [\"https://cdn.bokeh.org/bokeh/release/bokeh-3.6.0.min.js\", \"https://cdn.bokeh.org/bokeh/release/bokeh-gl-3.6.0.min.js\", \"https://cdn.bokeh.org/bokeh/release/bokeh-widgets-3.6.0.min.js\", \"https://cdn.bokeh.org/bokeh/release/bokeh-tables-3.6.0.min.js\", \"https://cdn.bokeh.org/bokeh/release/bokeh-mathjax-3.6.0.min.js\"];\n  const css_urls = [];\n\n  const inline_js = [    function(Bokeh) {\n      Bokeh.set_log_level(\"info\");\n    },\nfunction(Bokeh) {\n    }\n  ];\n\n  function run_inline_js() {\n    if (root.Bokeh !== undefined || force === true) {\n      try {\n            for (let i = 0; i < inline_js.length; i++) {\n      inline_js[i].call(root, root.Bokeh);\n    }\n\n      } catch (error) {display_loaded(error);throw error;\n      }if (force === true) {\n        display_loaded();\n      }} else if (Date.now() < root._bokeh_timeout) {\n      setTimeout(run_inline_js, 100);\n    } else if (!root._bokeh_failed_load) {\n      console.log(\"Bokeh: BokehJS failed to load within specified timeout.\");\n      root._bokeh_failed_load = true;\n    } else if (force !== true) {\n      const cell = $(document.getElementById(\"fd245e9d-fa2b-4e4e-bcf7-cee44ffaec10\")).parents('.cell').data().cell;\n      cell.output_area.append_execute_result(NB_LOAD_WARNING)\n    }\n  }\n\n  if (root._bokeh_is_loading === 0) {\n    console.debug(\"Bokeh: BokehJS loaded, going straight to plotting\");\n    run_inline_js();\n  } else {\n    load_libs(css_urls, js_urls, function() {\n      console.debug(\"Bokeh: BokehJS plotting callback run at\", now());\n      run_inline_js();\n    });\n  }\n}(window));"
     },
     "metadata": {},
     "output_type": "display_data"
    }
   ],
   "source": [
    "from bokeh.io import output_notebook, push_notebook, show\n",
    "from bokeh.models import GMapOptions, ColumnDataSource, Line, Circle\n",
    "from bokeh.plotting import gmap\n",
    "\n",
    "output_notebook()"
   ]
  },
  {
   "cell_type": "markdown",
   "id": "f790fd92-c247-445a-b9e0-be93dca50f66",
   "metadata": {},
   "source": [
    "#### Define a function to show a map with all of the position data"
   ]
  },
  {
   "cell_type": "code",
   "execution_count": 6,
   "id": "790402d7-4c28-4a95-b3ab-709a2d572b74",
   "metadata": {},
   "outputs": [],
   "source": [
    "def display_map_with_positions(positions, name=\"Kybernetes 2 GPS Samples\", zoom=20, api_key=API_KEY):\n",
    "    # Rip latitude and longitude from position tuple\n",
    "    lats = [position[1] for position in positions]\n",
    "    lons = [position[2] for position in positions]\n",
    "\n",
    "    # Find the center point of data\n",
    "    lat = (max(lats) + min(lats)) / 2.0\n",
    "    lon = (max(lons) + min(lons)) / 2.0\n",
    "\n",
    "    # Draw each position as a circle on the map\n",
    "    map_options = GMapOptions(lat=lat, lng=lon, map_type='satellite', tilt=0, zoom=zoom)\n",
    "    plot = gmap(api_key, map_options, title=name, width=800, height=600)\n",
    "    plot.circle(lons, lats, size=10, alpha=0.05, color='blue')\n",
    "    #plot.line(lons, lats, line_width=8, color='blue', alpha=0.5)\n",
    "    show(plot)\n",
    "\n",
    "def display_map_from_log(filename, zoom=20):\n",
    "    positions = read_gps_data(filename)\n",
    "    display_map_with_positions(positions, name=f'Kybernetes 2 GPS Samples - {filename}', zoom=zoom)"
   ]
  },
  {
   "cell_type": "markdown",
   "id": "85449366-7608-4e28-b784-0ef577a1a0ec",
   "metadata": {},
   "source": [
    "### Robogames 2024 - Run 1"
   ]
  },
  {
   "cell_type": "code",
   "execution_count": 7,
   "id": "c23a7c36-5082-46ac-8f65-63fbbece5f54",
   "metadata": {},
   "outputs": [
    {
     "name": "stderr",
     "output_type": "stream",
     "text": [
      "BokehDeprecationWarning: 'circle() method with size value' was deprecated in Bokeh 3.4.0 and will be removed, use 'scatter(size=...) instead' instead.\n"
     ]
    },
    {
     "data": {
      "text/html": [
       "\n",
       "  <div id=\"e9ab7689-e668-4675-b710-40bd37c327c4\" data-root-id=\"p1002\" style=\"display: contents;\"></div>\n"
      ]
     },
     "metadata": {},
     "output_type": "display_data"
    },
    {
     "data": {
      "application/javascript": [
       "(function(root) {\n",
       "  function embed_document(root) {\n",
       "  const docs_json = {\"422321cb-35fd-4af3-9316-7aeaec1a722c\":{\"version\":\"3.6.0\",\"title\":\"Bokeh Application\",\"roots\":[{\"type\":\"object\",\"name\":\"GMap\",\"id\":\"p1002\",\"attributes\":{\"width\":800,\"x_range\":{\"type\":\"object\",\"name\":\"Range1d\",\"id\":\"p1003\"},\"y_range\":{\"type\":\"object\",\"name\":\"Range1d\",\"id\":\"p1004\"},\"x_scale\":{\"type\":\"object\",\"name\":\"LinearScale\",\"id\":\"p1009\"},\"y_scale\":{\"type\":\"object\",\"name\":\"LinearScale\",\"id\":\"p1010\"},\"title\":{\"type\":\"object\",\"name\":\"Title\",\"id\":\"p1007\",\"attributes\":{\"text\":\"Kybernetes 2 GPS Samples - logs/robomagellan.2024.robogames.run1.txt\"}},\"renderers\":[{\"type\":\"object\",\"name\":\"GlyphRenderer\",\"id\":\"p1043\",\"attributes\":{\"data_source\":{\"type\":\"object\",\"name\":\"ColumnDataSource\",\"id\":\"p1037\",\"attributes\":{\"selected\":{\"type\":\"object\",\"name\":\"Selection\",\"id\":\"p1038\",\"attributes\":{\"indices\":[],\"line_indices\":[]}},\"selection_policy\":{\"type\":\"object\",\"name\":\"UnionRenderers\",\"id\":\"p1039\"},\"data\":{\"type\":\"map\",\"entries\":[[\"x\",[-121.8912229,-121.8912229,-121.8912228,-121.8912228,-121.8912228,-121.8912227,-121.8912227,-121.8912226,-121.8912226,-121.8912226,-121.8912225,-121.8912225,-121.8912226,-121.8912225,-121.8912225,-121.8912225,-121.8912225,-121.8912224,-121.8912224,-121.8912224,-121.8912223,-121.8912224,-121.8912224,-121.8912224,-121.8912224,-121.8912224,-121.8912224,-121.8912223,-121.8912223,-121.8912224,-121.8912223,-121.8912223,-121.8912222,-121.8912222,-121.8912222,-121.8912221,-121.8912221,-121.8912221,-121.891222,-121.891222,-121.891222,-121.891222,-121.891222,-121.8912219,-121.8912219,-121.8912219,-121.8912218,-121.8912219,-121.8912218,-121.8912218,-121.8912218,-121.8912217,-121.8912217,-121.8912217,-121.8912217,-121.8912217,-121.8912218,-121.8912217,-121.8912217,-121.8912217,-121.8912217,-121.8912217,-121.8912216,-121.8912216,-121.8912216,-121.8912215,-121.8912216,-121.8912215,-121.8912215,-121.8912214,-121.8912215,-121.8912214,-121.8912214,-121.8912213,-121.8912213,-121.8912213,-121.8912213,-121.8912212,-121.8912212,-121.8912212,-121.8912212,-121.8912211,-121.8912211,-121.8912211,-121.8912211,-121.8912212,-121.8912211,-121.8912211,-121.8912211,-121.8912211,-121.8912211,-121.8912211,-121.8912211,-121.8912211,-121.8912211,-121.891221,-121.891221,-121.891221,-121.891221,-121.891221,-121.891221,-121.891221,-121.8912209,-121.8912209,-121.8912209,-121.8912208,-121.8912209,-121.8912208,-121.8912208,-121.8912208,-121.8912208,-121.8912207,-121.8912207,-121.8912206,-121.8912206,-121.8912206,-121.8912206,-121.8912206,-121.8912205,-121.8912205,-121.8912204,-121.8912204,-121.8912203,-121.8912203,-121.8912203,-121.8912203,-121.8912203,-121.8912203,-121.8912202,-121.8912202,-121.8912202,-121.8912202,-121.8912201,-121.8912201,-121.8912201,-121.8912201,-121.8912202,-121.8912201,-121.8912201,-121.8912202,-121.8912202,-121.8912202,-121.8912201,-121.8912202,-121.8912202,-121.8912201,-121.8912201,-121.89122,-121.8912199,-121.8912199,-121.8912198,-121.8912198,-121.8912199,-121.8912198,-121.8912198,-121.8912198,-121.8912197,-121.8912198,-121.8912198,-121.8912198,-121.8912198,-121.8912198,-121.8912198,-121.8912198,-121.8912197,-121.8912197,-121.8912197,-121.8912195,-121.8912196,-121.8912196,-121.8912196,-121.8912197,-121.8912196,-121.8912196,-121.8912196,-121.8912195,-121.8912196,-121.8912196,-121.8912196,-121.8912196,-121.8912196,-121.8912196,-121.8912196,-121.8912195,-121.8912195,-121.8912195,-121.8912195,-121.8912195,-121.8912194,-121.8912195,-121.8912194,-121.8912194,-121.8912194,-121.8912194,-121.8912194,-121.8912194,-121.8912194,-121.8912194,-121.8912194,-121.8912193,-121.8912193,-121.8912193,-121.8912193,-121.8912193,-121.8912193,-121.8912192,-121.8912192,-121.8912192,-121.8912192,-121.8912192,-121.8912191,-121.8912191,-121.8912191,-121.8912191,-121.891219,-121.8912191,-121.891219,-121.891219,-121.8912189,-121.8912189,-121.8912189,-121.8912189,-121.8912189,-121.8912189,-121.8912188,-121.8912188,-121.8912188,-121.8912187,-121.8912187,-121.8912187,-121.8912187,-121.8912187,-121.8912187,-121.8912187,-121.8912187,-121.8912187,-121.8912187,-121.8912187,-121.8912186,-121.8912187,-121.8912187,-121.8912186,-121.8912186,-121.8912185,-121.8912186,-121.8912186,-121.8912185,-121.8912185,-121.8912185,-121.8912184,-121.8912184,-121.8912185,-121.8912185,-121.8912184,-121.8912184,-121.8912183,-121.8912183,-121.8912183,-121.8912182,-121.8912182,-121.8912181,-121.8912181,-121.8912181,-121.8912181,-121.8912181,-121.891218,-121.891218,-121.891218,-121.891218,-121.891218,-121.8912179,-121.8912179,-121.8912179,-121.8912178,-121.8912178,-121.8912178,-121.8912178,-121.8912178,-121.8912177,-121.8912178,-121.8912177,-121.8912176,-121.8912177,-121.8912176,-121.8912175,-121.8912176,-121.8912177,-121.8912177,-121.8912181,-121.8912182,-121.8912186,-121.8912191,-121.8912198,-121.8912206,-121.8912212,-121.8912225,-121.8912235,-121.8912247,-121.891226,-121.8912272,-121.8912286,-121.8912303,-121.891232,-121.8912336,-121.8912353,-121.8912373,-121.8912393,-121.8912415,-121.8912433,-121.8912456,-121.8912477,-121.8912495,-121.8912519,-121.8912538,-121.8912558,-121.891258,-121.89126,-121.8912623,-121.8912643,-121.8912662,-121.8912686,-121.8912704,-121.8912728,-121.8912751,-121.8912774,-121.8912796,-121.8912822,-121.8912844,-121.8912868,-121.8912891,-121.8912914,-121.891294,-121.8912962,-121.8912984,-121.8913008,-121.8913033,-121.8913059,-121.8913074,-121.8913102,-121.8913127,-121.8913151,-121.8913174,-121.8913197,-121.8913225,-121.8913249,-121.8913274,-121.89133,-121.8913323,-121.891335,-121.8913367,-121.8913386,-121.8913414,-121.8913434,-121.8913458,-121.8913478,-121.89135,-121.8913517,-121.8913543,-121.8913566,-121.8913585,-121.8913612,-121.8913638,-121.8913663,-121.8913688,-121.8913713,-121.8913739,-121.8913764,-121.8913787,-121.8913813,-121.8913832,-121.8913854,-121.8913883,-121.8913906,-121.8913925,-121.8913951,-121.8913971,-121.8913999,-121.8914017,-121.8914043,-121.8914069,-121.8914088,-121.8914119,-121.8914136,-121.8914162,-121.8914188,-121.8914207,-121.8914232,-121.8914257,-121.8914277,-121.8914302,-121.8914318,-121.8914342,-121.8914364,-121.8914386,-121.8914414,-121.8914439,-121.8914463,-121.891449,-121.8914516,-121.8914539,-121.8914561,-121.8914587,-121.891461,-121.8914635,-121.891466,-121.8914687,-121.8914709,-121.8914735,-121.8914756,-121.8914777,-121.8914805,-121.891483,-121.891485,-121.8914879,-121.8914899,-121.8914922,-121.8914952,-121.8914971,-121.8914996,-121.8915017,-121.8915042,-121.8915069,-121.891509,-121.8915114,-121.8915142,-121.8915163,-121.8915192,-121.8915213,-121.8915236,-121.8915257,-121.8915272,-121.8915287,-121.89153,-121.891531,-121.8915317,-121.8915328,-121.8915337,-121.8915346,-121.8915356,-121.8915366,-121.8915376,-121.8915391,-121.8915402,-121.8915413,-121.8915426,-121.8915437,-121.8915447,-121.8915458,-121.8915467,-121.8915476,-121.8915489,-121.8915502,-121.8915514,-121.8915525,-121.8915535,-121.8915547,-121.8915561,-121.8915575,-121.8915582,-121.8915592,-121.8915607,-121.8915621,-121.8915634,-121.8915644,-121.8915654,-121.8915666,-121.8915682,-121.8915696,-121.8915709,-121.8915722,-121.8915734,-121.8915745,-121.8915763,-121.891577,-121.8915783,-121.8915796,-121.8915808,-121.8915814,-121.8915827,-121.8915841,-121.8915855,-121.8915863,-121.8915867,-121.8915873,-121.891588,-121.8915887,-121.8915893,-121.8915895,-121.8915898,-121.8915906,-121.8915916,-121.8915927,-121.8915929,-121.8915931,-121.8915941,-121.8915948,-121.891596,-121.8915966,-121.8915974,-121.8915989,-121.8915997,-121.8916009,-121.8916026,-121.8916033,-121.8916049,-121.8916059,-121.8916075,-121.8916087,-121.8916101,-121.8916119,-121.8916132,-121.8916147,-121.891616,-121.8916175,-121.8916186,-121.8916197,-121.8916211,-121.8916225,-121.891624,-121.8916253,-121.8916266,-121.8916285,-121.89163,-121.8916312,-121.8916327,-121.8916343,-121.8916357,-121.8916374,-121.8916388,-121.8916408,-121.8916426,-121.8916442,-121.8916461,-121.8916478,-121.8916502,-121.891652,-121.8916536,-121.8916546,-121.8916554,-121.8916565,-121.8916576,-121.8916586,-121.89166,-121.8916612,-121.8916626,-121.8916632,-121.8916642,-121.8916651,-121.8916662,-121.8916672,-121.8916684,-121.8916696,-121.8916706,-121.8916715,-121.8916726,-121.8916736,-121.8916746,-121.8916758,-121.8916773,-121.8916784,-121.8916797,-121.891681,-121.8916817,-121.8916832,-121.8916843,-121.8916857,-121.891687,-121.8916884,-121.8916895,-121.891691,-121.8916923,-121.8916935,-121.8916948,-121.8916962,-121.8916977,-121.8916986,-121.8917002,-121.8917019,-121.8917028,-121.891704,-121.891705,-121.8917062,-121.8917075,-121.891709,-121.8917103,-121.8917113,-121.8917124,-121.891714,-121.891715,-121.8917162,-121.8917176,-121.891719,-121.8917202,-121.8917212,-121.8917221,-121.8917238,-121.8917251,-121.8917269,-121.8917286,-121.8917301,-121.8917319,-121.8917336,-121.8917352,-121.8917369,-121.8917386,-121.8917404,-121.8917415,-121.8917435,-121.8917451,-121.891747,-121.8917487,-121.8917505,-121.8917525,-121.8917538,-121.8917559,-121.8917573,-121.8917599,-121.8917613,-121.8917628,-121.8917645,-121.8917666,-121.8917683,-121.8917698,-121.8917719,-121.8917736,-121.8917755,-121.8917775,-121.8917795,-121.8917814,-121.8917835,-121.8917844,-121.8917848,-121.8917861,-121.8917853,-121.8917849,-121.8917852,-121.8917852,-121.8917854,-121.8917856,-121.8917857,-121.8917857,-121.8917859,-121.891786,-121.8917861,-121.8917862,-121.8917864,-121.8917866,-121.8917868,-121.8917871,-121.8917873,-121.8917873,-121.8917874,-121.8917875,-121.8917877,-121.891788,-121.8917883,-121.8917889,-121.8917897,-121.8917902,-121.8917906,-121.8917913,-121.8917919,-121.8917924,-121.8917929,-121.8917932,-121.8917938,-121.8917942,-121.891795,-121.8917954,-121.8917959,-121.8917967,-121.891797,-121.8917977,-121.891798,-121.8917988,-121.8917994,-121.8917998,-121.8918004,-121.8918012,-121.8918018,-121.8918024,-121.8918031,-121.8918037,-121.8918044,-121.8918048,-121.8918056,-121.8918062,-121.8918069,-121.8918076,-121.8918082,-121.8918085,-121.8918092,-121.8918103,-121.891811,-121.8918112,-121.8918118,-121.8918127,-121.8918131,-121.8918136,-121.8918141,-121.8918147,-121.8918152,-121.8918158,-121.8918163,-121.8918166,-121.8918173,-121.8918177,-121.8918181,-121.8918187,-121.8918192,-121.8918195,-121.8918202,-121.8918206,-121.8918209,-121.8918215,-121.8918221,-121.8918225,-121.891823,-121.8918234,-121.8918239,-121.8918241,-121.8918244,-121.8918248,-121.8918253,-121.8918257,-121.891826,-121.8918262,-121.8918264,-121.8918267,-121.8918269,-121.8918269,-121.891827,-121.8918272,-121.8918275,-121.8918277,-121.8918279,-121.8918282,-121.8918285,-121.8918288,-121.8918292,-121.8918295,-121.8918299,-121.8918303,-121.8918307,-121.8918311,-121.8918314,-121.8918319,-121.8918323,-121.8918326,-121.8918329,-121.8918334,-121.8918337,-121.891834,-121.8918343,-121.8918347,-121.8918352,-121.8918356,-121.8918359,-121.8918362,-121.8918366,-121.8918369,-121.8918374,-121.8918379,-121.8918384,-121.8918387,-121.891839,-121.8918393,-121.8918396,-121.8918399,-121.8918405,-121.8918409,-121.8918411,-121.8918415,-121.8918418,-121.8918421,-121.8918426,-121.891843,-121.8918433,-121.8918438,-121.8918442,-121.8918448,-121.8918451,-121.8918454,-121.8918459,-121.8918465,-121.8918469,-121.8918474,-121.8918478,-121.8918482,-121.8918486,-121.8918491,-121.8918496,-121.8918501,-121.8918504,-121.8918509,-121.8918513,-121.8918517,-121.8918522,-121.8918527,-121.8918529,-121.8918536,-121.8918541,-121.8918545,-121.8918549,-121.8918553,-121.8918556,-121.8918562,-121.8918567,-121.8918571,-121.8918575,-121.8918579,-121.8918583,-121.8918587]],[\"y\",[37.3269703,37.3269703,37.3269702,37.3269701,37.3269701,37.3269701,37.32697,37.32697,37.32697,37.3269699,37.3269699,37.3269699,37.3269698,37.3269698,37.3269698,37.3269697,37.3269697,37.3269697,37.3269696,37.3269696,37.3269696,37.3269695,37.3269695,37.3269695,37.3269695,37.3269694,37.3269694,37.3269694,37.3269693,37.3269693,37.3269693,37.3269693,37.3269692,37.3269692,37.3269691,37.3269691,37.3269691,37.3269691,37.326969,37.326969,37.326969,37.3269689,37.3269689,37.3269689,37.3269688,37.3269688,37.3269688,37.3269688,37.3269687,37.3269687,37.3269687,37.3269686,37.3269686,37.3269686,37.3269686,37.3269685,37.3269685,37.3269685,37.3269685,37.3269684,37.3269684,37.3269684,37.3269683,37.3269684,37.3269683,37.3269682,37.3269682,37.3269682,37.3269682,37.3269681,37.3269681,37.3269681,37.326968,37.326968,37.326968,37.3269679,37.3269679,37.3269678,37.3269678,37.3269678,37.3269677,37.3269677,37.3269677,37.3269676,37.3269676,37.3269676,37.3269676,37.3269675,37.3269675,37.3269675,37.3269675,37.3269675,37.3269674,37.3269674,37.3269674,37.3269674,37.3269673,37.3269673,37.3269673,37.3269672,37.3269672,37.3269672,37.3269671,37.3269671,37.3269671,37.3269671,37.326967,37.3269671,37.326967,37.326967,37.3269669,37.3269669,37.3269669,37.3269668,37.3269668,37.3269667,37.3269667,37.3269667,37.3269666,37.3269666,37.3269664,37.3269664,37.3269663,37.3269662,37.3269662,37.3269662,37.3269661,37.3269661,37.3269661,37.326966,37.3269659,37.3269659,37.3269659,37.3269657,37.3269657,37.3269657,37.3269656,37.3269655,37.3269655,37.3269655,37.3269654,37.3269654,37.3269653,37.3269653,37.3269653,37.3269652,37.3269652,37.3269652,37.3269652,37.3269651,37.3269651,37.326965,37.326965,37.3269649,37.3269649,37.3269648,37.3269649,37.3269647,37.3269647,37.3269647,37.3269646,37.3269645,37.3269645,37.3269645,37.3269645,37.3269644,37.3269643,37.3269643,37.3269643,37.3269642,37.3269642,37.3269642,37.3269641,37.3269641,37.326964,37.326964,37.326964,37.3269639,37.3269638,37.3269638,37.3269638,37.3269638,37.3269637,37.3269637,37.3269636,37.3269636,37.3269636,37.3269635,37.3269635,37.3269634,37.3269634,37.3269634,37.3269633,37.3269633,37.3269632,37.3269632,37.3269631,37.3269631,37.3269631,37.326963,37.326963,37.326963,37.326963,37.326963,37.3269629,37.3269629,37.3269629,37.3269628,37.3269628,37.3269628,37.3269628,37.3269628,37.3269627,37.3269627,37.3269627,37.3269626,37.3269626,37.3269626,37.3269625,37.3269624,37.3269624,37.3269624,37.3269623,37.3269623,37.3269622,37.3269622,37.3269622,37.3269622,37.3269621,37.3269621,37.326962,37.326962,37.326962,37.3269619,37.3269618,37.3269617,37.3269616,37.3269615,37.3269614,37.3269614,37.3269613,37.3269613,37.3269611,37.326961,37.326961,37.326961,37.3269609,37.3269608,37.3269608,37.3269607,37.3269607,37.3269606,37.3269605,37.3269605,37.3269604,37.3269603,37.3269603,37.3269602,37.3269602,37.3269601,37.32696,37.3269599,37.3269599,37.3269598,37.3269598,37.3269597,37.3269596,37.3269596,37.3269596,37.3269595,37.3269595,37.3269594,37.3269594,37.3269593,37.3269593,37.3269593,37.3269592,37.3269592,37.3269592,37.3269591,37.3269591,37.326959,37.326959,37.3269591,37.3269593,37.3269597,37.3269601,37.3269604,37.326961,37.3269616,37.3269621,37.3269628,37.3269632,37.3269637,37.3269645,37.3269648,37.3269652,37.3269653,37.3269653,37.3269656,37.3269653,37.326965,37.3269646,37.3269642,37.326964,37.3269635,37.3269633,37.3269628,37.3269625,37.3269621,37.3269617,37.3269614,37.3269611,37.3269606,37.3269601,37.3269597,37.3269595,37.3269594,37.3269592,37.3269588,37.3269586,37.3269584,37.3269582,37.3269579,37.3269577,37.3269568,37.3269561,37.3269558,37.3269551,37.3269545,37.3269538,37.326953,37.3269527,37.326952,37.3269516,37.3269512,37.3269507,37.3269503,37.3269498,37.3269494,37.326949,37.3269486,37.3269481,37.3269475,37.3269472,37.3269464,37.326946,37.3269456,37.326945,37.3269447,37.3269445,37.326945,37.3269453,37.3269461,37.3269469,37.3269477,37.3269485,37.326949,37.32695,37.3269508,37.3269512,37.3269517,37.3269522,37.3269525,37.3269533,37.3269535,37.3269542,37.3269547,37.3269558,37.3269565,37.3269569,37.3269577,37.3269583,37.3269591,37.3269602,37.3269609,37.3269616,37.3269623,37.326963,37.3269635,37.3269639,37.3269646,37.3269651,37.3269655,37.326966,37.3269665,37.3269671,37.326968,37.3269688,37.3269695,37.3269701,37.3269709,37.3269716,37.3269723,37.326973,37.3269734,37.3269736,37.3269742,37.3269743,37.3269749,37.3269751,37.3269754,37.3269759,37.3269765,37.3269769,37.3269774,37.3269779,37.3269781,37.3269785,37.3269789,37.326979,37.3269799,37.3269801,37.3269804,37.3269811,37.3269814,37.3269823,37.3269825,37.3269833,37.3269836,37.3269842,37.3269846,37.3269854,37.3269858,37.326987,37.3269873,37.326988,37.3269887,37.3269895,37.3269907,37.3269921,37.3269937,37.3269952,37.3269971,37.3269991,37.3270007,37.327003,37.3270046,37.3270068,37.3270084,37.3270102,37.3270125,37.3270144,37.3270164,37.3270182,37.3270201,37.3270216,37.3270241,37.3270257,37.3270275,37.3270293,37.3270313,37.3270334,37.3270352,37.3270371,37.3270392,37.3270411,37.327043,37.3270451,37.3270471,37.327049,37.3270509,37.3270531,37.3270548,37.3270569,37.3270588,37.3270607,37.3270628,37.3270644,37.3270664,37.3270683,37.3270702,37.3270724,37.3270739,37.327076,37.327078,37.3270799,37.3270819,37.3270837,37.3270859,37.3270875,37.3270893,37.3270911,37.3270929,37.3270947,37.327096,37.3270978,37.3270993,37.327101,37.3271026,37.3271043,37.3271061,37.3271075,37.3271087,37.3271104,37.3271119,37.3271137,37.3271154,37.3271171,37.3271188,37.3271205,37.3271221,37.327124,37.3271254,37.3271271,37.3271287,37.3271306,37.3271322,37.3271337,37.3271355,37.3271369,37.327139,37.3271408,37.3271425,37.3271443,37.3271462,37.3271479,37.3271498,37.3271514,37.3271534,37.3271551,37.3271566,37.3271586,37.3271602,37.327162,37.3271638,37.3271654,37.3271673,37.3271689,37.3271707,37.3271721,37.3271737,37.3271753,37.3271768,37.3271784,37.3271797,37.3271804,37.3271823,37.3271842,37.3271862,37.327188,37.3271901,37.3271918,37.3271938,37.3271958,37.327198,37.3272001,37.3272018,37.3272038,37.3272058,37.3272075,37.3272095,37.3272115,37.3272132,37.3272155,37.3272173,37.3272192,37.3272213,37.327223,37.327225,37.3272268,37.3272287,37.3272307,37.3272327,37.3272347,37.3272367,37.3272387,37.3272406,37.3272426,37.3272444,37.3272467,37.3272486,37.3272506,37.3272526,37.3272545,37.3272565,37.3272584,37.3272605,37.3272625,37.3272647,37.3272664,37.3272688,37.3272708,37.327273,37.3272753,37.3272771,37.3272792,37.3272812,37.3272833,37.3272856,37.3272874,37.3272893,37.3272916,37.3272932,37.3272952,37.3272974,37.3272987,37.3273007,37.3273028,37.327305,37.327307,37.3273091,37.3273113,37.3273135,37.3273157,37.327318,37.3273203,37.3273224,37.3273245,37.3273268,37.327329,37.3273314,37.3273336,37.3273359,37.3273381,37.3273403,37.3273421,37.3273445,37.3273469,37.327349,37.3273509,37.327353,37.3273551,37.3273571,37.3273592,37.3273612,37.3273632,37.3273652,37.3273672,37.3273687,37.327369,37.3273696,37.3273701,37.3273696,37.3273697,37.3273694,37.3273695,37.3273698,37.3273698,37.3273699,37.3273699,37.32737,37.32737,37.32737,37.3273701,37.32737,37.3273701,37.3273701,37.3273702,37.3273702,37.3273703,37.3273703,37.3273704,37.3273706,37.327371,37.3273714,37.3273717,37.3273721,37.3273725,37.327373,37.3273735,37.3273737,37.3273742,37.3273747,37.3273752,37.3273756,37.3273762,37.327377,37.3273775,37.3273781,37.3273785,37.327379,37.3273797,37.3273803,37.3273809,37.3273815,37.327382,37.3273829,37.3273832,37.3273838,37.3273844,37.3273848,37.3273855,37.3273859,37.3273863,37.3273869,37.3273874,37.3273879,37.3273884,37.327389,37.3273895,37.3273901,37.3273906,37.3273912,37.3273919,37.3273925,37.3273928,37.3273936,37.3273942,37.327395,37.3273954,37.327396,37.3273966,37.3273973,37.3273978,37.3273984,37.3273991,37.3273994,37.3274001,37.3274008,37.3274015,37.3274022,37.3274026,37.327403,37.3274037,37.3274045,37.3274049,37.3274056,37.327406,37.3274065,37.3274072,37.3274078,37.3274082,37.3274087,37.3274092,37.3274096,37.3274103,37.3274111,37.3274115,37.327412,37.3274127,37.3274133,37.327414,37.3274145,37.327415,37.3274156,37.327416,37.3274165,37.3274169,37.3274173,37.3274177,37.3274182,37.3274185,37.327419,37.3274194,37.3274199,37.3274203,37.3274208,37.3274213,37.3274217,37.3274222,37.3274227,37.3274231,37.3274236,37.3274241,37.3274247,37.3274252,37.3274257,37.3274262,37.3274265,37.3274268,37.3274273,37.3274279,37.3274283,37.3274288,37.3274292,37.3274296,37.3274299,37.3274305,37.3274308,37.3274312,37.3274317,37.3274322,37.3274327,37.3274331,37.3274335,37.327434,37.3274345,37.3274349,37.3274355,37.3274358,37.3274362,37.3274367,37.3274372,37.3274376,37.3274379,37.3274385,37.3274389,37.3274392,37.3274398,37.3274402,37.3274407,37.3274412,37.3274417,37.3274422,37.3274427,37.3274432,37.3274437,37.3274442,37.3274447,37.3274451,37.3274455,37.3274461,37.3274465,37.3274471,37.3274476,37.327448,37.3274484,37.327449,37.3274495,37.3274499,37.3274504,37.3274509]]]}}},\"view\":{\"type\":\"object\",\"name\":\"CDSView\",\"id\":\"p1044\",\"attributes\":{\"filter\":{\"type\":\"object\",\"name\":\"AllIndices\",\"id\":\"p1045\"}}},\"glyph\":{\"type\":\"object\",\"name\":\"Scatter\",\"id\":\"p1040\",\"attributes\":{\"x\":{\"type\":\"field\",\"field\":\"x\"},\"y\":{\"type\":\"field\",\"field\":\"y\"},\"size\":{\"type\":\"value\",\"value\":10},\"line_color\":{\"type\":\"value\",\"value\":\"blue\"},\"line_alpha\":{\"type\":\"value\",\"value\":0.05},\"fill_color\":{\"type\":\"value\",\"value\":\"blue\"},\"fill_alpha\":{\"type\":\"value\",\"value\":0.05},\"hatch_color\":{\"type\":\"value\",\"value\":\"blue\"},\"hatch_alpha\":{\"type\":\"value\",\"value\":0.05}}},\"nonselection_glyph\":{\"type\":\"object\",\"name\":\"Scatter\",\"id\":\"p1041\",\"attributes\":{\"x\":{\"type\":\"field\",\"field\":\"x\"},\"y\":{\"type\":\"field\",\"field\":\"y\"},\"size\":{\"type\":\"value\",\"value\":10},\"line_color\":{\"type\":\"value\",\"value\":\"blue\"},\"line_alpha\":{\"type\":\"value\",\"value\":0.1},\"fill_color\":{\"type\":\"value\",\"value\":\"blue\"},\"fill_alpha\":{\"type\":\"value\",\"value\":0.1},\"hatch_color\":{\"type\":\"value\",\"value\":\"blue\"},\"hatch_alpha\":{\"type\":\"value\",\"value\":0.1}}},\"muted_glyph\":{\"type\":\"object\",\"name\":\"Scatter\",\"id\":\"p1042\",\"attributes\":{\"x\":{\"type\":\"field\",\"field\":\"x\"},\"y\":{\"type\":\"field\",\"field\":\"y\"},\"size\":{\"type\":\"value\",\"value\":10},\"line_color\":{\"type\":\"value\",\"value\":\"blue\"},\"line_alpha\":{\"type\":\"value\",\"value\":0.2},\"fill_color\":{\"type\":\"value\",\"value\":\"blue\"},\"fill_alpha\":{\"type\":\"value\",\"value\":0.2},\"hatch_color\":{\"type\":\"value\",\"value\":\"blue\"},\"hatch_alpha\":{\"type\":\"value\",\"value\":0.2}}}}}],\"toolbar\":{\"type\":\"object\",\"name\":\"Toolbar\",\"id\":\"p1011\",\"attributes\":{\"tools\":[{\"type\":\"object\",\"name\":\"PanTool\",\"id\":\"p1024\"},{\"type\":\"object\",\"name\":\"WheelZoomTool\",\"id\":\"p1025\",\"attributes\":{\"renderers\":\"auto\"}},{\"type\":\"object\",\"name\":\"BoxZoomTool\",\"id\":\"p1026\",\"attributes\":{\"overlay\":{\"type\":\"object\",\"name\":\"BoxAnnotation\",\"id\":\"p1027\",\"attributes\":{\"syncable\":false,\"line_color\":\"black\",\"line_alpha\":1.0,\"line_width\":2,\"line_dash\":[4,4],\"fill_color\":\"lightgrey\",\"fill_alpha\":0.5,\"level\":\"overlay\",\"visible\":false,\"left\":{\"type\":\"number\",\"value\":\"nan\"},\"right\":{\"type\":\"number\",\"value\":\"nan\"},\"top\":{\"type\":\"number\",\"value\":\"nan\"},\"bottom\":{\"type\":\"number\",\"value\":\"nan\"},\"left_units\":\"canvas\",\"right_units\":\"canvas\",\"top_units\":\"canvas\",\"bottom_units\":\"canvas\",\"handles\":{\"type\":\"object\",\"name\":\"BoxInteractionHandles\",\"id\":\"p1033\",\"attributes\":{\"all\":{\"type\":\"object\",\"name\":\"AreaVisuals\",\"id\":\"p1032\",\"attributes\":{\"fill_color\":\"white\",\"hover_fill_color\":\"lightgray\"}}}}}}}},{\"type\":\"object\",\"name\":\"SaveTool\",\"id\":\"p1034\"},{\"type\":\"object\",\"name\":\"ResetTool\",\"id\":\"p1035\"},{\"type\":\"object\",\"name\":\"HelpTool\",\"id\":\"p1036\"}]}},\"left\":[{\"type\":\"object\",\"name\":\"LinearAxis\",\"id\":\"p1020\",\"attributes\":{\"ticker\":{\"type\":\"object\",\"name\":\"MercatorTicker\",\"id\":\"p1019\",\"attributes\":{\"mantissas\":[1,2,5],\"dimension\":\"lat\"}},\"formatter\":{\"type\":\"object\",\"name\":\"MercatorTickFormatter\",\"id\":\"p1018\",\"attributes\":{\"dimension\":\"lat\"}},\"axis_label\":\"\",\"major_label_policy\":{\"type\":\"object\",\"name\":\"AllLabels\",\"id\":\"p1023\"}}}],\"below\":[{\"type\":\"object\",\"name\":\"LinearAxis\",\"id\":\"p1014\",\"attributes\":{\"ticker\":{\"type\":\"object\",\"name\":\"MercatorTicker\",\"id\":\"p1013\",\"attributes\":{\"mantissas\":[1,2,5],\"dimension\":\"lon\"}},\"formatter\":{\"type\":\"object\",\"name\":\"MercatorTickFormatter\",\"id\":\"p1012\",\"attributes\":{\"dimension\":\"lon\"}},\"axis_label\":\"\",\"major_label_policy\":{\"type\":\"object\",\"name\":\"AllLabels\",\"id\":\"p1017\"}}}],\"map_options\":{\"type\":\"object\",\"name\":\"GMapOptions\",\"id\":\"p1001\",\"attributes\":{\"lat\":37.3271977,\"lng\":-121.89153809999999,\"zoom\":20,\"map_type\":\"satellite\",\"tilt\":0}},\"api_key\":{\"type\":\"bytes\",\"data\":\"QUl6YVN5Qi1qbW1oUmpldmRnUHROckwzbDB4ZTNZVFpiTjNPNzNF\"}}}]}};\n",
       "  const render_items = [{\"docid\":\"422321cb-35fd-4af3-9316-7aeaec1a722c\",\"roots\":{\"p1002\":\"e9ab7689-e668-4675-b710-40bd37c327c4\"},\"root_ids\":[\"p1002\"]}];\n",
       "  void root.Bokeh.embed.embed_items_notebook(docs_json, render_items);\n",
       "  }\n",
       "  if (root.Bokeh !== undefined) {\n",
       "    embed_document(root);\n",
       "  } else {\n",
       "    let attempts = 0;\n",
       "    const timer = setInterval(function(root) {\n",
       "      if (root.Bokeh !== undefined) {\n",
       "        clearInterval(timer);\n",
       "        embed_document(root);\n",
       "      } else {\n",
       "        attempts++;\n",
       "        if (attempts > 100) {\n",
       "          clearInterval(timer);\n",
       "          console.log(\"Bokeh: ERROR: Unable to run BokehJS code because BokehJS library is missing\");\n",
       "        }\n",
       "      }\n",
       "    }, 10, root)\n",
       "  }\n",
       "})(window);"
      ],
      "application/vnd.bokehjs_exec.v0+json": ""
     },
     "metadata": {
      "application/vnd.bokehjs_exec.v0+json": {
       "id": "p1002"
      }
     },
     "output_type": "display_data"
    }
   ],
   "source": [
    "display_map_from_log('logs/robomagellan.2024.robogames.run1.txt')"
   ]
  },
  {
   "cell_type": "markdown",
   "id": "647acfbe-5ed1-4f8f-a4f7-d04a43927cec",
   "metadata": {},
   "source": [
    "### Robogames 2024 - Run 2"
   ]
  },
  {
   "cell_type": "code",
   "execution_count": 8,
   "id": "6adeb667-2a43-41ca-80b4-e1a35bd6b944",
   "metadata": {
    "scrolled": true
   },
   "outputs": [
    {
     "name": "stderr",
     "output_type": "stream",
     "text": [
      "BokehDeprecationWarning: 'circle() method with size value' was deprecated in Bokeh 3.4.0 and will be removed, use 'scatter(size=...) instead' instead.\n"
     ]
    },
    {
     "data": {
      "text/html": [
       "\n",
       "  <div id=\"a4431839-5cdd-4e59-8cf1-e6a9d1b3f17b\" data-root-id=\"p1048\" style=\"display: contents;\"></div>\n"
      ]
     },
     "metadata": {},
     "output_type": "display_data"
    },
    {
     "data": {
      "application/javascript": [
       "(function(root) {\n",
       "  function embed_document(root) {\n",
       "  const docs_json = {\"c4daa6d6-105f-417b-9132-6f21a3db11fb\":{\"version\":\"3.6.0\",\"title\":\"Bokeh Application\",\"roots\":[{\"type\":\"object\",\"name\":\"GMap\",\"id\":\"p1048\",\"attributes\":{\"width\":800,\"x_range\":{\"type\":\"object\",\"name\":\"Range1d\",\"id\":\"p1049\"},\"y_range\":{\"type\":\"object\",\"name\":\"Range1d\",\"id\":\"p1050\"},\"x_scale\":{\"type\":\"object\",\"name\":\"LinearScale\",\"id\":\"p1055\"},\"y_scale\":{\"type\":\"object\",\"name\":\"LinearScale\",\"id\":\"p1056\"},\"title\":{\"type\":\"object\",\"name\":\"Title\",\"id\":\"p1053\",\"attributes\":{\"text\":\"Kybernetes 2 GPS Samples - logs/robomagellan.2024.robogames.run2.txt\"}},\"renderers\":[{\"type\":\"object\",\"name\":\"GlyphRenderer\",\"id\":\"p1089\",\"attributes\":{\"data_source\":{\"type\":\"object\",\"name\":\"ColumnDataSource\",\"id\":\"p1083\",\"attributes\":{\"selected\":{\"type\":\"object\",\"name\":\"Selection\",\"id\":\"p1084\",\"attributes\":{\"indices\":[],\"line_indices\":[]}},\"selection_policy\":{\"type\":\"object\",\"name\":\"UnionRenderers\",\"id\":\"p1085\"},\"data\":{\"type\":\"map\",\"entries\":[[\"x\",[-121.8912158,-121.8912159,-121.8912159,-121.891216,-121.8912159,-121.891216,-121.891216,-121.8912161,-121.891216,-121.8912161,-121.891216,-121.8912161,-121.8912161,-121.8912161,-121.8912161,-121.8912161,-121.8912161,-121.8912161,-121.8912161,-121.8912161,-121.8912161,-121.8912161,-121.8912162,-121.8912161,-121.8912162,-121.8912162,-121.8912162,-121.8912162,-121.8912162,-121.8912162,-121.8912163,-121.8912163,-121.8912163,-121.8912164,-121.8912164,-121.8912164,-121.8912165,-121.8912165,-121.8912166,-121.8912166,-121.8912166,-121.8912166,-121.8912167,-121.8912166,-121.8912167,-121.8912167,-121.8912167,-121.8912167,-121.8912167,-121.8912169,-121.8912168,-121.891217,-121.8912173,-121.8912177,-121.8912182,-121.8912186,-121.8912194,-121.8912202,-121.891221,-121.8912223,-121.8912233,-121.8912246,-121.8912259,-121.8912277,-121.8912292,-121.8912308,-121.8912323,-121.891234,-121.8912359,-121.8912378,-121.8912398,-121.8912418,-121.8912438,-121.8912462,-121.8912479,-121.8912502,-121.8912522,-121.8912541,-121.8912564,-121.8912583,-121.8912604,-121.8912626,-121.8912649,-121.8912668,-121.891269,-121.8912705,-121.8912727,-121.8912748,-121.8912766,-121.8912787,-121.8912804,-121.8912825,-121.8912851,-121.8912871,-121.8912892,-121.8912911,-121.8912937,-121.8912954,-121.8912978,-121.8913001,-121.8913021,-121.8913044,-121.8913066,-121.8913091,-121.8913112,-121.8913136,-121.8913157,-121.8913185,-121.891321,-121.8913232,-121.8913252,-121.8913276,-121.89133,-121.8913321,-121.8913342,-121.8913366,-121.8913386,-121.8913408,-121.8913429,-121.8913449,-121.8913473,-121.8913495,-121.8913518,-121.8913543,-121.8913563,-121.8913583,-121.8913607,-121.8913632,-121.8913652,-121.8913675,-121.8913696,-121.8913705,-121.8913718,-121.8913733,-121.8913751,-121.8913777,-121.8913798,-121.8913819,-121.8913842,-121.8913865,-121.891389,-121.8913912,-121.8913935,-121.8913962,-121.8913983,-121.8914006,-121.8914031,-121.8914052,-121.8914076,-121.8914099,-121.8914124,-121.8914146,-121.8914168,-121.8914192,-121.891422,-121.8914243,-121.8914265,-121.8914285,-121.8914312,-121.8914334,-121.8914353,-121.8914381,-121.8914402,-121.8914427,-121.891445,-121.8914477,-121.8914498,-121.8914521,-121.8914547,-121.8914571,-121.8914595,-121.8914618,-121.8914645,-121.8914666,-121.8914685,-121.8914712,-121.8914733,-121.8914757,-121.8914776,-121.8914798,-121.8914829,-121.891485,-121.8914869,-121.8914891,-121.8914916,-121.8914943,-121.8914966,-121.8914996,-121.8915018,-121.8915044,-121.891507,-121.8915096,-121.891512,-121.8915146,-121.8915173,-121.8915196,-121.891522,-121.8915248,-121.8915268,-121.8915283,-121.8915302,-121.8915309,-121.8915318,-121.8915324,-121.8915332,-121.8915337,-121.8915346,-121.8915352,-121.8915357,-121.8915366,-121.8915371,-121.8915376,-121.8915383,-121.8915387,-121.8915394,-121.8915397,-121.8915402,-121.8915407,-121.8915407,-121.8915409,-121.8915409,-121.8915408,-121.8915409,-121.8915408,-121.8915409,-121.8915409,-121.8915409,-121.891541,-121.8915409,-121.8915409,-121.891541,-121.891541,-121.891541,-121.8915411,-121.8915411,-121.8915411,-121.8915411,-121.8915412,-121.8915412,-121.8915412,-121.8915413,-121.8915413,-121.8915413,-121.8915412,-121.8915414,-121.8915413,-121.8915413,-121.8915414,-121.8915414,-121.8915415,-121.8915416,-121.8915416,-121.8915417,-121.8915417,-121.8915418,-121.8915418,-121.8915417,-121.8915419,-121.8915419,-121.8915419,-121.8915419,-121.8915421,-121.8915421,-121.8915421,-121.8915422,-121.8915422,-121.8915422,-121.8915423,-121.8915423,-121.8915424,-121.8915424,-121.8915425,-121.8915425,-121.8915425,-121.8915425,-121.8915426,-121.8915426,-121.8915427,-121.8915427,-121.8915427,-121.8915427,-121.8915428,-121.8915427,-121.8915426,-121.8915425,-121.8915425,-121.8915424,-121.8915423,-121.8915423,-121.8915422,-121.8915422,-121.8915421,-121.8915421,-121.891542,-121.891542,-121.891542,-121.891542,-121.8915419,-121.891542,-121.8915421,-121.891542,-121.891542,-121.891542,-121.8915419,-121.8915419,-121.891542,-121.8915421,-121.8915419,-121.8915418,-121.8915416,-121.8915414,-121.8915413,-121.891541,-121.8915407,-121.8915405,-121.8915404,-121.8915404,-121.8915402,-121.8915403,-121.8915401,-121.8915401,-121.8915402,-121.89154,-121.8915399,-121.8915399,-121.8915399,-121.8915396,-121.8915394,-121.8915391,-121.8915387,-121.8915386,-121.8915385,-121.8915382,-121.8915379,-121.8915379,-121.8915377,-121.8915374,-121.8915375,-121.8915373,-121.8915373,-121.8915374,-121.8915374,-121.8915372,-121.891537,-121.8915367,-121.8915363,-121.8915362,-121.891536,-121.8915356,-121.8915352,-121.891535,-121.8915348,-121.8915345,-121.8915343,-121.8915341,-121.8915339,-121.8915337,-121.8915338,-121.8915338,-121.8915339,-121.8915338,-121.8915337,-121.8915338,-121.8915339,-121.891534,-121.8915341,-121.8915339,-121.891534,-121.8915339,-121.8915339,-121.8915342,-121.8915343,-121.8915341,-121.891534,-121.891534,-121.891534,-121.8915339,-121.891534,-121.891534,-121.8915339,-121.8915338,-121.8915336,-121.8915338,-121.8915338,-121.8915338,-121.8915338,-121.8915337,-121.8915337,-121.8915336,-121.8915336,-121.8915336,-121.8915334,-121.8915332,-121.8915333,-121.8915332,-121.8915333,-121.8915334,-121.8915332,-121.8915331,-121.8915332,-121.891533,-121.8915331,-121.891533,-121.8915329,-121.8915328,-121.8915326,-121.8915325,-121.8915324,-121.8915326,-121.8915326,-121.8915323,-121.8915324,-121.8915323,-121.891532,-121.8915321,-121.8915322,-121.8915321,-121.891532,-121.891532,-121.8915317,-121.8915316,-121.8915317,-121.8915318,-121.8915316,-121.8915316,-121.8915315,-121.8915313,-121.8915315,-121.8915317,-121.8915313,-121.8915314,-121.8915313,-121.8915311,-121.8915311,-121.891531,-121.8915308,-121.8915308,-121.8915306,-121.8915307,-121.8915306,-121.8915305,-121.8915304,-121.8915304,-121.89153,-121.8915301,-121.8915302,-121.89153,-121.8915301,-121.89153,-121.8915298,-121.89153,-121.8915298,-121.8915296,-121.8915297,-121.8915297,-121.8915296,-121.8915297,-121.8915296,-121.8915293,-121.8915295,-121.8915296,-121.8915294,-121.8915295,-121.8915293,-121.8915294,-121.8915296,-121.8915293,-121.8915294,-121.8915295,-121.8915294,-121.8915294,-121.8915293,-121.8915293,-121.8915294,-121.8915293,-121.8915293,-121.8915293,-121.8915293,-121.8915293,-121.8915294,-121.8915294,-121.8915294,-121.8915294,-121.8915293,-121.8915293,-121.8915293,-121.8915294,-121.8915293,-121.8915294,-121.8915294,-121.8915295,-121.8915296,-121.8915296,-121.8915297,-121.8915297,-121.8915297,-121.8915297,-121.8915298,-121.8915298,-121.8915297,-121.8915297,-121.8915298,-121.8915297,-121.8915297,-121.8915297,-121.8915296,-121.8915297,-121.8915296,-121.8915297,-121.8915296,-121.8915296,-121.8915296,-121.8915295,-121.8915296,-121.8915296,-121.8915296,-121.8915296,-121.8915296,-121.8915296,-121.8915295,-121.8915295,-121.8915294,-121.8915292,-121.8915293,-121.8915291,-121.891529,-121.891529,-121.8915291,-121.8915291,-121.891529,-121.8915291,-121.8915291,-121.8915292,-121.8915292,-121.8915292,-121.8915292,-121.8915293,-121.8915294,-121.8915295,-121.8915294,-121.8915294,-121.8915295,-121.8915295,-121.8915296,-121.8915297,-121.8915299,-121.89153,-121.89153,-121.8915301,-121.8915302,-121.8915304,-121.8915305,-121.8915307,-121.8915309,-121.8915311,-121.8915313,-121.8915313,-121.8915315,-121.8915317,-121.8915319,-121.8915321,-121.8915322,-121.8915323,-121.8915325,-121.8915328,-121.891533,-121.8915333,-121.8915333,-121.8915334,-121.8915334,-121.8915338,-121.891534,-121.8915343,-121.8915345,-121.8915346,-121.8915348,-121.8915348,-121.8915349,-121.8915349,-121.8915351,-121.8915353,-121.8915356,-121.8915356,-121.8915356,-121.8915355,-121.8915354,-121.8915355,-121.8915355,-121.8915355,-121.8915355,-121.8915355,-121.8915355,-121.8915356,-121.8915356,-121.8915355,-121.8915356,-121.8915356,-121.8915357,-121.8915356,-121.8915357,-121.8915357,-121.8915357,-121.8915357,-121.8915356,-121.8915356,-121.8915356,-121.8915356,-121.8915356,-121.8915355,-121.8915354,-121.8915354,-121.8915354,-121.8915354,-121.8915354,-121.8915353,-121.8915354,-121.8915353,-121.8915353,-121.8915352,-121.8915352,-121.8915352,-121.8915353,-121.8915353,-121.8915353,-121.8915353,-121.8915354,-121.8915354,-121.8915355,-121.8915354,-121.8915354,-121.8915354,-121.8915354,-121.8915352,-121.8915352,-121.8915352,-121.8915354,-121.8915353,-121.8915355,-121.8915356,-121.891536,-121.8915363,-121.8915366,-121.891537,-121.8915378,-121.8915386,-121.8915393,-121.8915405,-121.8915417,-121.891543,-121.8915444,-121.8915458,-121.8915473,-121.891549,-121.8915505,-121.891552,-121.8915533,-121.8915549,-121.8915566,-121.8915583,-121.89156,-121.8915617,-121.8915636,-121.8915653,-121.8915672,-121.891569,-121.891571,-121.8915729,-121.8915748,-121.8915767,-121.8915787,-121.8915807,-121.8915828,-121.8915844,-121.8915865,-121.8915885,-121.8915907,-121.891593,-121.8915949,-121.8915973,-121.8915994,-121.8916015,-121.8916037,-121.8916059,-121.8916081,-121.8916102,-121.8916125,-121.8916146,-121.8916167,-121.8916189,-121.8916207,-121.8916228,-121.8916251,-121.8916273,-121.8916292,-121.8916317,-121.8916338,-121.8916361,-121.8916385,-121.8916407,-121.8916429,-121.8916453,-121.8916476,-121.8916499,-121.8916524,-121.891654,-121.891656,-121.8916571,-121.8916586,-121.8916593,-121.8916602,-121.8916607,-121.8916619,-121.8916631,-121.8916642,-121.8916654,-121.8916667,-121.8916679,-121.8916689,-121.8916699,-121.891671,-121.8916723,-121.8916733,-121.8916744,-121.8916751,-121.8916764,-121.8916776,-121.8916787,-121.8916802,-121.8916814,-121.8916822,-121.8916831,-121.8916844,-121.8916857,-121.8916866,-121.8916871,-121.8916882,-121.8916898,-121.8916907,-121.891692,-121.8916928,-121.8916942,-121.8916953,-121.8916965,-121.8916976,-121.8916991,-121.8917005,-121.8917017,-121.8917031,-121.8917044,-121.8917055,-121.8917065,-121.891708,-121.8917092,-121.8917102,-121.8917115,-121.8917127,-121.8917139,-121.8917153,-121.891716,-121.8917165,-121.8917173,-121.8917181,-121.8917193,-121.8917207,-121.8917216,-121.8917225,-121.8917236,-121.8917253,-121.8917263,-121.8917278,-121.8917289,-121.8917305,-121.8917322,-121.8917337,-121.8917352,-121.891737,-121.8917386,-121.8917403,-121.891742,-121.8917438,-121.8917456,-121.8917472,-121.891749,-121.8917507,-121.8917525,-121.8917544,-121.8917565,-121.8917582,-121.8917599,-121.8917622,-121.891764,-121.891766,-121.8917676,-121.8917691,-121.8917715,-121.8917731,-121.8917749,-121.8917773,-121.8917793,-121.8917811,-121.8917831,-121.8917852,-121.8917868,-121.891788,-121.8917885,-121.8917885,-121.8917884,-121.8917884,-121.8917887,-121.8917888,-121.891789,-121.8917892,-121.8917892,-121.8917895,-121.8917897,-121.8917899,-121.8917903,-121.8917906,-121.891791,-121.8917912,-121.8917915,-121.8917918,-121.8917922,-121.8917924,-121.8917924,-121.8917922,-121.8917925,-121.8917924,-121.8917925,-121.8917928,-121.8917926,-121.8917928,-121.8917928,-121.8917928,-121.8917931,-121.8917929,-121.8917931,-121.8917933,-121.8917933,-121.8917934,-121.8917933,-121.8917933,-121.8917933,-121.8917936,-121.8917938,-121.8917943,-121.8917949,-121.8917953,-121.8917957,-121.891796,-121.8917959,-121.8917959,-121.8917963,-121.8917969,-121.8917975,-121.8917979,-121.8917985,-121.8917989,-121.8917994,-121.8917998,-121.8918001,-121.8918006,-121.8918012,-121.8918017,-121.8918019,-121.8918024,-121.891803,-121.8918035,-121.8918042,-121.8918045,-121.8918049,-121.8918056,-121.891806,-121.8918065,-121.8918072,-121.8918077,-121.8918082,-121.8918087,-121.8918093,-121.8918098,-121.8918103,-121.8918107,-121.8918112,-121.8918117,-121.8918123,-121.8918128,-121.8918132,-121.8918137,-121.8918141,-121.8918145,-121.8918149,-121.8918153,-121.8918157,-121.8918161,-121.8918165,-121.8918171,-121.8918169,-121.8918172,-121.8918176,-121.8918179,-121.8918179,-121.8918176,-121.8918176,-121.8918177,-121.8918177,-121.8918176,-121.8918174,-121.8918172,-121.8918172,-121.8918171,-121.8918172,-121.8918174,-121.8918174,-121.8918176,-121.8918177,-121.8918179,-121.8918181,-121.8918184,-121.8918186,-121.8918189,-121.8918192,-121.8918196,-121.8918199,-121.8918202,-121.8918206,-121.8918213,-121.8918216,-121.891822,-121.8918225,-121.891823,-121.8918236,-121.891824,-121.8918244,-121.8918249,-121.8918252,-121.8918256,-121.8918261,-121.8918265,-121.8918267,-121.8918271,-121.8918275,-121.891828,-121.8918282,-121.8918284,-121.8918289,-121.8918293,-121.8918295,-121.8918298,-121.8918303,-121.8918308,-121.8918311,-121.8918317,-121.891832,-121.8918323,-121.8918326,-121.8918329,-121.8918334,-121.8918338,-121.891834,-121.8918344,-121.8918347,-121.891835,-121.8918353,-121.8918356,-121.891836,-121.8918363,-121.8918366,-121.891837,-121.8918374,-121.8918378,-121.8918379,-121.8918384,-121.8918389,-121.8918393,-121.8918395,-121.89184,-121.8918403,-121.8918406,-121.891841,-121.8918415,-121.8918419,-121.8918423,-121.8918427,-121.8918432,-121.8918436,-121.8918439,-121.8918444,-121.8918448,-121.891845,-121.8918457,-121.891846,-121.8918463,-121.8918466,-121.8918471,-121.8918474,-121.8918478,-121.8918483,-121.8918487,-121.891849,-121.8918495,-121.8918499,-121.8918504,-121.8918509,-121.8918513,-121.8918516,-121.8918521,-121.8918526,-121.8918532,-121.8918537,-121.8918541,-121.8918546,-121.8918552,-121.8918557,-121.8918562,-121.8918569,-121.8918574,-121.8918578,-121.8918583,-121.891859,-121.8918594,-121.8918598,-121.8918602,-121.8918609,-121.8918613,-121.8918618,-121.8918623,-121.8918628,-121.8918633,-121.8918637,-121.8918644,-121.8918647,-121.8918652]],[\"y\",[37.3269713,37.3269714,37.3269714,37.3269714,37.3269714,37.3269714,37.3269714,37.3269715,37.3269714,37.3269715,37.3269715,37.3269715,37.3269715,37.3269715,37.3269715,37.3269715,37.3269715,37.3269715,37.3269715,37.3269714,37.3269715,37.3269714,37.3269714,37.3269714,37.3269714,37.3269714,37.3269715,37.3269715,37.3269714,37.3269715,37.3269715,37.3269715,37.3269716,37.3269715,37.3269715,37.3269715,37.3269716,37.3269716,37.3269716,37.3269717,37.3269717,37.3269717,37.3269717,37.3269717,37.3269717,37.3269717,37.3269717,37.3269719,37.3269722,37.3269726,37.326973,37.3269733,37.3269739,37.3269744,37.3269751,37.3269758,37.3269763,37.3269767,37.3269774,37.3269778,37.326978,37.3269783,37.3269782,37.3269782,37.3269778,37.3269774,37.326977,37.3269764,37.3269758,37.3269752,37.3269747,37.3269742,37.3269734,37.3269727,37.326972,37.3269714,37.3269708,37.3269701,37.3269695,37.3269689,37.3269685,37.326968,37.3269673,37.3269666,37.3269658,37.3269655,37.3269648,37.3269642,37.3269633,37.3269621,37.326962,37.3269614,37.3269607,37.3269597,37.3269591,37.3269583,37.3269573,37.3269566,37.3269558,37.3269547,37.3269542,37.3269538,37.326953,37.3269522,37.3269514,37.3269505,37.3269499,37.3269494,37.3269487,37.3269482,37.3269475,37.3269472,37.3269466,37.3269456,37.3269448,37.3269445,37.3269442,37.3269442,37.3269447,37.3269453,37.3269463,37.3269469,37.3269476,37.3269483,37.3269491,37.3269499,37.3269507,37.3269511,37.3269518,37.3269526,37.3269535,37.326955,37.3269562,37.3269571,37.3269579,37.3269588,37.3269594,37.3269603,37.3269608,37.3269615,37.3269622,37.3269628,37.3269636,37.326964,37.3269646,37.3269651,37.3269658,37.3269661,37.3269671,37.3269676,37.3269684,37.3269688,37.3269695,37.3269697,37.3269702,37.3269708,37.3269718,37.3269721,37.3269731,37.3269735,37.3269742,37.3269748,37.3269754,37.3269758,37.3269765,37.3269771,37.326978,37.3269784,37.3269792,37.3269795,37.32698,37.3269803,37.3269807,37.326981,37.3269813,37.3269818,37.3269818,37.3269824,37.3269827,37.3269831,37.3269836,37.3269842,37.326985,37.3269847,37.3269854,37.3269859,37.3269864,37.3269866,37.3269873,37.3269876,37.3269878,37.3269882,37.3269884,37.3269889,37.3269892,37.3269894,37.3269902,37.3269907,37.3269914,37.3269927,37.3269941,37.3269953,37.3269969,37.3269989,37.3270008,37.3270033,37.3270049,37.3270068,37.3270089,37.3270109,37.3270129,37.3270147,37.3270166,37.3270186,37.3270209,37.3270223,37.3270239,37.3270256,37.3270259,37.3270255,37.3270251,37.3270252,37.3270254,37.3270253,37.3270252,37.3270253,37.3270253,37.3270253,37.3270253,37.3270253,37.3270253,37.3270253,37.3270253,37.3270253,37.3270253,37.3270253,37.3270253,37.3270253,37.3270253,37.3270253,37.3270253,37.3270252,37.3270252,37.3270252,37.3270252,37.3270252,37.3270252,37.3270252,37.3270252,37.3270252,37.3270253,37.3270253,37.3270255,37.3270257,37.3270258,37.3270261,37.3270263,37.3270266,37.3270268,37.3270268,37.3270266,37.3270265,37.3270266,37.3270267,37.3270266,37.3270266,37.3270266,37.3270267,37.3270267,37.3270268,37.327027,37.3270271,37.3270272,37.3270274,37.3270275,37.3270276,37.3270277,37.327028,37.3270281,37.3270283,37.3270285,37.3270286,37.3270288,37.327029,37.3270293,37.3270297,37.3270299,37.3270301,37.3270304,37.3270307,37.327031,37.3270313,37.3270316,37.3270319,37.3270324,37.3270329,37.3270332,37.3270336,37.327034,37.3270343,37.3270347,37.3270351,37.3270355,37.3270359,37.3270364,37.3270369,37.3270373,37.3270377,37.3270379,37.3270384,37.3270388,37.3270392,37.3270396,37.32704,37.3270403,37.3270405,37.3270409,37.3270414,37.3270419,37.3270424,37.3270429,37.3270434,37.3270438,37.3270441,37.3270445,37.3270446,37.3270449,37.3270452,37.3270454,37.3270458,37.3270462,37.3270466,37.327047,37.3270476,37.3270481,37.3270484,37.3270488,37.3270495,37.3270499,37.3270505,37.3270511,37.3270516,37.3270522,37.3270527,37.3270531,37.3270536,37.3270539,37.3270544,37.3270548,37.3270552,37.3270557,37.3270562,37.3270566,37.327057,37.3270575,37.3270579,37.3270584,37.3270587,37.3270591,37.3270597,37.3270601,37.3270606,37.3270611,37.3270615,37.3270619,37.3270625,37.3270631,37.3270638,37.3270641,37.3270648,37.3270653,37.3270656,37.3270662,37.3270668,37.3270675,37.3270681,37.3270686,37.3270692,37.3270697,37.3270702,37.3270707,37.3270715,37.327072,37.3270725,37.3270731,37.3270736,37.3270741,37.3270746,37.3270751,37.3270756,37.3270763,37.3270766,37.3270772,37.3270777,37.3270781,37.3270786,37.3270792,37.3270797,37.3270802,37.3270808,37.3270814,37.3270819,37.3270824,37.3270829,37.3270835,37.3270839,37.3270845,37.327085,37.3270855,37.327086,37.3270864,37.3270869,37.3270874,37.3270879,37.3270884,37.3270888,37.3270893,37.3270898,37.3270902,37.3270905,37.327091,37.3270916,37.3270922,37.3270926,37.327093,37.3270935,37.3270937,37.3270941,37.3270946,37.3270952,37.3270958,37.3270962,37.3270966,37.3270971,37.3270975,37.327098,37.3270985,37.3270989,37.3270995,37.3271,37.3271005,37.3271011,37.3271015,37.3271019,37.3271023,37.3271028,37.3271033,37.3271038,37.3271043,37.3271046,37.3271048,37.3271052,37.3271057,37.3271064,37.3271069,37.3271074,37.3271078,37.3271083,37.3271088,37.3271093,37.32711,37.3271105,37.3271111,37.3271115,37.327112,37.3271124,37.3271127,37.3271129,37.3271127,37.3271125,37.3271126,37.3271127,37.3271126,37.3271127,37.3271126,37.3271124,37.3271124,37.3271124,37.3271123,37.3271122,37.3271121,37.3271121,37.327112,37.327112,37.3271119,37.3271118,37.3271117,37.3271116,37.3271115,37.3271113,37.3271111,37.3271109,37.3271108,37.3271106,37.3271105,37.3271102,37.3271101,37.3271099,37.3271096,37.3271092,37.3271089,37.3271088,37.3271089,37.327109,37.3271091,37.327109,37.3271088,37.3271088,37.3271088,37.3271087,37.3271087,37.3271086,37.3271084,37.3271082,37.327108,37.3271079,37.3271077,37.3271075,37.3271073,37.3271069,37.3271067,37.3271065,37.3271062,37.3271059,37.3271056,37.3271055,37.3271055,37.3271056,37.3271056,37.3271057,37.3271057,37.3271058,37.3271059,37.3271059,37.327106,37.3271061,37.3271062,37.3271063,37.3271064,37.3271064,37.3271063,37.3271065,37.3271065,37.3271066,37.3271067,37.3271069,37.3271072,37.3271076,37.3271079,37.327108,37.3271082,37.3271086,37.3271089,37.3271091,37.3271094,37.3271096,37.3271099,37.3271103,37.3271106,37.3271109,37.3271112,37.3271116,37.3271117,37.3271119,37.3271123,37.3271126,37.327113,37.3271132,37.3271136,37.3271138,37.3271141,37.3271143,37.3271145,37.3271148,37.3271152,37.3271156,37.3271159,37.3271161,37.3271163,37.3271165,37.3271167,37.3271169,37.3271171,37.3271171,37.327117,37.327117,37.3271171,37.3271171,37.3271172,37.3271171,37.3271172,37.3271173,37.3271173,37.3271173,37.3271174,37.3271176,37.3271176,37.3271178,37.3271179,37.327118,37.3271182,37.3271182,37.3271183,37.3271184,37.3271185,37.3271186,37.3271187,37.3271186,37.3271186,37.3271186,37.3271185,37.3271186,37.3271187,37.3271186,37.3271186,37.3271187,37.3271187,37.3271188,37.3271188,37.3271189,37.327119,37.3271192,37.3271194,37.3271195,37.3271197,37.3271198,37.32712,37.3271202,37.3271202,37.3271201,37.3271201,37.3271202,37.3271204,37.3271206,37.3271209,37.3271214,37.3271217,37.3271222,37.3271229,37.3271234,37.327124,37.3271249,37.3271255,37.3271258,37.3271266,37.3271273,37.3271277,37.3271282,37.3271289,37.3271297,37.3271302,37.327131,37.3271319,37.3271324,37.3271336,37.3271343,37.3271354,37.3271362,37.3271371,37.327138,37.327139,37.32714,37.3271409,37.3271419,37.3271428,37.3271437,37.3271445,37.3271457,37.3271467,37.3271478,37.3271487,37.3271499,37.3271511,37.3271523,37.3271533,37.3271545,37.3271556,37.3271568,37.327158,37.3271591,37.3271601,37.3271612,37.3271623,37.3271635,37.3271643,37.327165,37.3271662,37.3271671,37.3271683,37.3271692,37.32717,37.3271711,37.3271719,37.3271728,37.3271739,37.3271747,37.3271756,37.3271766,37.3271772,37.3271781,37.3271789,37.3271796,37.3271802,37.327181,37.3271819,37.3271836,37.3271851,37.3271865,37.3271886,37.3271906,37.3271925,37.3271947,37.3271964,37.3271984,37.3272,37.327202,37.327204,37.3272061,37.327208,37.3272099,37.3272118,37.3272138,37.3272157,37.3272175,37.3272194,37.3272212,37.327223,37.3272248,37.3272269,37.3272288,37.3272307,37.3272326,37.3272349,37.3272367,37.3272387,37.3272405,37.3272425,37.3272443,37.3272461,37.3272482,37.3272502,37.3272521,37.3272541,37.3272561,37.3272579,37.32726,37.3272619,37.3272637,37.3272658,37.3272676,37.3272696,37.3272716,37.3272734,37.3272759,37.3272777,37.3272799,37.3272819,37.327284,37.3272862,37.3272882,37.3272901,37.327292,37.327294,37.3272958,37.3272977,37.3272999,37.3273016,37.3273038,37.3273054,37.3273076,37.3273094,37.3273111,37.327313,37.3273151,37.3273172,37.3273191,37.3273212,37.3273232,37.3273253,37.3273275,37.3273295,37.3273317,37.3273338,37.327336,37.3273383,37.3273403,37.3273425,37.3273446,37.3273468,37.3273487,37.3273508,37.3273526,37.3273548,37.3273568,37.3273586,37.3273606,37.3273624,37.3273641,37.3273659,37.3273676,37.3273694,37.327371,37.3273724,37.3273731,37.3273736,37.3273735,37.3273732,37.3273732,37.3273732,37.3273734,37.3273734,37.3273734,37.3273734,37.3273735,37.3273736,37.3273736,37.3273737,37.3273739,37.3273741,37.3273743,37.3273745,37.3273748,37.3273749,37.327375,37.3273748,37.3273749,37.327375,37.3273749,37.3273749,37.3273749,37.3273748,37.3273749,37.3273748,37.3273748,37.3273748,37.3273747,37.3273749,37.3273747,37.3273748,37.3273748,37.3273747,37.3273747,37.3273747,37.3273749,37.3273751,37.3273755,37.3273759,37.3273764,37.3273767,37.327377,37.3273768,37.327377,37.3273774,37.327378,37.3273784,37.3273789,37.3273793,37.3273796,37.32738,37.3273804,37.3273808,37.3273812,37.3273816,37.3273821,37.3273826,37.3273829,37.3273834,37.3273838,37.327384,37.3273846,37.3273849,37.3273855,37.327386,37.3273865,37.327387,37.3273875,37.327388,37.3273884,37.3273889,37.3273893,37.3273899,37.3273903,37.3273907,37.327391,37.3273915,37.3273919,37.3273925,37.3273927,37.327393,37.3273935,37.3273938,37.3273944,37.3273948,37.3273953,37.3273957,37.3273962,37.3273966,37.327397,37.3273974,37.3273979,37.3273983,37.3273988,37.3273991,37.3273996,37.3274,37.3274003,37.327401,37.3274016,37.3274019,37.3274025,37.3274029,37.3274032,37.3274037,37.3274042,37.3274046,37.3274049,37.3274054,37.3274059,37.3274061,37.3274063,37.3274068,37.3274072,37.3274078,37.3274083,37.3274087,37.327409,37.3274095,37.3274099,37.3274103,37.3274106,37.3274111,37.3274114,37.3274117,37.3274125,37.3274127,37.327413,37.3274135,37.3274139,37.3274143,37.3274146,37.3274152,37.3274157,37.3274161,37.3274166,37.327417,37.3274174,37.3274177,37.3274182,37.3274187,37.3274192,37.3274196,37.32742,37.3274205,37.3274211,37.3274214,37.3274217,37.3274222,37.3274226,37.327423,37.3274235,37.3274239,37.3274243,37.3274246,37.3274249,37.3274254,37.3274258,37.3274262,37.3274266,37.327427,37.3274273,37.3274278,37.3274283,37.3274287,37.327429,37.3274293,37.3274297,37.3274301,37.3274306,37.3274309,37.3274314,37.3274318,37.3274322,37.3274325,37.3274329,37.3274334,37.3274337,37.3274342,37.3274346,37.327435,37.3274352,37.3274356,37.3274362,37.3274366,37.3274369,37.3274374,37.3274377,37.3274381,37.3274385,37.3274389,37.3274393,37.3274398,37.3274403,37.3274406,37.327441,37.3274413,37.3274417,37.3274423,37.3274427,37.3274432,37.3274435,37.327444,37.3274442,37.3274447,37.3274453,37.3274456,37.327446,37.3274466,37.3274471,37.3274476,37.3274481,37.3274485,37.3274491,37.3274496,37.3274499,37.3274505,37.3274508,37.3274513,37.3274517,37.3274521,37.3274525,37.327453,37.3274534]]]}}},\"view\":{\"type\":\"object\",\"name\":\"CDSView\",\"id\":\"p1090\",\"attributes\":{\"filter\":{\"type\":\"object\",\"name\":\"AllIndices\",\"id\":\"p1091\"}}},\"glyph\":{\"type\":\"object\",\"name\":\"Scatter\",\"id\":\"p1086\",\"attributes\":{\"x\":{\"type\":\"field\",\"field\":\"x\"},\"y\":{\"type\":\"field\",\"field\":\"y\"},\"size\":{\"type\":\"value\",\"value\":10},\"line_color\":{\"type\":\"value\",\"value\":\"blue\"},\"line_alpha\":{\"type\":\"value\",\"value\":0.05},\"fill_color\":{\"type\":\"value\",\"value\":\"blue\"},\"fill_alpha\":{\"type\":\"value\",\"value\":0.05},\"hatch_color\":{\"type\":\"value\",\"value\":\"blue\"},\"hatch_alpha\":{\"type\":\"value\",\"value\":0.05}}},\"nonselection_glyph\":{\"type\":\"object\",\"name\":\"Scatter\",\"id\":\"p1087\",\"attributes\":{\"x\":{\"type\":\"field\",\"field\":\"x\"},\"y\":{\"type\":\"field\",\"field\":\"y\"},\"size\":{\"type\":\"value\",\"value\":10},\"line_color\":{\"type\":\"value\",\"value\":\"blue\"},\"line_alpha\":{\"type\":\"value\",\"value\":0.1},\"fill_color\":{\"type\":\"value\",\"value\":\"blue\"},\"fill_alpha\":{\"type\":\"value\",\"value\":0.1},\"hatch_color\":{\"type\":\"value\",\"value\":\"blue\"},\"hatch_alpha\":{\"type\":\"value\",\"value\":0.1}}},\"muted_glyph\":{\"type\":\"object\",\"name\":\"Scatter\",\"id\":\"p1088\",\"attributes\":{\"x\":{\"type\":\"field\",\"field\":\"x\"},\"y\":{\"type\":\"field\",\"field\":\"y\"},\"size\":{\"type\":\"value\",\"value\":10},\"line_color\":{\"type\":\"value\",\"value\":\"blue\"},\"line_alpha\":{\"type\":\"value\",\"value\":0.2},\"fill_color\":{\"type\":\"value\",\"value\":\"blue\"},\"fill_alpha\":{\"type\":\"value\",\"value\":0.2},\"hatch_color\":{\"type\":\"value\",\"value\":\"blue\"},\"hatch_alpha\":{\"type\":\"value\",\"value\":0.2}}}}}],\"toolbar\":{\"type\":\"object\",\"name\":\"Toolbar\",\"id\":\"p1057\",\"attributes\":{\"tools\":[{\"type\":\"object\",\"name\":\"PanTool\",\"id\":\"p1070\"},{\"type\":\"object\",\"name\":\"WheelZoomTool\",\"id\":\"p1071\",\"attributes\":{\"renderers\":\"auto\"}},{\"type\":\"object\",\"name\":\"BoxZoomTool\",\"id\":\"p1072\",\"attributes\":{\"overlay\":{\"type\":\"object\",\"name\":\"BoxAnnotation\",\"id\":\"p1073\",\"attributes\":{\"syncable\":false,\"line_color\":\"black\",\"line_alpha\":1.0,\"line_width\":2,\"line_dash\":[4,4],\"fill_color\":\"lightgrey\",\"fill_alpha\":0.5,\"level\":\"overlay\",\"visible\":false,\"left\":{\"type\":\"number\",\"value\":\"nan\"},\"right\":{\"type\":\"number\",\"value\":\"nan\"},\"top\":{\"type\":\"number\",\"value\":\"nan\"},\"bottom\":{\"type\":\"number\",\"value\":\"nan\"},\"left_units\":\"canvas\",\"right_units\":\"canvas\",\"top_units\":\"canvas\",\"bottom_units\":\"canvas\",\"handles\":{\"type\":\"object\",\"name\":\"BoxInteractionHandles\",\"id\":\"p1079\",\"attributes\":{\"all\":{\"type\":\"object\",\"name\":\"AreaVisuals\",\"id\":\"p1078\",\"attributes\":{\"fill_color\":\"white\",\"hover_fill_color\":\"lightgray\"}}}}}}}},{\"type\":\"object\",\"name\":\"SaveTool\",\"id\":\"p1080\"},{\"type\":\"object\",\"name\":\"ResetTool\",\"id\":\"p1081\"},{\"type\":\"object\",\"name\":\"HelpTool\",\"id\":\"p1082\"}]}},\"left\":[{\"type\":\"object\",\"name\":\"LinearAxis\",\"id\":\"p1066\",\"attributes\":{\"ticker\":{\"type\":\"object\",\"name\":\"MercatorTicker\",\"id\":\"p1065\",\"attributes\":{\"mantissas\":[1,2,5],\"dimension\":\"lat\"}},\"formatter\":{\"type\":\"object\",\"name\":\"MercatorTickFormatter\",\"id\":\"p1064\",\"attributes\":{\"dimension\":\"lat\"}},\"axis_label\":\"\",\"major_label_policy\":{\"type\":\"object\",\"name\":\"AllLabels\",\"id\":\"p1069\"}}}],\"below\":[{\"type\":\"object\",\"name\":\"LinearAxis\",\"id\":\"p1060\",\"attributes\":{\"ticker\":{\"type\":\"object\",\"name\":\"MercatorTicker\",\"id\":\"p1059\",\"attributes\":{\"mantissas\":[1,2,5],\"dimension\":\"lon\"}},\"formatter\":{\"type\":\"object\",\"name\":\"MercatorTickFormatter\",\"id\":\"p1058\",\"attributes\":{\"dimension\":\"lon\"}},\"axis_label\":\"\",\"major_label_policy\":{\"type\":\"object\",\"name\":\"AllLabels\",\"id\":\"p1063\"}}}],\"map_options\":{\"type\":\"object\",\"name\":\"GMapOptions\",\"id\":\"p1047\",\"attributes\":{\"lat\":37.327198800000005,\"lng\":-121.89154049999999,\"zoom\":20,\"map_type\":\"satellite\",\"tilt\":0}},\"api_key\":{\"type\":\"bytes\",\"data\":\"QUl6YVN5Qi1qbW1oUmpldmRnUHROckwzbDB4ZTNZVFpiTjNPNzNF\"}}}]}};\n",
       "  const render_items = [{\"docid\":\"c4daa6d6-105f-417b-9132-6f21a3db11fb\",\"roots\":{\"p1048\":\"a4431839-5cdd-4e59-8cf1-e6a9d1b3f17b\"},\"root_ids\":[\"p1048\"]}];\n",
       "  void root.Bokeh.embed.embed_items_notebook(docs_json, render_items);\n",
       "  }\n",
       "  if (root.Bokeh !== undefined) {\n",
       "    embed_document(root);\n",
       "  } else {\n",
       "    let attempts = 0;\n",
       "    const timer = setInterval(function(root) {\n",
       "      if (root.Bokeh !== undefined) {\n",
       "        clearInterval(timer);\n",
       "        embed_document(root);\n",
       "      } else {\n",
       "        attempts++;\n",
       "        if (attempts > 100) {\n",
       "          clearInterval(timer);\n",
       "          console.log(\"Bokeh: ERROR: Unable to run BokehJS code because BokehJS library is missing\");\n",
       "        }\n",
       "      }\n",
       "    }, 10, root)\n",
       "  }\n",
       "})(window);"
      ],
      "application/vnd.bokehjs_exec.v0+json": ""
     },
     "metadata": {
      "application/vnd.bokehjs_exec.v0+json": {
       "id": "p1048"
      }
     },
     "output_type": "display_data"
    }
   ],
   "source": [
    "display_map_from_log('logs/robomagellan.2024.robogames.run2.txt')"
   ]
  },
  {
   "cell_type": "markdown",
   "id": "556f2151-0a31-4c86-a88f-a72e0a9c0395",
   "metadata": {},
   "source": [
    "### Robogames 2023 - Run 1"
   ]
  },
  {
   "cell_type": "code",
   "execution_count": 10,
   "id": "a81910be-9a93-46dc-9390-04bca81eacbe",
   "metadata": {},
   "outputs": [
    {
     "name": "stderr",
     "output_type": "stream",
     "text": [
      "BokehDeprecationWarning: 'circle() method with size value' was deprecated in Bokeh 3.4.0 and will be removed, use 'scatter(size=...) instead' instead.\n"
     ]
    },
    {
     "data": {
      "text/html": [
       "\n",
       "  <div id=\"bc8ff316-07f2-44a5-8179-6671191b8050\" data-root-id=\"p1140\" style=\"display: contents;\"></div>\n"
      ]
     },
     "metadata": {},
     "output_type": "display_data"
    },
    {
     "data": {
      "application/javascript": [
       "(function(root) {\n",
       "  function embed_document(root) {\n",
       "  const docs_json = {\"21750d02-45c5-4bc3-b210-f4e3728307d1\":{\"version\":\"3.6.0\",\"title\":\"Bokeh Application\",\"roots\":[{\"type\":\"object\",\"name\":\"GMap\",\"id\":\"p1140\",\"attributes\":{\"width\":800,\"x_range\":{\"type\":\"object\",\"name\":\"Range1d\",\"id\":\"p1141\"},\"y_range\":{\"type\":\"object\",\"name\":\"Range1d\",\"id\":\"p1142\"},\"x_scale\":{\"type\":\"object\",\"name\":\"LinearScale\",\"id\":\"p1147\"},\"y_scale\":{\"type\":\"object\",\"name\":\"LinearScale\",\"id\":\"p1148\"},\"title\":{\"type\":\"object\",\"name\":\"Title\",\"id\":\"p1145\",\"attributes\":{\"text\":\"Kybernetes 2 GPS Samples - logs/robomagellan.2023.robogames.run1.txt\"}},\"renderers\":[{\"type\":\"object\",\"name\":\"GlyphRenderer\",\"id\":\"p1181\",\"attributes\":{\"data_source\":{\"type\":\"object\",\"name\":\"ColumnDataSource\",\"id\":\"p1175\",\"attributes\":{\"selected\":{\"type\":\"object\",\"name\":\"Selection\",\"id\":\"p1176\",\"attributes\":{\"indices\":[],\"line_indices\":[]}},\"selection_policy\":{\"type\":\"object\",\"name\":\"UnionRenderers\",\"id\":\"p1177\"},\"data\":{\"type\":\"map\",\"entries\":[[\"x\",[-121.8860727,-121.8860728,-121.8860728,-121.8860727,-121.8860727,-121.8860726,-121.8860726,-121.8860725,-121.8860724,-121.8860725,-121.8860725,-121.8860723,-121.8860723,-121.8860723,-121.8860724,-121.8860722,-121.8860723,-121.8860721,-121.886072,-121.8860719,-121.8860719,-121.886072,-121.8860718,-121.8860718,-121.8860716,-121.8860715,-121.8860715,-121.8860715,-121.8860715,-121.8860715,-121.8860714,-121.8860714,-121.8860714,-121.8860714,-121.8860713,-121.8860713,-121.8860713,-121.8860712,-121.8860712,-121.8860711,-121.8860711,-121.8860711,-121.8860709,-121.8860709,-121.8860707,-121.8860709,-121.8860708,-121.8860706,-121.8860704,-121.8860705,-121.8860704,-121.8860703,-121.8860705,-121.8860704,-121.8860702,-121.8860702,-121.8860701,-121.8860701,-121.8860701,-121.88607,-121.8860701,-121.88607,-121.88607,-121.88607,-121.8860699,-121.8860697,-121.8860698,-121.8860696,-121.8860696,-121.8860695,-121.8860693,-121.8860693,-121.8860692,-121.8860692,-121.8860691,-121.8860691,-121.886069,-121.8860688,-121.8860687,-121.8860687,-121.8860687,-121.8860685,-121.8860685,-121.8860684,-121.8860683,-121.8860682,-121.8860681,-121.886068,-121.886068,-121.8860679,-121.8860679,-121.8860678,-121.8860677,-121.8860676,-121.8860675,-121.8860675,-121.8860675,-121.8860674,-121.8860673,-121.8860672,-121.8860672,-121.8860671,-121.886067,-121.886067,-121.8860669,-121.8860668,-121.8860668,-121.8860666,-121.8860666,-121.8860665,-121.8860665,-121.8860665,-121.8860664,-121.8860665,-121.8860663,-121.8860663,-121.886066,-121.886066,-121.8860658,-121.8860658,-121.8860656,-121.8860655,-121.8860652,-121.8860651,-121.8860649,-121.8860647,-121.8860644,-121.8860643,-121.8860644,-121.8860643,-121.8860641,-121.8860641,-121.886064,-121.8860639,-121.8860637,-121.8860637,-121.8860637,-121.8860638,-121.8860638,-121.8860637,-121.8860635,-121.8860636,-121.8860635,-121.8860636,-121.8860636,-121.8860635,-121.8860635,-121.8860633,-121.8860633,-121.8860635,-121.8860633,-121.8860635,-121.8860632,-121.8860631,-121.8860632,-121.8860632,-121.8860627,-121.8860617,-121.8860602,-121.8860577,-121.886054,-121.8860493,-121.886044,-121.8860381,-121.8860315,-121.8860251,-121.8860181,-121.8860113,-121.8860041,-121.885997,-121.8859897,-121.8859824,-121.8859751,-121.885968,-121.8859606,-121.8859535,-121.8859465,-121.8859392,-121.8859324,-121.8859254,-121.8859185,-121.8859119,-121.8859054,-121.8858989,-121.8858925,-121.8858862,-121.8858798,-121.885874,-121.8858678,-121.8858618,-121.8858559,-121.8858508,-121.8858457,-121.8858408,-121.8858358,-121.8858299,-121.8858242,-121.8858189,-121.8858132,-121.8858071,-121.8858009,-121.8857956,-121.8857906,-121.8857858,-121.8857813,-121.8857771,-121.8857729,-121.8857694,-121.8857661,-121.8857629,-121.88576,-121.8857572,-121.8857548,-121.8857528,-121.8857508,-121.8857492,-121.8857477,-121.8857465,-121.8857453,-121.8857442,-121.8857435,-121.8857429,-121.8857425,-121.8857422,-121.8857422,-121.8857422,-121.8857421,-121.885742,-121.8857415,-121.8857399,-121.885738,-121.8857349,-121.8857312,-121.885727,-121.8857223,-121.8857166,-121.8857109,-121.8857046,-121.885698,-121.8856911,-121.885684,-121.8856773,-121.8856711,-121.8856651,-121.8856596,-121.8856545,-121.8856494,-121.885645,-121.8856408,-121.8856369,-121.8856331,-121.8856297,-121.8856264,-121.8856237,-121.8856212,-121.8856192,-121.8856174,-121.885616,-121.8856151,-121.8856144,-121.8856138,-121.8856135,-121.8856134,-121.8856136,-121.8856137,-121.8856138,-121.8856139,-121.885614,-121.8856137,-121.8856126,-121.8856108,-121.8856086,-121.8856061,-121.8856043,-121.8856018,-121.8855989,-121.885596,-121.8855929,-121.8855896,-121.8855862,-121.8855827,-121.8855791,-121.8855755,-121.8855718,-121.8855686,-121.8855653,-121.8855619,-121.8855586,-121.8855554,-121.8855523,-121.8855489,-121.8855457,-121.8855428,-121.8855399,-121.8855372,-121.8855346,-121.885532,-121.8855295,-121.8855272,-121.8855247,-121.8855224,-121.8855199,-121.8855175,-121.8855153,-121.8855133,-121.8855113,-121.8855096,-121.885508,-121.8855072,-121.8855063,-121.8855035,-121.8854995,-121.8854961,-121.8854925,-121.8854886,-121.8854849,-121.885481,-121.8854772,-121.8854733,-121.8854693,-121.8854655,-121.8854617,-121.8854579,-121.8854542,-121.8854503,-121.8854468,-121.8854429,-121.8854394,-121.8854358,-121.8854322,-121.8854286,-121.8854249,-121.8854214,-121.8854179,-121.8854146,-121.8854113,-121.885408,-121.8854048,-121.8854017,-121.8853988,-121.8853957,-121.885393,-121.8853906,-121.8853884,-121.8853876,-121.8853879,-121.8853881,-121.885388,-121.8853882,-121.8853885,-121.8853888,-121.885389,-121.8853892,-121.8853895,-121.8853899,-121.8853903,-121.8853905,-121.8853907,-121.8853911,-121.8853917,-121.8853919,-121.8853924,-121.8853928,-121.8853932,-121.8853938,-121.8853943,-121.885395,-121.8853955,-121.8853963,-121.8853969,-121.8853976,-121.8853985,-121.8853993,-121.8854002,-121.8854014,-121.8854023,-121.8854033,-121.8854045,-121.8854053,-121.8854065,-121.8854078,-121.8854092,-121.8854103,-121.8854112,-121.8854112,-121.8854113,-121.8854115,-121.8854118,-121.8854122,-121.8854125,-121.8854126,-121.8854126,-121.8854127,-121.8854127,-121.8854129,-121.8854129,-121.885413,-121.8854129,-121.885413,-121.885413,-121.8854129,-121.8854128,-121.8854126,-121.8854125,-121.8854123,-121.8854122,-121.8854118,-121.8854117,-121.8854113,-121.8854111,-121.8854109,-121.8854104,-121.8854102,-121.8854099,-121.8854096,-121.8854093,-121.885409,-121.8854088,-121.8854084,-121.8854082,-121.8854079,-121.8854077,-121.8854074,-121.8854073,-121.8854072,-121.885407,-121.8854069,-121.8854067,-121.8854065,-121.8854061,-121.8854058,-121.8854055,-121.8854052,-121.8854049,-121.8854046,-121.8854043,-121.885404,-121.8854038,-121.8854037,-121.8854034,-121.8854033,-121.8854032,-121.8854029,-121.8854028,-121.8854025,-121.8854022,-121.8854019,-121.8854016,-121.8854012,-121.8854009,-121.8854007,-121.8854005,-121.8854003,-121.8854002,-121.8854001,-121.8854,-121.8853997,-121.8853994,-121.885399,-121.8853986,-121.8853982,-121.8853979,-121.8853974,-121.8853971,-121.8853969,-121.8853967,-121.8853965,-121.8853963,-121.8853962,-121.885396,-121.8853959,-121.8853957,-121.8853954,-121.8853951,-121.8853948,-121.8853946,-121.8853943]],[\"y\",[37.6594422,37.6594422,37.6594422,37.6594421,37.6594422,37.659442,37.6594421,37.6594421,37.659442,37.659442,37.6594419,37.6594419,37.6594418,37.6594418,37.6594419,37.6594419,37.6594419,37.6594419,37.6594418,37.6594418,37.6594419,37.6594417,37.6594417,37.6594417,37.6594417,37.6594417,37.6594416,37.6594417,37.6594416,37.6594415,37.6594415,37.6594414,37.6594414,37.6594414,37.6594413,37.6594413,37.6594412,37.6594413,37.6594412,37.6594412,37.6594411,37.659441,37.6594411,37.6594411,37.6594411,37.6594411,37.659441,37.659441,37.659441,37.6594411,37.659441,37.659441,37.6594411,37.659441,37.6594409,37.659441,37.659441,37.659441,37.6594409,37.6594408,37.6594408,37.6594408,37.6594407,37.6594408,37.6594407,37.6594405,37.6594405,37.6594404,37.6594403,37.6594401,37.6594401,37.6594401,37.65944,37.6594399,37.65944,37.6594399,37.6594398,37.6594397,37.6594398,37.6594397,37.6594397,37.6594395,37.6594396,37.6594395,37.6594394,37.6594393,37.6594393,37.6594392,37.6594392,37.6594392,37.6594392,37.6594392,37.6594391,37.6594391,37.659439,37.6594391,37.659439,37.6594391,37.659439,37.659439,37.6594389,37.6594388,37.6594388,37.6594387,37.6594386,37.6594386,37.6594387,37.6594385,37.6594387,37.6594386,37.6594386,37.6594386,37.6594386,37.6594386,37.6594385,37.6594385,37.6594384,37.6594384,37.6594384,37.6594384,37.6594383,37.6594382,37.6594384,37.6594383,37.6594383,37.6594383,37.6594382,37.6594381,37.6594382,37.6594381,37.6594381,37.659438,37.659438,37.6594379,37.6594378,37.6594377,37.6594377,37.6594376,37.6594376,37.6594375,37.6594374,37.6594375,37.6594374,37.6594375,37.6594375,37.6594374,37.6594375,37.6594374,37.6594374,37.6594375,37.6594374,37.6594373,37.659437,37.6594371,37.6594371,37.6594373,37.6594387,37.6594401,37.6594417,37.6594428,37.6594426,37.6594423,37.6594414,37.6594408,37.6594405,37.6594401,37.6594392,37.6594388,37.6594382,37.6594373,37.6594369,37.6594368,37.6594361,37.6594356,37.659435,37.6594346,37.6594341,37.6594337,37.6594334,37.6594329,37.6594325,37.6594324,37.6594323,37.6594322,37.659432,37.659432,37.659432,37.6594327,37.6594334,37.6594339,37.659435,37.6594374,37.6594384,37.659437,37.6594359,37.6594347,37.6594335,37.6594327,37.6594317,37.6594304,37.6594293,37.6594285,37.6594278,37.6594272,37.6594266,37.6594261,37.6594254,37.6594254,37.659425,37.6594249,37.6594245,37.6594245,37.6594244,37.6594246,37.6594243,37.6594242,37.6594242,37.6594243,37.6594242,37.6594241,37.6594239,37.6594238,37.6594237,37.6594238,37.6594237,37.6594237,37.6594236,37.6594237,37.6594238,37.6594238,37.659424,37.6594236,37.6594233,37.6594226,37.6594224,37.659422,37.6594213,37.6594206,37.6594196,37.6594184,37.6594172,37.6594159,37.6594148,37.6594138,37.6594128,37.6594119,37.6594112,37.6594104,37.6594096,37.659409,37.6594085,37.659408,37.6594073,37.6594069,37.6594065,37.6594061,37.6594059,37.6594056,37.6594054,37.6594051,37.6594048,37.6594046,37.6594045,37.6594045,37.6594044,37.6594044,37.6594042,37.6594043,37.6594043,37.6594045,37.6594049,37.6594061,37.6594082,37.6594113,37.6594147,37.6594185,37.6594227,37.6594274,37.6594321,37.6594372,37.6594424,37.6594476,37.659453,37.6594583,37.6594639,37.6594691,37.6594744,37.6594799,37.6594848,37.6594902,37.6594952,37.6595001,37.6595051,37.6595099,37.6595147,37.6595194,37.6595239,37.6595284,37.6595329,37.6595373,37.6595417,37.6595461,37.6595505,37.659555,37.6595595,37.6595642,37.6595689,37.6595736,37.6595784,37.659583,37.6595868,37.6595902,37.659594,37.659598,37.6596019,37.659606,37.6596102,37.6596144,37.6596188,37.6596232,37.6596277,37.6596322,37.6596365,37.659641,37.6596455,37.6596501,37.6596544,37.6596588,37.6596633,37.6596676,37.659672,37.6596763,37.6596806,37.659685,37.6596893,37.6596937,37.659698,37.6597025,37.659707,37.6597114,37.6597158,37.6597204,37.6597253,37.6597299,37.6597348,37.6597398,37.6597445,37.6597496,37.6597545,37.6597594,37.6597642,37.6597694,37.6597743,37.6597792,37.6597845,37.6597895,37.6597945,37.6597996,37.6598048,37.6598099,37.659815,37.6598202,37.6598252,37.6598303,37.6598353,37.6598405,37.6598456,37.6598506,37.6598557,37.6598607,37.6598657,37.6598708,37.6598758,37.6598805,37.6598855,37.6598906,37.6598955,37.6599005,37.6599052,37.6599102,37.659915,37.6599194,37.6599224,37.6599242,37.6599246,37.659925,37.6599256,37.6599264,37.6599273,37.6599278,37.6599278,37.6599279,37.6599279,37.6599281,37.6599286,37.6599291,37.6599297,37.6599302,37.6599304,37.6599307,37.6599311,37.6599316,37.659932,37.6599323,37.6599328,37.6599333,37.6599338,37.6599344,37.6599349,37.6599354,37.6599361,37.6599367,37.6599373,37.6599379,37.6599384,37.6599388,37.6599394,37.65994,37.6599405,37.6599411,37.6599416,37.6599423,37.6599428,37.6599432,37.6599435,37.6599438,37.6599441,37.6599444,37.6599449,37.6599455,37.6599461,37.6599468,37.6599475,37.6599481,37.6599488,37.6599493,37.6599497,37.6599501,37.6599505,37.6599509,37.6599513,37.6599517,37.659952,37.6599525,37.6599531,37.6599538,37.6599546,37.6599553,37.659956,37.6599567,37.6599572,37.6599575,37.6599579,37.6599582,37.6599583,37.6599586,37.659959,37.6599595,37.6599601,37.6599607,37.6599614,37.6599621,37.6599628,37.6599632,37.6599637,37.659964,37.6599644,37.6599647,37.659965,37.6599652,37.6599656,37.6599662,37.6599666,37.6599672,37.6599679,37.6599686,37.6599692]]]}}},\"view\":{\"type\":\"object\",\"name\":\"CDSView\",\"id\":\"p1182\",\"attributes\":{\"filter\":{\"type\":\"object\",\"name\":\"AllIndices\",\"id\":\"p1183\"}}},\"glyph\":{\"type\":\"object\",\"name\":\"Scatter\",\"id\":\"p1178\",\"attributes\":{\"x\":{\"type\":\"field\",\"field\":\"x\"},\"y\":{\"type\":\"field\",\"field\":\"y\"},\"size\":{\"type\":\"value\",\"value\":10},\"line_color\":{\"type\":\"value\",\"value\":\"blue\"},\"line_alpha\":{\"type\":\"value\",\"value\":0.05},\"fill_color\":{\"type\":\"value\",\"value\":\"blue\"},\"fill_alpha\":{\"type\":\"value\",\"value\":0.05},\"hatch_color\":{\"type\":\"value\",\"value\":\"blue\"},\"hatch_alpha\":{\"type\":\"value\",\"value\":0.05}}},\"nonselection_glyph\":{\"type\":\"object\",\"name\":\"Scatter\",\"id\":\"p1179\",\"attributes\":{\"x\":{\"type\":\"field\",\"field\":\"x\"},\"y\":{\"type\":\"field\",\"field\":\"y\"},\"size\":{\"type\":\"value\",\"value\":10},\"line_color\":{\"type\":\"value\",\"value\":\"blue\"},\"line_alpha\":{\"type\":\"value\",\"value\":0.1},\"fill_color\":{\"type\":\"value\",\"value\":\"blue\"},\"fill_alpha\":{\"type\":\"value\",\"value\":0.1},\"hatch_color\":{\"type\":\"value\",\"value\":\"blue\"},\"hatch_alpha\":{\"type\":\"value\",\"value\":0.1}}},\"muted_glyph\":{\"type\":\"object\",\"name\":\"Scatter\",\"id\":\"p1180\",\"attributes\":{\"x\":{\"type\":\"field\",\"field\":\"x\"},\"y\":{\"type\":\"field\",\"field\":\"y\"},\"size\":{\"type\":\"value\",\"value\":10},\"line_color\":{\"type\":\"value\",\"value\":\"blue\"},\"line_alpha\":{\"type\":\"value\",\"value\":0.2},\"fill_color\":{\"type\":\"value\",\"value\":\"blue\"},\"fill_alpha\":{\"type\":\"value\",\"value\":0.2},\"hatch_color\":{\"type\":\"value\",\"value\":\"blue\"},\"hatch_alpha\":{\"type\":\"value\",\"value\":0.2}}}}}],\"toolbar\":{\"type\":\"object\",\"name\":\"Toolbar\",\"id\":\"p1149\",\"attributes\":{\"tools\":[{\"type\":\"object\",\"name\":\"PanTool\",\"id\":\"p1162\"},{\"type\":\"object\",\"name\":\"WheelZoomTool\",\"id\":\"p1163\",\"attributes\":{\"renderers\":\"auto\"}},{\"type\":\"object\",\"name\":\"BoxZoomTool\",\"id\":\"p1164\",\"attributes\":{\"overlay\":{\"type\":\"object\",\"name\":\"BoxAnnotation\",\"id\":\"p1165\",\"attributes\":{\"syncable\":false,\"line_color\":\"black\",\"line_alpha\":1.0,\"line_width\":2,\"line_dash\":[4,4],\"fill_color\":\"lightgrey\",\"fill_alpha\":0.5,\"level\":\"overlay\",\"visible\":false,\"left\":{\"type\":\"number\",\"value\":\"nan\"},\"right\":{\"type\":\"number\",\"value\":\"nan\"},\"top\":{\"type\":\"number\",\"value\":\"nan\"},\"bottom\":{\"type\":\"number\",\"value\":\"nan\"},\"left_units\":\"canvas\",\"right_units\":\"canvas\",\"top_units\":\"canvas\",\"bottom_units\":\"canvas\",\"handles\":{\"type\":\"object\",\"name\":\"BoxInteractionHandles\",\"id\":\"p1171\",\"attributes\":{\"all\":{\"type\":\"object\",\"name\":\"AreaVisuals\",\"id\":\"p1170\",\"attributes\":{\"fill_color\":\"white\",\"hover_fill_color\":\"lightgray\"}}}}}}}},{\"type\":\"object\",\"name\":\"SaveTool\",\"id\":\"p1172\"},{\"type\":\"object\",\"name\":\"ResetTool\",\"id\":\"p1173\"},{\"type\":\"object\",\"name\":\"HelpTool\",\"id\":\"p1174\"}]}},\"left\":[{\"type\":\"object\",\"name\":\"LinearAxis\",\"id\":\"p1158\",\"attributes\":{\"ticker\":{\"type\":\"object\",\"name\":\"MercatorTicker\",\"id\":\"p1157\",\"attributes\":{\"mantissas\":[1,2,5],\"dimension\":\"lat\"}},\"formatter\":{\"type\":\"object\",\"name\":\"MercatorTickFormatter\",\"id\":\"p1156\",\"attributes\":{\"dimension\":\"lat\"}},\"axis_label\":\"\",\"major_label_policy\":{\"type\":\"object\",\"name\":\"AllLabels\",\"id\":\"p1161\"}}}],\"below\":[{\"type\":\"object\",\"name\":\"LinearAxis\",\"id\":\"p1152\",\"attributes\":{\"ticker\":{\"type\":\"object\",\"name\":\"MercatorTicker\",\"id\":\"p1151\",\"attributes\":{\"mantissas\":[1,2,5],\"dimension\":\"lon\"}},\"formatter\":{\"type\":\"object\",\"name\":\"MercatorTickFormatter\",\"id\":\"p1150\",\"attributes\":{\"dimension\":\"lon\"}},\"axis_label\":\"\",\"major_label_policy\":{\"type\":\"object\",\"name\":\"AllLabels\",\"id\":\"p1155\"}}}],\"map_options\":{\"type\":\"object\",\"name\":\"GMapOptions\",\"id\":\"p1139\",\"attributes\":{\"lat\":37.659686699999995,\"lng\":-121.8857302,\"zoom\":19,\"map_type\":\"satellite\",\"tilt\":0}},\"api_key\":{\"type\":\"bytes\",\"data\":\"QUl6YVN5Qi1qbW1oUmpldmRnUHROckwzbDB4ZTNZVFpiTjNPNzNF\"}}}]}};\n",
       "  const render_items = [{\"docid\":\"21750d02-45c5-4bc3-b210-f4e3728307d1\",\"roots\":{\"p1140\":\"bc8ff316-07f2-44a5-8179-6671191b8050\"},\"root_ids\":[\"p1140\"]}];\n",
       "  void root.Bokeh.embed.embed_items_notebook(docs_json, render_items);\n",
       "  }\n",
       "  if (root.Bokeh !== undefined) {\n",
       "    embed_document(root);\n",
       "  } else {\n",
       "    let attempts = 0;\n",
       "    const timer = setInterval(function(root) {\n",
       "      if (root.Bokeh !== undefined) {\n",
       "        clearInterval(timer);\n",
       "        embed_document(root);\n",
       "      } else {\n",
       "        attempts++;\n",
       "        if (attempts > 100) {\n",
       "          clearInterval(timer);\n",
       "          console.log(\"Bokeh: ERROR: Unable to run BokehJS code because BokehJS library is missing\");\n",
       "        }\n",
       "      }\n",
       "    }, 10, root)\n",
       "  }\n",
       "})(window);"
      ],
      "application/vnd.bokehjs_exec.v0+json": ""
     },
     "metadata": {
      "application/vnd.bokehjs_exec.v0+json": {
       "id": "p1140"
      }
     },
     "output_type": "display_data"
    }
   ],
   "source": [
    "display_map_from_log('logs/robomagellan.2023.robogames.run1.txt', zoom=19)"
   ]
  },
  {
   "cell_type": "markdown",
   "id": "66f72833-75b2-4580-8462-04d5b6ae3312",
   "metadata": {},
   "source": [
    "### Botnic 2024 - Run 3"
   ]
  },
  {
   "cell_type": "code",
   "execution_count": 13,
   "id": "18641ea5-2d5d-4704-bc7c-b3b05ac7585b",
   "metadata": {},
   "outputs": [
    {
     "name": "stderr",
     "output_type": "stream",
     "text": [
      "BokehDeprecationWarning: 'circle() method with size value' was deprecated in Bokeh 3.4.0 and will be removed, use 'scatter(size=...) instead' instead.\n"
     ]
    },
    {
     "data": {
      "text/html": [
       "\n",
       "  <div id=\"a621767f-efd2-4791-897e-9cf3ff16cd41\" data-root-id=\"p1278\" style=\"display: contents;\"></div>\n"
      ]
     },
     "metadata": {},
     "output_type": "display_data"
    },
    {
     "data": {
      "application/javascript": [
       "(function(root) {\n",
       "  function embed_document(root) {\n",
       "  const docs_json = {\"ecc74e36-a8dd-4f71-a00f-665411fe05c8\":{\"version\":\"3.6.0\",\"title\":\"Bokeh Application\",\"roots\":[{\"type\":\"object\",\"name\":\"GMap\",\"id\":\"p1278\",\"attributes\":{\"width\":800,\"x_range\":{\"type\":\"object\",\"name\":\"Range1d\",\"id\":\"p1279\"},\"y_range\":{\"type\":\"object\",\"name\":\"Range1d\",\"id\":\"p1280\"},\"x_scale\":{\"type\":\"object\",\"name\":\"LinearScale\",\"id\":\"p1285\"},\"y_scale\":{\"type\":\"object\",\"name\":\"LinearScale\",\"id\":\"p1286\"},\"title\":{\"type\":\"object\",\"name\":\"Title\",\"id\":\"p1283\",\"attributes\":{\"text\":\"Kybernetes 2 GPS Samples - logs/robomagellan.2024.botnic.run3.txt\"}},\"renderers\":[{\"type\":\"object\",\"name\":\"GlyphRenderer\",\"id\":\"p1319\",\"attributes\":{\"data_source\":{\"type\":\"object\",\"name\":\"ColumnDataSource\",\"id\":\"p1313\",\"attributes\":{\"selected\":{\"type\":\"object\",\"name\":\"Selection\",\"id\":\"p1314\",\"attributes\":{\"indices\":[],\"line_indices\":[]}},\"selection_policy\":{\"type\":\"object\",\"name\":\"UnionRenderers\",\"id\":\"p1315\"},\"data\":{\"type\":\"map\",\"entries\":[[\"x\",[-121.9957488,-121.9957488,-121.9957488,-121.9957488,-121.9957488,-121.9957488,-121.9957488,-121.9957488,-121.9957488,-121.9957488,-121.9957488,-121.9957488,-121.9957488,-121.9957487,-121.9957487,-121.9957487,-121.9957487,-121.9957487,-121.9957487,-121.9957487,-121.9957487,-121.9957487,-121.9957486,-121.9957487,-121.9957486,-121.9957486,-121.9957486,-121.9957486,-121.9957485,-121.9957486,-121.9957485,-121.9957485,-121.9957485,-121.9957485,-121.9957485,-121.9957485,-121.9957485,-121.9957485,-121.9957484,-121.9957485,-121.9957485,-121.9957484,-121.9957485,-121.9957484,-121.9957484,-121.9957485,-121.9957484,-121.9957484,-121.9957484,-121.9957484,-121.9957484,-121.9957484,-121.9957484,-121.9957484,-121.9957484,-121.9957483,-121.9957483,-121.9957484,-121.9957483,-121.9957483,-121.9957483,-121.9957484,-121.9957484,-121.9957484,-121.9957484,-121.9957483,-121.9957483,-121.9957484,-121.9957484,-121.9957484,-121.9957484,-121.9957484,-121.9957484,-121.9957484,-121.9957484,-121.9957484,-121.9957484,-121.9957484,-121.9957484,-121.9957484,-121.9957484,-121.9957484,-121.9957484,-121.9957484,-121.9957484,-121.9957484,-121.9957484,-121.9957484,-121.9957484,-121.9957484,-121.9957484,-121.9957484,-121.9957484,-121.9957484,-121.9957484,-121.9957484,-121.9957484,-121.9957484,-121.9957484,-121.9957484,-121.9957484,-121.9957484,-121.9957484,-121.9957484,-121.9957489,-121.9957494,-121.99575,-121.9957506,-121.9957514,-121.9957522,-121.9957532,-121.9957544,-121.9957556,-121.9957569,-121.9957585,-121.99576,-121.9957617,-121.9957634,-121.9957652,-121.995767,-121.9957687,-121.9957709,-121.9957728,-121.9957749,-121.9957769,-121.9957791,-121.9957812,-121.9957832,-121.9957854,-121.9957875,-121.9957896,-121.9957918,-121.995794,-121.995796,-121.9957983,-121.9958006,-121.9958029,-121.9958053,-121.9958078,-121.9958101,-121.9958126,-121.995815,-121.9958176,-121.9958202,-121.9958226,-121.995825,-121.9958276,-121.99583,-121.9958327,-121.9958352,-121.9958378,-121.9958405,-121.9958429,-121.9958455,-121.9958481,-121.9958508,-121.9958535,-121.9958563,-121.9958588,-121.9958616,-121.995864,-121.995867,-121.9958694,-121.9958755,-121.9958774,-121.9958803,-121.9958827,-121.9958852,-121.9958881,-121.9958908,-121.9958934,-121.995896,-121.9958988,-121.9959016,-121.9959043,-121.9959068,-121.9959097,-121.9959121,-121.9959148,-121.9959176,-121.9959202,-121.9959229,-121.9959254,-121.9959282,-121.995931,-121.9959335,-121.9959362,-121.9959391,-121.9959416,-121.9959442,-121.9959467,-121.9959491,-121.9959516,-121.9959542,-121.9959567,-121.9959593,-121.9959619,-121.9959646,-121.9959674,-121.99597,-121.9959728,-121.9959756,-121.9959783,-121.9959811,-121.9959837,-121.9959864,-121.9959891,-121.9959921,-121.9959948,-121.9959976,-121.9960003,-121.9960031,-121.9960059,-121.9960085,-121.9960112,-121.9960139,-121.9960165,-121.996019,-121.9960216,-121.996024,-121.9960259,-121.996026,-121.9960255,-121.9960255,-121.9960256,-121.9960256,-121.9960258,-121.9960258,-121.9960259,-121.9960259,-121.9960259,-121.996026,-121.9960261,-121.9960262,-121.9960263,-121.9960264,-121.9960265,-121.9960267,-121.996027,-121.9960272,-121.9960275,-121.9960277,-121.996028,-121.9960283,-121.9960287,-121.9960292,-121.9960295,-121.9960299,-121.9960303,-121.9960306,-121.9960309,-121.9960312,-121.9960316,-121.9960321,-121.9960326,-121.9960331,-121.9960336,-121.9960342,-121.9960346,-121.9960351,-121.9960355,-121.996036,-121.9960366,-121.9960371,-121.9960376,-121.9960382,-121.9960388,-121.9960393,-121.99604,-121.9960406,-121.9960413,-121.9960419,-121.9960425,-121.9960432,-121.9960439,-121.9960444,-121.9960451,-121.9960457,-121.9960464,-121.996047,-121.996047,-121.9960471,-121.9960472,-121.9960471,-121.9960467,-121.9960463,-121.9960458,-121.9960454,-121.9960448,-121.9960443,-121.9960437,-121.996043,-121.9960423,-121.9960416,-121.9960409,-121.9960403,-121.9960395,-121.9960389,-121.9960385,-121.9960378,-121.9960365,-121.9960357,-121.9960348,-121.9960343,-121.9960335,-121.9960328,-121.9960322,-121.9960318,-121.9960314,-121.9960311,-121.9960314,-121.9960315,-121.9960315,-121.9960315,-121.9960315,-121.9960317,-121.9960321,-121.9960324,-121.996033,-121.9960336,-121.9960343,-121.996035,-121.9960359,-121.9960369,-121.9960382,-121.9960394,-121.9960407,-121.9960421,-121.9960435,-121.9960448,-121.9960463,-121.9960475,-121.9960486,-121.9960498,-121.9960508,-121.9960523,-121.9960525,-121.996053,-121.9960528,-121.9960521,-121.996052,-121.9960517,-121.9960517,-121.9960517,-121.9960515,-121.9960513,-121.9960513,-121.9960512,-121.9960511,-121.9960506,-121.9960505,-121.9960502,-121.99605,-121.9960497,-121.9960493,-121.9960489,-121.9960486,-121.9960482,-121.9960476,-121.9960476,-121.9960472,-121.9960469,-121.9960467,-121.9960465,-121.9960463,-121.9960458,-121.9960456,-121.9960452,-121.9960446,-121.996044,-121.9960441,-121.9960437,-121.9960436,-121.9960431,-121.9960429,-121.9960426,-121.9960418,-121.9960416,-121.9960413,-121.9960415,-121.9960413,-121.996041,-121.9960406,-121.9960405,-121.9960403,-121.9960398,-121.9960391,-121.9960394,-121.9960391,-121.9960393,-121.9960391,-121.9960388,-121.9960384,-121.9960378,-121.9960374,-121.9960375,-121.996037,-121.9960366,-121.9960362,-121.996036,-121.9960356,-121.9960355,-121.9960353,-121.9960351,-121.9960342,-121.9960339,-121.9960338,-121.9960334,-121.9960331,-121.9960326,-121.9960322,-121.9960317,-121.9960314,-121.9960306,-121.9960303,-121.9960299,-121.9960297,-121.9960295,-121.9960294,-121.9960291,-121.996029,-121.9960283,-121.9960279,-121.9960275,-121.9960271,-121.9960268,-121.9960264,-121.9960261,-121.9960257,-121.9960252,-121.9960248,-121.9960247,-121.9960243,-121.996024,-121.9960239,-121.9960235,-121.9960229,-121.9960225,-121.996022,-121.9960215,-121.996021,-121.99602,-121.9960198,-121.9960193,-121.9960188,-121.9960186,-121.9960181,-121.9960178,-121.9960175,-121.9960171,-121.9960161,-121.9960158,-121.9960155,-121.9960153,-121.9960151,-121.996015,-121.9960148,-121.9960148,-121.9960146,-121.9960145,-121.9960144,-121.996014,-121.9960138,-121.9960138,-121.9960137,-121.9960136,-121.9960132,-121.9960126,-121.9960121,-121.9960117,-121.9960115,-121.9960111,-121.9960108,-121.9960104,-121.99601,-121.9960093,-121.9960091,-121.9960086,-121.9960081,-121.9960076,-121.996007,-121.9960066,-121.9960062,-121.9960059,-121.9960054,-121.9960049,-121.9960047,-121.9960044,-121.9960042,-121.9960038,-121.9960035,-121.9960033,-121.996003,-121.9960029,-121.9960023,-121.9960021,-121.9960012,-121.9960012,-121.9960009,-121.9960007,-121.996,-121.996,-121.9959996,-121.9959996,-121.9959987,-121.9959981,-121.9959975,-121.9959969,-121.9959958,-121.9959951,-121.9959949,-121.9959943,-121.9959938,-121.9959933,-121.9959923,-121.9959922,-121.995992,-121.9959917,-121.995991,-121.9959906,-121.9959902,-121.9959899,-121.9959895,-121.9959889,-121.9959888,-121.9959888,-121.9959882,-121.9959876,-121.9959871,-121.9959868,-121.9959865,-121.9959863,-121.9959858,-121.9959857,-121.9959854,-121.995985,-121.9959846,-121.9959842,-121.9959837,-121.9959832,-121.9959827,-121.9959824,-121.995982,-121.9959816,-121.9959809,-121.9959803,-121.9959801,-121.9959795,-121.9959789,-121.9959785,-121.9959778,-121.9959773,-121.9959768,-121.9959764,-121.995976,-121.9959755,-121.9959748,-121.9959744,-121.9959742,-121.9959735,-121.995973,-121.9959729,-121.9959725,-121.9959721,-121.9959715,-121.9959711,-121.9959704,-121.9959698,-121.9959693,-121.9959689,-121.9959683,-121.9959676,-121.9959671,-121.9959666,-121.9959659,-121.9959652,-121.9959649,-121.9959646,-121.9959639,-121.9959632,-121.9959627,-121.995962,-121.9959613,-121.9959607,-121.9959603,-121.9959589,-121.9959579,-121.9959572,-121.9959565,-121.9959559,-121.9959553,-121.9959545,-121.9959541,-121.9959537,-121.9959529,-121.9959521,-121.9959513,-121.9959506,-121.9959501,-121.9959497,-121.9959493,-121.9959483,-121.9959473,-121.9959466,-121.9959451,-121.9959444,-121.9959434,-121.9959426,-121.9959414,-121.9959405,-121.9959398,-121.9959391,-121.9959385,-121.9959378,-121.995937,-121.9959363,-121.9959359,-121.9959353,-121.9959348,-121.9959341,-121.9959335,-121.9959329,-121.9959323,-121.9959308,-121.9959304,-121.9959295,-121.9959288,-121.995928,-121.9959274,-121.9959266,-121.9959255,-121.9959247,-121.9959241,-121.9959236,-121.9959228,-121.995922,-121.9959214,-121.9959205,-121.9959197,-121.9959188,-121.995918,-121.995917,-121.9959149,-121.9959141,-121.9959136,-121.9959137,-121.9959141,-121.9959142,-121.995914,-121.9959141,-121.9959141,-121.9959141,-121.9959141,-121.9959141,-121.9959141,-121.995914,-121.995914,-121.995914,-121.995914,-121.995914,-121.995914,-121.9959139,-121.9959138,-121.9959137,-121.9959135,-121.9959133,-121.9959131,-121.9959129,-121.9959128,-121.9959126,-121.9959123,-121.9959119,-121.9959116,-121.9959114,-121.9959112,-121.9959109,-121.9959106,-121.9959103,-121.9959101,-121.9959097,-121.9959092,-121.995909,-121.9959086,-121.9959083,-121.9959081,-121.9959078,-121.9959075,-121.9959072,-121.9959069,-121.995906,-121.9959056,-121.9959053,-121.9959049,-121.9959045,-121.9959041,-121.9959037,-121.9959034,-121.9959029,-121.9959021,-121.9959016,-121.9959007,-121.9959005,-121.9959001,-121.9958997,-121.9958994,-121.9958991,-121.9958984,-121.9958981,-121.9958977,-121.9958972,-121.9958968,-121.9958964,-121.9958961,-121.9958957,-121.9958952,-121.9958942,-121.9958937,-121.9958933,-121.9958928,-121.9958923,-121.9958918,-121.9958912,-121.9958909,-121.995891,-121.9958908,-121.9958908,-121.9958911,-121.9958914,-121.9958917,-121.9958921,-121.9958926,-121.9958931,-121.9958937,-121.9958948,-121.9958954,-121.9958961,-121.9958969,-121.9958975,-121.9958982,-121.995899,-121.9958997,-121.9959005,-121.9959012,-121.9959018,-121.9959024,-121.995903,-121.9959036,-121.9959041,-121.9959046,-121.995905,-121.9959058,-121.9959064,-121.9959066,-121.9959066,-121.9959066,-121.9959066,-121.9959063,-121.995906,-121.9959057,-121.9959052,-121.9959049,-121.9959041,-121.9959036,-121.9959034,-121.9959035,-121.9959034,-121.9959034,-121.9959037,-121.9959043,-121.9959046,-121.9959063,-121.9959071,-121.9959085,-121.9959101,-121.9959116,-121.9959133,-121.9959153,-121.9959169,-121.9959185,-121.9959214,-121.9959227,-121.9959244,-121.9959256,-121.995927,-121.9959287,-121.9959305,-121.9959322,-121.9959341,-121.9959378,-121.9959398,-121.9959418,-121.9959435,-121.9959456,-121.9959475,-121.9959493,-121.9959512,-121.9959534,-121.9959551,-121.995957,-121.9959613,-121.995963,-121.9959652,-121.9959673,-121.9959694,-121.9959713,-121.9959735,-121.9959776,-121.9959795,-121.9959817,-121.9959838,-121.9959857,-121.9959878,-121.9959898,-121.9959919,-121.995994,-121.995998,-121.9960004,-121.9960022,-121.9960044,-121.9960065,-121.9960085,-121.9960107,-121.9960127,-121.9960147,-121.9960168,-121.9960189,-121.9960225,-121.9960248,-121.9960268,-121.9960288,-121.9960309,-121.9960329,-121.9960353,-121.99604,-121.9960423,-121.9960443,-121.9960466,-121.9960487,-121.9960507,-121.9960529,-121.996055,-121.9960571,-121.9960612,-121.9960632,-121.9960651,-121.9960673,-121.9960692,-121.9960714,-121.996073,-121.9960749,-121.9960767,-121.9960783,-121.9960803,-121.9960819,-121.9960837,-121.9960859,-121.9960876,-121.9960894,-121.9960912,-121.9960931,-121.996095,-121.9960988,-121.9961009,-121.996103,-121.9961047,-121.9961068,-121.9961089,-121.9961105,-121.9961127,-121.9961148,-121.996117,-121.9961193,-121.9961212,-121.9961236,-121.9961257,-121.9961277,-121.9961298,-121.996132,-121.9961344,-121.9961365,-121.9961403,-121.9961427,-121.996145,-121.996147,-121.9961491,-121.9961513,-121.9961532,-121.9961552,-121.9961572,-121.996159,-121.996161,-121.9961627,-121.9961644,-121.996166,-121.9961678,-121.9961692,-121.9961695,-121.9961692,-121.9961688,-121.9961689,-121.9961688,-121.9961687,-121.9961687,-121.9961687,-121.9961687,-121.9961687,-121.9961687,-121.9961687,-121.9961687,-121.9961687,-121.9961687,-121.9961687,-121.9961687,-121.9961687,-121.9961687,-121.9961687,-121.9961688,-121.9961689,-121.9961691,-121.9961692,-121.9961694,-121.9961695,-121.9961697,-121.9961698,-121.99617,-121.9961702,-121.9961704,-121.9961711,-121.9961714,-121.9961716,-121.9961719,-121.9961722,-121.9961726,-121.9961729,-121.9961734,-121.9961738,-121.9961745,-121.9961749,-121.9961753,-121.9961757,-121.9961761,-121.9961765,-121.996177,-121.9961775,-121.996178,-121.9961789,-121.9961794,-121.9961798,-121.9961803,-121.9961809,-121.9961813,-121.9961818,-121.9961823,-121.9961828,-121.9961835,-121.9961838,-121.9961841,-121.9961846,-121.996185,-121.9961852,-121.9961855,-121.9961857,-121.9961858,-121.9961864,-121.9961866,-121.9961868,-121.9961872,-121.9961874,-121.9961875,-121.9961877,-121.9961879,-121.996188,-121.9961883,-121.9961885,-121.9961885,-121.9961886,-121.9961887,-121.9961888,-121.996189,-121.9961892,-121.9961893,-121.9961897,-121.9961899,-121.9961901,-121.9961904,-121.9961906,-121.9961907,-121.9961909,-121.9961911,-121.9961913,-121.9961913,-121.9961914,-121.9961916]],[\"y\",[37.4117291,37.4117291,37.4117291,37.4117291,37.4117291,37.4117291,37.4117291,37.4117291,37.4117291,37.411729,37.411729,37.411729,37.411729,37.411729,37.411729,37.411729,37.411729,37.411729,37.411729,37.411729,37.411729,37.411729,37.411729,37.411729,37.4117291,37.4117291,37.4117291,37.4117291,37.4117291,37.4117291,37.4117291,37.4117291,37.4117291,37.4117291,37.4117291,37.4117291,37.4117291,37.4117291,37.4117291,37.4117291,37.4117291,37.4117291,37.4117291,37.4117291,37.4117291,37.4117291,37.4117291,37.4117291,37.4117291,37.4117291,37.4117291,37.411729,37.4117291,37.411729,37.411729,37.411729,37.411729,37.411729,37.4117289,37.4117289,37.4117289,37.4117289,37.4117289,37.4117289,37.4117289,37.4117289,37.4117289,37.4117289,37.4117289,37.4117289,37.4117289,37.4117289,37.4117289,37.4117289,37.4117289,37.4117289,37.4117289,37.4117288,37.4117288,37.4117288,37.4117288,37.4117288,37.4117288,37.4117288,37.4117288,37.4117288,37.4117288,37.4117288,37.4117288,37.4117288,37.4117288,37.4117288,37.4117288,37.4117288,37.4117288,37.4117288,37.4117288,37.4117288,37.4117288,37.4117287,37.4117288,37.4117288,37.4117288,37.4117288,37.4117287,37.4117287,37.4117287,37.4117288,37.4117287,37.4117285,37.4117284,37.4117285,37.4117283,37.411728,37.4117279,37.4117277,37.4117273,37.4117272,37.4117269,37.4117266,37.4117264,37.4117262,37.411726,37.4117256,37.4117253,37.4117249,37.4117246,37.4117244,37.4117239,37.4117235,37.4117233,37.4117231,37.4117228,37.4117223,37.4117221,37.4117218,37.4117216,37.4117212,37.4117209,37.4117205,37.4117202,37.4117198,37.4117195,37.4117192,37.4117191,37.4117187,37.4117187,37.4117184,37.4117181,37.4117179,37.4117176,37.4117173,37.4117169,37.4117167,37.4117165,37.4117162,37.4117159,37.4117157,37.4117156,37.4117155,37.4117152,37.4117147,37.4117145,37.4117142,37.411714,37.4117139,37.4117138,37.4117135,37.4117132,37.411713,37.4117129,37.4117128,37.4117128,37.4117128,37.4117127,37.4117128,37.4117126,37.4117127,37.4117126,37.4117126,37.4117126,37.4117127,37.4117127,37.4117126,37.4117128,37.4117127,37.4117128,37.4117128,37.4117126,37.4117125,37.4117129,37.411713,37.4117128,37.4117127,37.4117129,37.4117129,37.4117128,37.4117128,37.4117127,37.4117126,37.4117125,37.4117124,37.4117122,37.4117122,37.4117122,37.4117123,37.4117124,37.4117123,37.4117124,37.4117125,37.4117126,37.4117126,37.4117126,37.4117128,37.411713,37.4117132,37.4117133,37.4117136,37.4117139,37.4117142,37.4117146,37.4117148,37.4117147,37.4117148,37.4117148,37.4117148,37.4117148,37.4117148,37.4117148,37.4117148,37.4117148,37.4117148,37.4117148,37.4117148,37.4117149,37.4117148,37.4117149,37.4117149,37.4117149,37.4117149,37.4117149,37.4117149,37.4117149,37.411715,37.411715,37.411715,37.411715,37.4117151,37.4117151,37.4117151,37.411715,37.411715,37.411715,37.411715,37.411715,37.4117149,37.411715,37.4117149,37.4117149,37.4117149,37.4117149,37.4117149,37.4117148,37.4117149,37.4117148,37.4117148,37.4117149,37.411715,37.4117149,37.4117149,37.4117148,37.4117148,37.4117148,37.4117148,37.4117147,37.4117148,37.4117148,37.4117147,37.4117148,37.4117149,37.4117148,37.4117148,37.4117147,37.4117147,37.4117145,37.4117145,37.4117144,37.4117143,37.4117144,37.4117143,37.4117144,37.4117145,37.4117145,37.4117147,37.411715,37.4117153,37.4117156,37.4117161,37.4117167,37.4117172,37.4117182,37.4117189,37.4117194,37.4117199,37.4117204,37.4117209,37.4117214,37.411722,37.4117224,37.4117225,37.4117224,37.4117224,37.4117224,37.4117224,37.4117225,37.4117224,37.4117222,37.411722,37.4117218,37.4117216,37.4117213,37.4117209,37.4117207,37.4117205,37.4117204,37.4117202,37.4117204,37.4117206,37.4117209,37.4117215,37.4117221,37.4117228,37.4117238,37.4117249,37.411726,37.4117285,37.4117299,37.4117313,37.4117343,37.4117359,37.4117375,37.4117394,37.4117413,37.4117429,37.411745,37.4117469,37.4117486,37.411751,37.4117528,37.411755,37.411757,37.4117588,37.4117611,37.411763,37.4117652,37.4117675,37.4117693,37.4117733,37.4117753,37.4117772,37.4117792,37.4117812,37.4117831,37.4117854,37.4117871,37.4117892,37.4117911,37.4117928,37.4117946,37.4117963,37.411798,37.4118,37.4118019,37.4118037,37.4118055,37.4118074,37.4118114,37.4118133,37.4118153,37.4118174,37.4118192,37.4118213,37.4118231,37.4118247,37.411827,37.4118309,37.4118326,37.4118347,37.4118368,37.4118389,37.4118405,37.4118422,37.4118444,37.411846,37.4118498,37.4118518,37.411854,37.4118559,37.4118579,37.4118601,37.411862,37.4118638,37.4118659,37.4118677,37.4118696,37.4118714,37.4118734,37.4118752,37.411877,37.411879,37.4118811,37.4118828,37.4118846,37.4118884,37.4118905,37.4118922,37.4118943,37.4118962,37.4118983,37.4119003,37.4119023,37.4119045,37.4119065,37.4119084,37.4119106,37.4119127,37.4119146,37.4119167,37.4119188,37.4119208,37.411923,37.4119248,37.4119289,37.4119309,37.411933,37.4119352,37.4119373,37.4119393,37.4119416,37.4119435,37.4119457,37.4119492,37.4119516,37.4119539,37.4119557,37.4119578,37.41196,37.411962,37.4119642,37.4119663,37.4119708,37.4119727,37.4119748,37.411977,37.4119789,37.411981,37.4119832,37.4119852,37.4119872,37.4119893,37.4119915,37.4119958,37.4119979,37.4119999,37.412002,37.4120041,37.4120061,37.412008,37.4120123,37.412014,37.4120161,37.4120182,37.4120204,37.4120222,37.4120244,37.4120266,37.4120286,37.4120307,37.4120329,37.4120349,37.4120372,37.4120393,37.4120413,37.4120435,37.4120457,37.412048,37.4120499,37.4120522,37.4120545,37.4120565,37.4120587,37.4120607,37.4120629,37.4120653,37.412067,37.4120692,37.4120712,37.4120731,37.4120756,37.4120774,37.4120794,37.4120815,37.4120836,37.4120859,37.4120877,37.4120897,37.4120919,37.4120959,37.412098,37.4121,37.4121019,37.412104,37.4121062,37.412108,37.4121101,37.412112,37.4121142,37.4121161,37.412118,37.4121201,37.4121222,37.4121243,37.4121265,37.4121286,37.4121305,37.4121328,37.4121348,37.4121369,37.412139,37.4121412,37.4121433,37.4121454,37.4121476,37.4121498,37.4121517,37.412154,37.4121563,37.4121583,37.4121604,37.4121626,37.4121646,37.4121667,37.4121689,37.412171,37.4121731,37.4121752,37.4121774,37.4121795,37.4121816,37.4121839,37.4121861,37.4121881,37.4121905,37.4121927,37.4121947,37.4121968,37.4121993,37.4122013,37.4122033,37.4122058,37.4122078,37.4122097,37.4122119,37.4122141,37.4122163,37.4122185,37.4122229,37.412225,37.4122272,37.4122294,37.4122316,37.4122339,37.4122359,37.4122381,37.4122402,37.4122421,37.4122442,37.4122466,37.4122483,37.4122504,37.4122527,37.4122545,37.4122567,37.4122586,37.4122606,37.4122646,37.4122665,37.4122688,37.4122709,37.4122729,37.412275,37.4122772,37.4122794,37.4122816,37.4122836,37.4122857,37.4122878,37.4122898,37.4122919,37.4122938,37.4122958,37.4122978,37.4122995,37.4123016,37.4123055,37.4123075,37.4123095,37.4123113,37.4123131,37.4123149,37.4123167,37.4123187,37.4123207,37.4123223,37.4123242,37.4123261,37.412328,37.4123299,37.4123318,37.4123338,37.4123358,37.4123381,37.4123396,37.4123437,37.4123455,37.4123474,37.4123494,37.4123513,37.4123533,37.4123554,37.4123575,37.4123592,37.4123611,37.4123634,37.4123651,37.4123668,37.4123688,37.4123703,37.4123721,37.4123737,37.4123752,37.4123769,37.4123798,37.4123814,37.4123818,37.4123813,37.4123809,37.412381,37.4123811,37.4123811,37.4123811,37.4123811,37.4123811,37.4123811,37.4123811,37.4123811,37.4123811,37.4123811,37.4123811,37.4123811,37.4123812,37.4123812,37.4123813,37.4123815,37.4123816,37.4123818,37.412382,37.4123822,37.4123824,37.4123826,37.4123828,37.4123831,37.4123834,37.4123836,37.4123837,37.412384,37.4123842,37.4123845,37.4123848,37.4123851,37.4123857,37.4123859,37.4123862,37.4123864,37.4123867,37.412387,37.4123873,37.4123874,37.4123877,37.4123883,37.4123885,37.4123889,37.4123892,37.4123894,37.4123898,37.41239,37.4123902,37.4123906,37.4123913,37.4123916,37.4123923,37.4123926,37.4123929,37.4123931,37.4123933,37.4123937,37.4123942,37.4123945,37.4123948,37.4123951,37.4123953,37.4123956,37.4123959,37.4123962,37.4123964,37.412397,37.4123973,37.4123977,37.4123981,37.4123983,37.4123986,37.412399,37.4123992,37.4123991,37.4123992,37.4123992,37.412399,37.4123988,37.4123986,37.4123983,37.412398,37.4123977,37.4123973,37.4123965,37.4123962,37.4123957,37.4123951,37.4123949,37.4123944,37.4123938,37.4123934,37.4123929,37.4123924,37.4123919,37.4123912,37.4123907,37.4123903,37.4123899,37.4123894,37.4123889,37.4123886,37.4123883,37.4123881,37.4123883,37.4123883,37.4123883,37.4123885,37.4123888,37.4123892,37.4123895,37.4123899,37.4123909,37.4123913,37.4123921,37.4123931,37.4123938,37.4123947,37.4123957,37.4123967,37.4123978,37.4123995,37.4124005,37.4124012,37.4124017,37.4124024,37.412403,37.4124031,37.412403,37.4124025,37.4124013,37.4124003,37.4123991,37.4123978,37.4123964,37.4123952,37.4123939,37.4123927,37.4123914,37.4123888,37.4123876,37.4123862,37.4123849,37.4123833,37.4123819,37.4123806,37.412379,37.4123775,37.4123763,37.4123748,37.412372,37.4123707,37.4123691,37.4123678,37.4123662,37.4123648,37.4123634,37.4123605,37.4123588,37.4123574,37.4123559,37.4123544,37.4123529,37.4123513,37.4123497,37.4123483,37.4123455,37.4123437,37.4123426,37.4123411,37.4123398,37.4123384,37.4123368,37.4123354,37.4123341,37.4123326,37.4123312,37.4123283,37.412327,37.4123256,37.412324,37.4123225,37.4123213,37.4123201,37.4123177,37.4123167,37.4123155,37.4123141,37.412313,37.4123119,37.4123108,37.4123097,37.4123086,37.412306,37.4123048,37.4123034,37.412302,37.4123008,37.4122993,37.4122978,37.4122961,37.4122946,37.412293,37.4122914,37.4122899,37.4122884,37.4122868,37.4122855,37.4122839,37.4122825,37.4122812,37.41228,37.4122773,37.4122761,37.4122749,37.4122737,37.4122724,37.4122712,37.41227,37.4122688,37.4122677,37.4122668,37.4122658,37.4122648,37.4122635,37.4122625,37.4122613,37.41226,37.4122589,37.4122578,37.4122566,37.4122541,37.4122528,37.4122518,37.4122506,37.4122493,37.4122482,37.412247,37.4122458,37.4122444,37.4122431,37.4122418,37.4122405,37.4122391,37.4122378,37.4122363,37.4122352,37.412235,37.4122355,37.412236,37.412236,37.412236,37.412236,37.4122359,37.4122358,37.4122358,37.4122357,37.4122357,37.4122356,37.4122356,37.4122355,37.4122355,37.4122354,37.4122354,37.4122353,37.4122352,37.4122352,37.4122351,37.4122351,37.4122349,37.4122346,37.4122345,37.4122343,37.412234,37.4122338,37.4122337,37.4122336,37.4122334,37.412233,37.4122329,37.4122328,37.4122326,37.4122325,37.4122324,37.4122322,37.412232,37.4122319,37.4122316,37.4122316,37.4122316,37.4122315,37.4122315,37.4122314,37.4122314,37.4122313,37.4122314,37.4122313,37.4122314,37.4122315,37.4122314,37.4122315,37.4122318,37.4122319,37.4122321,37.4122322,37.4122326,37.4122327,37.4122329,37.4122331,37.4122333,37.4122337,37.4122339,37.4122341,37.4122343,37.412235,37.4122353,37.4122356,37.4122359,37.4122363,37.4122367,37.4122369,37.4122372,37.4122376,37.4122384,37.4122387,37.4122391,37.4122395,37.41224,37.4122404,37.4122408,37.4122412,37.4122417,37.4122428,37.4122433,37.4122437,37.4122441,37.4122445,37.4122449,37.4122453,37.4122457,37.4122462,37.4122466,37.412247,37.4122474]]]}}},\"view\":{\"type\":\"object\",\"name\":\"CDSView\",\"id\":\"p1320\",\"attributes\":{\"filter\":{\"type\":\"object\",\"name\":\"AllIndices\",\"id\":\"p1321\"}}},\"glyph\":{\"type\":\"object\",\"name\":\"Scatter\",\"id\":\"p1316\",\"attributes\":{\"x\":{\"type\":\"field\",\"field\":\"x\"},\"y\":{\"type\":\"field\",\"field\":\"y\"},\"size\":{\"type\":\"value\",\"value\":10},\"line_color\":{\"type\":\"value\",\"value\":\"blue\"},\"line_alpha\":{\"type\":\"value\",\"value\":0.05},\"fill_color\":{\"type\":\"value\",\"value\":\"blue\"},\"fill_alpha\":{\"type\":\"value\",\"value\":0.05},\"hatch_color\":{\"type\":\"value\",\"value\":\"blue\"},\"hatch_alpha\":{\"type\":\"value\",\"value\":0.05}}},\"nonselection_glyph\":{\"type\":\"object\",\"name\":\"Scatter\",\"id\":\"p1317\",\"attributes\":{\"x\":{\"type\":\"field\",\"field\":\"x\"},\"y\":{\"type\":\"field\",\"field\":\"y\"},\"size\":{\"type\":\"value\",\"value\":10},\"line_color\":{\"type\":\"value\",\"value\":\"blue\"},\"line_alpha\":{\"type\":\"value\",\"value\":0.1},\"fill_color\":{\"type\":\"value\",\"value\":\"blue\"},\"fill_alpha\":{\"type\":\"value\",\"value\":0.1},\"hatch_color\":{\"type\":\"value\",\"value\":\"blue\"},\"hatch_alpha\":{\"type\":\"value\",\"value\":0.1}}},\"muted_glyph\":{\"type\":\"object\",\"name\":\"Scatter\",\"id\":\"p1318\",\"attributes\":{\"x\":{\"type\":\"field\",\"field\":\"x\"},\"y\":{\"type\":\"field\",\"field\":\"y\"},\"size\":{\"type\":\"value\",\"value\":10},\"line_color\":{\"type\":\"value\",\"value\":\"blue\"},\"line_alpha\":{\"type\":\"value\",\"value\":0.2},\"fill_color\":{\"type\":\"value\",\"value\":\"blue\"},\"fill_alpha\":{\"type\":\"value\",\"value\":0.2},\"hatch_color\":{\"type\":\"value\",\"value\":\"blue\"},\"hatch_alpha\":{\"type\":\"value\",\"value\":0.2}}}}}],\"toolbar\":{\"type\":\"object\",\"name\":\"Toolbar\",\"id\":\"p1287\",\"attributes\":{\"tools\":[{\"type\":\"object\",\"name\":\"PanTool\",\"id\":\"p1300\"},{\"type\":\"object\",\"name\":\"WheelZoomTool\",\"id\":\"p1301\",\"attributes\":{\"renderers\":\"auto\"}},{\"type\":\"object\",\"name\":\"BoxZoomTool\",\"id\":\"p1302\",\"attributes\":{\"overlay\":{\"type\":\"object\",\"name\":\"BoxAnnotation\",\"id\":\"p1303\",\"attributes\":{\"syncable\":false,\"line_color\":\"black\",\"line_alpha\":1.0,\"line_width\":2,\"line_dash\":[4,4],\"fill_color\":\"lightgrey\",\"fill_alpha\":0.5,\"level\":\"overlay\",\"visible\":false,\"left\":{\"type\":\"number\",\"value\":\"nan\"},\"right\":{\"type\":\"number\",\"value\":\"nan\"},\"top\":{\"type\":\"number\",\"value\":\"nan\"},\"bottom\":{\"type\":\"number\",\"value\":\"nan\"},\"left_units\":\"canvas\",\"right_units\":\"canvas\",\"top_units\":\"canvas\",\"bottom_units\":\"canvas\",\"handles\":{\"type\":\"object\",\"name\":\"BoxInteractionHandles\",\"id\":\"p1309\",\"attributes\":{\"all\":{\"type\":\"object\",\"name\":\"AreaVisuals\",\"id\":\"p1308\",\"attributes\":{\"fill_color\":\"white\",\"hover_fill_color\":\"lightgray\"}}}}}}}},{\"type\":\"object\",\"name\":\"SaveTool\",\"id\":\"p1310\"},{\"type\":\"object\",\"name\":\"ResetTool\",\"id\":\"p1311\"},{\"type\":\"object\",\"name\":\"HelpTool\",\"id\":\"p1312\"}]}},\"left\":[{\"type\":\"object\",\"name\":\"LinearAxis\",\"id\":\"p1296\",\"attributes\":{\"ticker\":{\"type\":\"object\",\"name\":\"MercatorTicker\",\"id\":\"p1295\",\"attributes\":{\"mantissas\":[1,2,5],\"dimension\":\"lat\"}},\"formatter\":{\"type\":\"object\",\"name\":\"MercatorTickFormatter\",\"id\":\"p1294\",\"attributes\":{\"dimension\":\"lat\"}},\"axis_label\":\"\",\"major_label_policy\":{\"type\":\"object\",\"name\":\"AllLabels\",\"id\":\"p1299\"}}}],\"below\":[{\"type\":\"object\",\"name\":\"LinearAxis\",\"id\":\"p1290\",\"attributes\":{\"ticker\":{\"type\":\"object\",\"name\":\"MercatorTicker\",\"id\":\"p1289\",\"attributes\":{\"mantissas\":[1,2,5],\"dimension\":\"lon\"}},\"formatter\":{\"type\":\"object\",\"name\":\"MercatorTickFormatter\",\"id\":\"p1288\",\"attributes\":{\"dimension\":\"lon\"}},\"axis_label\":\"\",\"major_label_policy\":{\"type\":\"object\",\"name\":\"AllLabels\",\"id\":\"p1293\"}}}],\"map_options\":{\"type\":\"object\",\"name\":\"GMapOptions\",\"id\":\"p1277\",\"attributes\":{\"lat\":37.412057649999994,\"lng\":-121.99596995,\"zoom\":19,\"map_type\":\"satellite\",\"tilt\":0}},\"api_key\":{\"type\":\"bytes\",\"data\":\"QUl6YVN5Qi1qbW1oUmpldmRnUHROckwzbDB4ZTNZVFpiTjNPNzNF\"}}}]}};\n",
       "  const render_items = [{\"docid\":\"ecc74e36-a8dd-4f71-a00f-665411fe05c8\",\"roots\":{\"p1278\":\"a621767f-efd2-4791-897e-9cf3ff16cd41\"},\"root_ids\":[\"p1278\"]}];\n",
       "  void root.Bokeh.embed.embed_items_notebook(docs_json, render_items);\n",
       "  }\n",
       "  if (root.Bokeh !== undefined) {\n",
       "    embed_document(root);\n",
       "  } else {\n",
       "    let attempts = 0;\n",
       "    const timer = setInterval(function(root) {\n",
       "      if (root.Bokeh !== undefined) {\n",
       "        clearInterval(timer);\n",
       "        embed_document(root);\n",
       "      } else {\n",
       "        attempts++;\n",
       "        if (attempts > 100) {\n",
       "          clearInterval(timer);\n",
       "          console.log(\"Bokeh: ERROR: Unable to run BokehJS code because BokehJS library is missing\");\n",
       "        }\n",
       "      }\n",
       "    }, 10, root)\n",
       "  }\n",
       "})(window);"
      ],
      "application/vnd.bokehjs_exec.v0+json": ""
     },
     "metadata": {
      "application/vnd.bokehjs_exec.v0+json": {
       "id": "p1278"
      }
     },
     "output_type": "display_data"
    }
   ],
   "source": [
    "display_map_from_log('logs/robomagellan.2024.botnic.run3.txt', zoom=19)"
   ]
  },
  {
   "cell_type": "markdown",
   "id": "03ff8ebe-2564-4c8c-bc63-50947a8b84c4",
   "metadata": {},
   "source": [
    "### Botnic Spring 2025 - Testing"
   ]
  },
  {
   "cell_type": "code",
   "execution_count": 15,
   "id": "879cb893-a5c4-4546-a19a-1dc1aef011d1",
   "metadata": {},
   "outputs": [
    {
     "name": "stderr",
     "output_type": "stream",
     "text": [
      "BokehDeprecationWarning: 'circle() method with size value' was deprecated in Bokeh 3.4.0 and will be removed, use 'scatter(size=...) instead' instead.\n"
     ]
    },
    {
     "data": {
      "text/html": [
       "\n",
       "  <div id=\"d4d91c35-e349-41a9-8907-18237cbbf879\" data-root-id=\"p1324\" style=\"display: contents;\"></div>\n"
      ]
     },
     "metadata": {},
     "output_type": "display_data"
    },
    {
     "data": {
      "application/javascript": [
       "(function(root) {\n",
       "  function embed_document(root) {\n",
       "  const docs_json = {\"dcb6318c-47b2-417d-b8e3-6d2ecc77a63d\":{\"version\":\"3.6.0\",\"title\":\"Bokeh Application\",\"roots\":[{\"type\":\"object\",\"name\":\"GMap\",\"id\":\"p1324\",\"attributes\":{\"width\":800,\"x_range\":{\"type\":\"object\",\"name\":\"Range1d\",\"id\":\"p1325\"},\"y_range\":{\"type\":\"object\",\"name\":\"Range1d\",\"id\":\"p1326\"},\"x_scale\":{\"type\":\"object\",\"name\":\"LinearScale\",\"id\":\"p1331\"},\"y_scale\":{\"type\":\"object\",\"name\":\"LinearScale\",\"id\":\"p1332\"},\"title\":{\"type\":\"object\",\"name\":\"Title\",\"id\":\"p1329\",\"attributes\":{\"text\":\"Kybernetes 2 GPS Samples - logs/robomagellan.2025.botnic.spring.run10.txt\"}},\"renderers\":[{\"type\":\"object\",\"name\":\"GlyphRenderer\",\"id\":\"p1365\",\"attributes\":{\"data_source\":{\"type\":\"object\",\"name\":\"ColumnDataSource\",\"id\":\"p1359\",\"attributes\":{\"selected\":{\"type\":\"object\",\"name\":\"Selection\",\"id\":\"p1360\",\"attributes\":{\"indices\":[],\"line_indices\":[]}},\"selection_policy\":{\"type\":\"object\",\"name\":\"UnionRenderers\",\"id\":\"p1361\"},\"data\":{\"type\":\"map\",\"entries\":[[\"x\",[-122.0037713,-122.0037714,-122.0037714,-122.0037714,-122.0037715,-122.0037714,-122.0037715,-122.0037715,-122.0037715,-122.0037715,-122.0037715,-122.0037715,-122.0037716,-122.0037716,-122.0037716,-122.0037716,-122.0037716,-122.0037717,-122.0037717,-122.0037717,-122.0037717,-122.0037717,-122.0037718,-122.0037718,-122.0037718,-122.0037719,-122.0037718,-122.0037719,-122.0037719,-122.0037719,-122.0037719,-122.0037719,-122.003772,-122.003772,-122.003772,-122.003772,-122.003772,-122.0037721,-122.0037721,-122.0037721,-122.0037721,-122.0037721,-122.0037721,-122.0037721,-122.0037722,-122.0037721,-122.0037721,-122.0037721,-122.0037722,-122.0037722,-122.0037722,-122.0037722,-122.0037722,-122.0037722,-122.0037722,-122.0037722,-122.0037721,-122.0037722,-122.0037722,-122.0037722,-122.0037722,-122.0037723,-122.0037722,-122.0037723,-122.0037722,-122.0037722,-122.0037722,-122.0037722,-122.0037723,-122.0037723,-122.0037723,-122.0037724,-122.0037724,-122.0037724,-122.0037724,-122.0037724,-122.0037725,-122.0037725,-122.0037724,-122.0037725,-122.0037725,-122.0037725,-122.0037726,-122.0037726,-122.0037727,-122.0037727,-122.0037727,-122.0037728,-122.0037728,-122.0037729,-122.0037729,-122.003773,-122.0037729,-122.003773,-122.003773,-122.003773,-122.0037731,-122.0037731,-122.0037731,-122.0037732,-122.0037732,-122.0037732,-122.0037733,-122.0037734,-122.0037734,-122.0037734,-122.0037735,-122.0037737,-122.0037737,-122.0037737,-122.0037737,-122.0037738,-122.0037738,-122.0037738,-122.0037739,-122.0037739,-122.0037739,-122.0037739,-122.0037739,-122.0037739,-122.0037739,-122.0037739,-122.0037739,-122.0037739,-122.0037739,-122.003774,-122.003774,-122.003774,-122.003774,-122.0037741,-122.0037741,-122.0037741,-122.0037741,-122.0037741,-122.0037742,-122.0037742,-122.0037742,-122.0037743,-122.0037743,-122.0037743,-122.0037744,-122.0037744,-122.0037744,-122.0037744,-122.0037745,-122.0037745,-122.0037745,-122.0037745,-122.0037745,-122.0037746,-122.0037746,-122.0037745,-122.0037746,-122.0037746,-122.0037746,-122.0037746,-122.0037746,-122.0037746,-122.0037746,-122.0037746,-122.0037746,-122.0037746,-122.0037746,-122.0037747,-122.0037747,-122.0037747,-122.0037747,-122.0037747,-122.0037747,-122.0037747,-122.0037747,-122.0037747,-122.0037748,-122.0037748,-122.0037748,-122.0037748,-122.0037749,-122.0037749,-122.0037749,-122.0037749,-122.0037749,-122.0037749,-122.003775,-122.0037749,-122.003775,-122.003775,-122.003775,-122.003775,-122.003775,-122.0037751,-122.003775,-122.0037751,-122.0037751,-122.0037751,-122.0037751,-122.0037751,-122.0037751,-122.0037752,-122.0037751,-122.0037752,-122.0037752,-122.0037752,-122.0037752,-122.0037752,-122.0037752,-122.0037752,-122.0037752,-122.0037752,-122.0037753,-122.0037753,-122.0037753,-122.0037753,-122.0037753,-122.0037754,-122.0037754,-122.0037754,-122.0037754,-122.0037754,-122.0037755,-122.0037755,-122.0037755,-122.0037755,-122.0037756,-122.0037756,-122.0037756,-122.0037756,-122.0037756,-122.0037757,-122.0037757,-122.0037757,-122.0037757,-122.0037757,-122.0037757,-122.0037757,-122.0037758,-122.0037758,-122.0037758,-122.0037758,-122.0037758,-122.0037758,-122.0037759,-122.0037759,-122.0037759,-122.0037759,-122.0037759,-122.0037759,-122.0037759,-122.003776,-122.003776,-122.003776,-122.0037759,-122.0037759,-122.0037758,-122.0037756,-122.0037752,-122.0037749,-122.0037747,-122.0037744,-122.003774,-122.0037736,-122.003773,-122.0037725,-122.003772,-122.0037715,-122.0037709,-122.0037702,-122.0037694,-122.0037685,-122.0037677,-122.0037669,-122.003766,-122.0037649,-122.0037638,-122.0037629,-122.0037619,-122.0037608,-122.0037596,-122.0037584,-122.0037572,-122.003756,-122.0037548,-122.0037534,-122.0037521,-122.0037508,-122.0037495,-122.0037482,-122.0037468,-122.0037454,-122.0037441,-122.0037428,-122.0037414,-122.0037399,-122.0037386,-122.0037371,-122.0037357,-122.0037346,-122.0037333,-122.0037319,-122.0037306,-122.0037292,-122.0037278,-122.0037264,-122.0037251,-122.0037236,-122.0037223,-122.0037209,-122.0037193,-122.0037181,-122.0037165,-122.0037151,-122.0037137,-122.0037122,-122.0037108,-122.0037094,-122.0037079,-122.0037067,-122.0037054,-122.0037041,-122.0037028,-122.0037019,-122.003702,-122.0037023,-122.0037024,-122.0037025,-122.0037024,-122.0037021,-122.0037018,-122.0037013,-122.0037008,-122.0037004,-122.0036998,-122.0036988,-122.0036979,-122.0036969,-122.0036956,-122.0036944,-122.0036931,-122.0036916,-122.0036901,-122.0036886,-122.003687,-122.0036853,-122.0036836,-122.0036821,-122.0036804,-122.0036784,-122.0036766,-122.0036748,-122.0036729,-122.0036708,-122.0036685,-122.0036667,-122.0036646,-122.0036622,-122.0036602,-122.0036579,-122.0036557,-122.0036532,-122.0036511,-122.0036488,-122.0036463,-122.003644,-122.0036416,-122.003639,-122.0036366,-122.003634,-122.0036317,-122.0036291,-122.0036265,-122.0036239,-122.0036213,-122.0036188,-122.0036161,-122.0036135,-122.0036109,-122.0036086,-122.0036059,-122.0036033,-122.0036008,-122.0035985,-122.0035959,-122.0035934,-122.0035912,-122.0035888,-122.0035862,-122.003584,-122.0035818,-122.0035796,-122.0035773,-122.0035751,-122.0035735,-122.0035736,-122.0035744,-122.0035747,-122.0035746,-122.0035745,-122.0035745,-122.0035746,-122.0035746,-122.0035745,-122.0035745,-122.0035744,-122.0035744,-122.0035744,-122.0035744,-122.0035744,-122.0035744,-122.0035743,-122.0035743,-122.0035741,-122.003574,-122.0035738,-122.0035736,-122.0035734,-122.0035731,-122.0035728,-122.0035726,-122.0035724,-122.0035722,-122.0035719,-122.0035716,-122.0035711,-122.0035707,-122.0035704,-122.00357,-122.0035696,-122.0035692,-122.0035688,-122.0035684,-122.003568,-122.0035674,-122.003567,-122.0035666,-122.0035661,-122.0035656,-122.003565,-122.0035645,-122.0035641,-122.0035637,-122.0035632,-122.0035625,-122.0035619,-122.0035615,-122.0035608,-122.0035602,-122.0035596,-122.003559,-122.0035584,-122.0035579,-122.0035574,-122.0035568,-122.0035562,-122.0035556,-122.003555,-122.0035543,-122.0035537,-122.0035532,-122.0035526,-122.0035522,-122.0035516,-122.0035511,-122.0035507,-122.0035501,-122.0035496,-122.0035492,-122.0035487,-122.0035482,-122.0035477,-122.0035473,-122.0035469,-122.0035464,-122.0035459,-122.0035453,-122.0035448,-122.0035443,-122.0035438,-122.0035432,-122.0035426,-122.0035421,-122.0035414,-122.0035409,-122.0035403,-122.0035399,-122.0035392,-122.0035387,-122.0035383,-122.0035377,-122.0035372,-122.0035368,-122.0035363,-122.0035357,-122.003535,-122.0035345,-122.0035341,-122.0035335,-122.003533,-122.0035325,-122.003532,-122.0035314,-122.0035308,-122.0035304,-122.00353,-122.0035294,-122.0035289,-122.0035285,-122.0035279,-122.0035274,-122.0035269,-122.0035264,-122.0035259,-122.0035254,-122.0035249,-122.0035243,-122.0035237,-122.0035232,-122.0035228,-122.0035222,-122.0035216,-122.003521,-122.0035205,-122.00352,-122.0035195,-122.0035189,-122.0035182,-122.0035176,-122.0035171,-122.003517,-122.0035175,-122.0035175,-122.0035177,-122.003518,-122.0035184,-122.0035188,-122.0035191,-122.0035195,-122.00352,-122.0035205,-122.0035211,-122.0035216,-122.0035222,-122.0035228,-122.0035236,-122.0035243,-122.0035249,-122.0035256,-122.0035263,-122.0035269,-122.0035275,-122.0035281,-122.0035287,-122.0035292,-122.0035297,-122.0035304,-122.0035309,-122.0035313,-122.0035318,-122.0035322,-122.0035324,-122.0035323,-122.0035322,-122.0035322,-122.0035322,-122.0035317,-122.0035314,-122.003531,-122.0035306,-122.0035298,-122.0035291,-122.0035285,-122.003528,-122.0035273,-122.0035266,-122.0035261,-122.0035257,-122.0035252,-122.0035249,-122.0035248,-122.0035247,-122.0035253,-122.0035259,-122.0035261,-122.0035266,-122.0035264,-122.0035262,-122.0035265,-122.0035272,-122.0035276,-122.0035275,-122.0035278,-122.0035281,-122.0035286,-122.0035287,-122.0035289,-122.003529,-122.0035295,-122.0035297,-122.00353,-122.0035302,-122.0035305,-122.0035307,-122.003531,-122.0035312,-122.0035315,-122.0035319,-122.0035319,-122.0035324,-122.0035328,-122.0035329,-122.0035332,-122.0035335,-122.0035336,-122.0035337,-122.0035342,-122.0035346,-122.0035347,-122.0035351,-122.0035354,-122.0035357,-122.0035364,-122.0035363,-122.0035366,-122.0035366,-122.0035368,-122.0035371,-122.0035374,-122.0035375,-122.0035378,-122.0035383,-122.0035384,-122.0035389,-122.0035391,-122.0035392,-122.0035394,-122.0035398,-122.0035397,-122.00354,-122.0035403,-122.0035405,-122.0035409,-122.0035411,-122.0035416,-122.0035415,-122.0035415,-122.0035417,-122.003542,-122.0035424,-122.0035425,-122.0035427,-122.0035431,-122.003543,-122.003543,-122.0035434,-122.0035433,-122.0035436,-122.0035439,-122.003544,-122.0035445,-122.0035445,-122.0035445,-122.0035447,-122.0035449,-122.0035446,-122.0035449,-122.0035452,-122.0035451,-122.0035453,-122.0035451,-122.0035451,-122.0035454,-122.0035453,-122.0035453,-122.0035458,-122.003546,-122.0035462,-122.0035463,-122.0035468,-122.0035474,-122.0035475,-122.0035472,-122.0035475,-122.0035479,-122.0035476,-122.0035474,-122.0035475,-122.0035475,-122.0035474,-122.0035473,-122.0035471,-122.0035472,-122.0035471,-122.003547,-122.0035468,-122.0035467,-122.0035467,-122.0035463,-122.0035465,-122.0035463,-122.0035464,-122.0035463,-122.0035463,-122.0035462,-122.0035466,-122.0035466,-122.0035465,-122.0035465,-122.0035466,-122.0035466,-122.0035465,-122.0035465,-122.0035466,-122.0035465,-122.0035466,-122.0035464,-122.0035466,-122.0035461,-122.0035464,-122.0035471,-122.0035474,-122.0035469,-122.0035468,-122.0035468,-122.003547,-122.0035468,-122.0035465,-122.0035467,-122.0035465,-122.003546,-122.0035459,-122.0035459,-122.0035459,-122.0035454,-122.0035456,-122.0035453,-122.003545,-122.0035447,-122.0035444,-122.003544,-122.0035433,-122.0035431,-122.0035427,-122.0035423,-122.003542,-122.0035416,-122.0035409,-122.0035406,-122.0035408,-122.0035408,-122.0035406,-122.0035407,-122.0035408,-122.0035407,-122.0035407,-122.0035407,-122.0035407,-122.0035407,-122.0035406,-122.0035406,-122.0035406,-122.0035406,-122.0035405,-122.0035405,-122.0035405,-122.0035405,-122.0035404,-122.0035404,-122.0035404,-122.0035404,-122.0035404,-122.0035404,-122.0035403,-122.0035403,-122.0035403,-122.0035403,-122.0035404,-122.0035405,-122.0035406,-122.0035407,-122.0035405,-122.0035403,-122.0035402,-122.0035403,-122.0035403,-122.0035402,-122.0035402,-122.0035403,-122.0035402,-122.0035401,-122.0035401,-122.00354,-122.0035401,-122.0035401,-122.0035401,-122.0035402,-122.0035402,-122.0035402,-122.0035403,-122.0035402,-122.00354,-122.0035401,-122.0035402,-122.0035402,-122.0035403,-122.0035403,-122.0035404,-122.0035405,-122.0035405,-122.0035404,-122.0035405,-122.0035406,-122.0035406,-122.0035406,-122.0035406,-122.0035405,-122.0035406,-122.0035406,-122.0035405,-122.0035408,-122.0035408,-122.0035408,-122.0035409,-122.003541,-122.0035409,-122.0035409,-122.003541,-122.003541,-122.003541,-122.0035409,-122.0035409,-122.0035409,-122.0035409,-122.0035411,-122.0035413,-122.0035415,-122.0035421,-122.0035426,-122.0035434,-122.0035443,-122.0035453,-122.0035462,-122.003547,-122.0035484,-122.0035493,-122.0035506,-122.0035513,-122.0035526,-122.0035538,-122.0035549,-122.0035559,-122.0035574,-122.0035588,-122.0035597,-122.0035612,-122.0035629,-122.0035639,-122.0035652,-122.0035667,-122.003568,-122.0035695,-122.0035711,-122.0035724,-122.0035737,-122.0035754,-122.003577,-122.0035785,-122.0035799,-122.0035816,-122.0035833,-122.003585,-122.0035866,-122.0035884,-122.00359,-122.0035918,-122.0035935,-122.0035955,-122.0035971,-122.0035988,-122.0036003,-122.0036024,-122.0036041,-122.0036059,-122.0036072,-122.003609,-122.0036108,-122.0036124,-122.0036142,-122.0036156,-122.0036173,-122.0036189,-122.0036204,-122.003622,-122.0036237,-122.0036253,-122.0036267,-122.0036284,-122.0036299,-122.0036317,-122.0036333,-122.0036345,-122.0036361,-122.0036377,-122.0036393,-122.0036411,-122.0036426,-122.0036442,-122.0036458,-122.0036475,-122.0036491,-122.0036505,-122.0036524,-122.0036542,-122.0036556,-122.0036574,-122.003659,-122.0036604,-122.003662,-122.0036639,-122.0036651,-122.0036667,-122.0036685,-122.0036704,-122.0036721,-122.0036737,-122.0036753,-122.0036768,-122.0036784,-122.0036799,-122.0036816,-122.0036832,-122.0036847,-122.0036865,-122.0036881,-122.0036898,-122.0036912,-122.003693,-122.0036951,-122.0036968,-122.0036981,-122.0037001,-122.0037015,-122.0037033,-122.003705,-122.0037065,-122.0037077,-122.0037096,-122.0037111,-122.0037126,-122.0037143,-122.0037158,-122.0037174,-122.0037192,-122.0037205,-122.0037222,-122.0037241,-122.0037259,-122.0037274,-122.003729,-122.0037307,-122.0037321,-122.0037338,-122.0037353,-122.0037368,-122.0037385,-122.00374,-122.0037417,-122.0037433,-122.0037451,-122.0037467,-122.0037482,-122.00375,-122.0037515,-122.0037531,-122.0037549,-122.0037565,-122.0037581,-122.0037597,-122.0037613,-122.0037629,-122.0037645,-122.0037661,-122.0037679,-122.0037696,-122.0037712,-122.0037729,-122.0037743,-122.0037756,-122.0037773,-122.0037792,-122.0037807,-122.0037823,-122.0037841,-122.0037854,-122.0037868,-122.0037884,-122.0037896,-122.0037911,-122.0037928,-122.003794,-122.0037951,-122.0037964,-122.0037974,-122.0037987,-122.0037999,-122.0037998,-122.0037993,-122.0037987,-122.0037984,-122.0037985,-122.0037985,-122.0037985,-122.0037984,-122.0037983,-122.0037983,-122.0037982,-122.0037981,-122.003798,-122.0037979,-122.0037979,-122.0037978,-122.0037977,-122.0037977,-122.0037976,-122.0037976,-122.0037975,-122.0037974,-122.0037974,-122.0037974,-122.0037974,-122.0037974,-122.0037975,-122.0037976,-122.0037976,-122.0037976,-122.0037976,-122.0037977,-122.0037977,-122.0037977,-122.0037978,-122.0037978,-122.0037977,-122.0037976,-122.0037976,-122.0037976,-122.0037976,-122.0037976,-122.0037975,-122.0037974,-122.0037972,-122.003797,-122.0037969,-122.0037968,-122.0037965,-122.0037963,-122.003796,-122.0037958,-122.0037955,-122.0037953,-122.003795,-122.0037946,-122.0037943,-122.0037939,-122.0037934,-122.0037931,-122.0037928,-122.0037925,-122.003792,-122.0037915,-122.0037912,-122.0037908,-122.0037902,-122.0037897,-122.0037892,-122.0037888,-122.0037883,-122.003788,-122.0037875,-122.0037869,-122.0037864,-122.0037857,-122.0037852,-122.0037848,-122.0037842,-122.0037839,-122.0037835,-122.0037831,-122.0037827,-122.0037823,-122.0037818,-122.0037814,-122.0037809,-122.0037805,-122.0037801,-122.0037797,-122.0037793,-122.0037791,-122.0037789,-122.0037787,-122.0037785,-122.0037783,-122.003778,-122.0037779,-122.003778,-122.0037779,-122.0037778,-122.0037779,-122.003778,-122.003778,-122.0037778,-122.0037778,-122.003778,-122.0037782,-122.0037783,-122.0037785,-122.0037786,-122.0037789,-122.0037792,-122.0037795,-122.0037798,-122.0037801,-122.0037805,-122.0037808,-122.003781,-122.0037813,-122.0037816,-122.003782,-122.0037825,-122.003783,-122.0037835,-122.0037841,-122.0037846,-122.0037849,-122.003785,-122.0037856,-122.0037864,-122.0037872,-122.0037875,-122.0037878,-122.0037883,-122.0037888,-122.0037892,-122.0037896,-122.0037903,-122.0037909,-122.0037915,-122.0037919,-122.0037924,-122.0037929,-122.0037933,-122.0037937,-122.0037941,-122.0037947,-122.0037953,-122.003796,-122.0037964,-122.003797,-122.0037975,-122.0037979,-122.0037985,-122.0037992,-122.0038,-122.0038007,-122.0038014,-122.0038018,-122.0038022,-122.0038027,-122.0038032,-122.0038038,-122.0038045,-122.0038051,-122.0038057,-122.0038063,-122.0038066,-122.0038073,-122.0038079,-122.0038083,-122.0038089,-122.0038095,-122.00381,-122.0038106,-122.0038113,-122.0038119,-122.0038127,-122.0038132,-122.0038137,-122.0038143,-122.0038147,-122.0038149,-122.0038146,-122.0038145,-122.0038145,-122.0038144,-122.0038143,-122.0038144,-122.0038143,-122.0038142,-122.0038142,-122.0038141,-122.0038141,-122.0038141,-122.003814,-122.0038139,-122.0038139,-122.0038139,-122.0038138,-122.0038138,-122.0038138,-122.0038138,-122.0038137,-122.0038137,-122.0038137,-122.0038137,-122.0038137,-122.0038137,-122.0038136,-122.0038137,-122.0038137,-122.0038136,-122.0038136,-122.0038136,-122.0038136,-122.0038135,-122.0038136,-122.0038135,-122.0038135,-122.0038136,-122.0038136,-122.0038135,-122.0038136,-122.0038135,-122.0038135,-122.0038135,-122.0038135,-122.0038134,-122.0038135,-122.0038135,-122.0038134,-122.0038133,-122.0038133,-122.0038133,-122.0038133,-122.0038133,-122.0038132,-122.0038131,-122.0038132,-122.0038131,-122.0038131,-122.0038131,-122.0038131,-122.003813,-122.003813,-122.0038129,-122.0038129,-122.0038129,-122.0038128,-122.0038128,-122.0038128,-122.0038127,-122.0038127,-122.0038127,-122.0038126,-122.0038126,-122.0038126,-122.0038126,-122.0038125,-122.0038125,-122.0038125,-122.0038125,-122.0038124,-122.0038125,-122.0038124,-122.0038124,-122.0038123,-122.0038123,-122.0038123,-122.0038124,-122.0038123,-122.0038123,-122.0038122,-122.0038123,-122.0038122,-122.0038122,-122.0038122,-122.0038122,-122.0038122,-122.0038122,-122.0038121,-122.0038121,-122.0038121,-122.0038121,-122.003812,-122.0038121,-122.003812,-122.003812,-122.003812,-122.003812,-122.003812,-122.003812,-122.0038119,-122.0038119,-122.0038118,-122.0038118,-122.0038118,-122.0038118,-122.0038118,-122.0038118,-122.0038117,-122.0038118,-122.0038118,-122.0038118,-122.0038118,-122.0038118,-122.0038118,-122.0038118,-122.0038118,-122.0038118,-122.0038118,-122.0038118,-122.0038118,-122.0038118,-122.0038117,-122.0038117,-122.0038117,-122.0038117,-122.0038117,-122.0038117,-122.0038118,-122.0038117,-122.0038117,-122.0038117,-122.0038116,-122.0038116,-122.0038117,-122.0038117,-122.0038117,-122.0038117,-122.0038117,-122.0038117,-122.0038117,-122.0038117,-122.0038117,-122.0038117,-122.0038117,-122.0038118,-122.0038118,-122.0038118,-122.0038117,-122.0038118,-122.0038117,-122.0038118,-122.0038118,-122.0038118,-122.0038117,-122.0038118,-122.0038118,-122.0038118,-122.0038118,-122.0038117,-122.0038117,-122.0038117,-122.0038118,-122.0038117,-122.0038118,-122.0038117,-122.0038117,-122.0038117,-122.0038117,-122.0038117,-122.0038117,-122.0038117,-122.0038117,-122.0038117,-122.0038117,-122.0038117,-122.0038117,-122.0038117,-122.0038117,-122.0038116,-122.0038117,-122.0038117,-122.0038117,-122.0038117,-122.0038117,-122.0038117,-122.0038117,-122.0038117,-122.0038117,-122.0038117,-122.0038117,-122.0038117,-122.0038116,-122.0038117,-122.0038115,-122.0038112,-122.0038109,-122.0038105,-122.0038101,-122.0038096,-122.0038091,-122.0038086,-122.0038077,-122.0038073,-122.0038069,-122.003806,-122.0038053,-122.0038045,-122.0038036,-122.0038031,-122.0038024,-122.0038018,-122.0038011,-122.0038003,-122.0037997,-122.0037991,-122.0037984,-122.0037979,-122.0037974,-122.0037968,-122.003796,-122.0037957,-122.0037959,-122.003796,-122.003796,-122.0037964,-122.003797,-122.0037975,-122.003798,-122.0037986,-122.0037993,-122.0038003,-122.0038013,-122.003802,-122.0038028,-122.0038038,-122.0038043,-122.0038046,-122.003805,-122.0038054,-122.0038055,-122.0038056,-122.0038054,-122.0038046,-122.0038044,-122.0038039,-122.003803,-122.0038023,-122.0038019,-122.003801,-122.0038005,-122.0037999,-122.0037992,-122.0037984,-122.0037973,-122.0037967,-122.0037962,-122.0037953,-122.0037946,-122.0037939,-122.0037929,-122.0037924,-122.0037916,-122.0037909,-122.00379,-122.0037891,-122.003788,-122.0037873,-122.0037864,-122.0037857,-122.003785,-122.0037841,-122.0037835,-122.0037826,-122.003782,-122.0037813,-122.0037806,-122.0037798,-122.0037789,-122.0037784,-122.0037775,-122.0037767,-122.003776,-122.0037752,-122.0037745,-122.0037736,-122.0037727,-122.0037719,-122.0037711,-122.0037704,-122.0037695,-122.0037688,-122.0037681,-122.0037671,-122.0037664,-122.0037658,-122.0037649,-122.0037641,-122.0037636,-122.0037629,-122.0037618,-122.003761,-122.0037602,-122.0037593,-122.0037586,-122.0037578,-122.003757,-122.0037564,-122.0037556,-122.0037548,-122.0037539,-122.0037532,-122.0037523,-122.0037515,-122.0037507,-122.0037499,-122.003749,-122.0037482,-122.0037477,-122.0037468,-122.003746,-122.0037451,-122.0037443,-122.0037433,-122.0037425,-122.0037417,-122.0037405,-122.0037396,-122.003739,-122.0037379,-122.0037369,-122.0037363,-122.0037353,-122.0037343,-122.0037337,-122.0037327,-122.0037318,-122.0037312,-122.0037302,-122.0037293,-122.0037284,-122.0037276,-122.0037268,-122.0037261,-122.0037256,-122.0037244,-122.0037237,-122.0037232,-122.0037224,-122.0037217,-122.0037208,-122.0037201,-122.0037193,-122.0037187,-122.0037179,-122.003717,-122.0037161,-122.0037152,-122.0037144,-122.0037137,-122.0037126,-122.0037117,-122.003711,-122.0037101,-122.0037093,-122.0037085,-122.0037077,-122.0037066,-122.0037058,-122.0037051,-122.0037041,-122.0037034,-122.0037026,-122.0037018,-122.0037009,-122.0037002,-122.0036996,-122.0036987,-122.0036978,-122.0036969,-122.0036961,-122.0036955,-122.0036948,-122.0036939,-122.0036931,-122.0036921,-122.0036914,-122.0036902,-122.0036895,-122.0036888,-122.003688,-122.003687,-122.0036861,-122.0036855,-122.0036848,-122.0036836,-122.0036831,-122.0036825,-122.0036815,-122.0036807,-122.0036798,-122.0036788,-122.0036779,-122.0036773,-122.0036765,-122.0036758,-122.0036749,-122.0036742,-122.0036732,-122.0036725,-122.0036718,-122.0036708,-122.0036698,-122.0036691,-122.0036684,-122.0036675,-122.0036667,-122.0036659,-122.0036652,-122.0036645,-122.0036638,-122.0036631,-122.0036623,-122.0036617,-122.0036611,-122.0036604,-122.0036595,-122.0036586,-122.003658,-122.0036571,-122.0036563,-122.0036557,-122.0036552,-122.0036544,-122.0036537,-122.0036535,-122.003653,-122.0036523,-122.003652,-122.0036516,-122.003651,-122.0036501,-122.0036492,-122.0036487,-122.0036486,-122.003649,-122.0036494,-122.0036504,-122.0036519,-122.0036536,-122.0036552,-122.0036565,-122.003658,-122.0036595,-122.0036611,-122.0036624,-122.0036639,-122.0036655,-122.0036669,-122.0036685,-122.0036701,-122.0036716,-122.003673,-122.0036747,-122.0036762,-122.0036775,-122.0036788,-122.0036804,-122.003682,-122.0036833,-122.0036849,-122.0036862,-122.0036876,-122.0036892,-122.0036906,-122.003692,-122.0036937,-122.0036952,-122.0036965,-122.0036981,-122.0036997,-122.0037013,-122.003703,-122.0037046,-122.0037062,-122.0037076,-122.0037091,-122.0037108,-122.0037122,-122.0037135,-122.0037151,-122.0037166,-122.0037181,-122.0037195,-122.003721,-122.0037225,-122.0037239,-122.0037256,-122.0037269,-122.0037286,-122.0037302,-122.0037316,-122.003733,-122.0037349,-122.0037363,-122.0037381,-122.0037398,-122.0037411,-122.0037429,-122.0037446,-122.0037463,-122.003748,-122.0037496,-122.0037513,-122.0037532,-122.0037547,-122.0037562,-122.003758,-122.0037596,-122.0037613,-122.0037629,-122.0037645,-122.003766,-122.0037678,-122.0037694,-122.0037711,-122.0037728,-122.0037746,-122.0037764,-122.0037781,-122.0037798,-122.0037816,-122.0037833,-122.0037851,-122.0037869,-122.0037887,-122.0037904,-122.0037923,-122.0037942,-122.0037959,-122.0037977,-122.0037996,-122.0038016,-122.0038034,-122.0038052,-122.0038071,-122.003809,-122.0038107,-122.0038129,-122.0038147,-122.0038161,-122.0038176,-122.003819,-122.0038202,-122.0038214,-122.0038225,-122.0038236,-122.0038244,-122.003825,-122.0038257,-122.0038262,-122.0038266,-122.0038268,-122.0038271,-122.0038273,-122.0038274,-122.0038275,-122.0038275,-122.0038275,-122.0038275,-122.0038275,-122.0038274,-122.0038275,-122.0038274,-122.0038275,-122.0038275,-122.0038275,-122.0038275,-122.0038275,-122.0038275,-122.0038275,-122.0038275,-122.0038275,-122.0038275,-122.0038275,-122.0038275,-122.0038275,-122.0038275,-122.0038274,-122.0038275,-122.0038274,-122.0038274,-122.0038274,-122.0038273,-122.0038274,-122.0038273,-122.0038272,-122.0038272,-122.0038272,-122.0038272,-122.0038272,-122.0038271,-122.0038271,-122.0038271,-122.0038271,-122.003827,-122.003827,-122.003827,-122.003827,-122.003827,-122.0038269,-122.0038269,-122.0038268,-122.0038268,-122.0038269,-122.0038268,-122.0038267,-122.0038267,-122.0038266,-122.0038266,-122.0038267,-122.0038266,-122.0038266,-122.0038266,-122.0038266,-122.0038266,-122.0038266,-122.0038266,-122.0038266,-122.0038266,-122.0038265,-122.0038265,-122.0038265,-122.0038265,-122.0038265,-122.0038265,-122.0038265,-122.0038264,-122.0038264,-122.0038264,-122.0038264,-122.0038264,-122.0038264,-122.0038264,-122.0038264,-122.0038264,-122.0038264,-122.0038264,-122.0038264,-122.0038264,-122.0038264,-122.0038264,-122.0038263,-122.0038263,-122.0038263,-122.0038263,-122.0038263,-122.0038263,-122.0038263,-122.0038263,-122.0038262,-122.0038262,-122.0038261,-122.0038262,-122.0038261,-122.0038262,-122.0038261,-122.0038261,-122.0038261,-122.0038261,-122.003826,-122.003826,-122.003826,-122.0038259,-122.003826,-122.0038259,-122.0038258,-122.0038258,-122.0038257,-122.0038257,-122.0038256,-122.0038257,-122.0038256,-122.0038256,-122.0038256,-122.0038256,-122.0038256,-122.0038255,-122.0038255]],[\"y\",[37.3862091,37.3862091,37.3862091,37.3862091,37.3862091,37.3862091,37.386209,37.386209,37.386209,37.386209,37.386209,37.386209,37.386209,37.386209,37.386209,37.386209,37.386209,37.3862089,37.386209,37.3862089,37.3862089,37.3862089,37.3862089,37.3862089,37.3862089,37.3862089,37.3862088,37.3862088,37.3862088,37.3862088,37.3862087,37.3862087,37.3862087,37.3862087,37.3862086,37.3862086,37.3862086,37.3862086,37.3862086,37.3862086,37.3862086,37.3862086,37.3862086,37.3862085,37.3862086,37.3862086,37.3862086,37.3862086,37.3862086,37.3862086,37.3862086,37.3862085,37.3862085,37.3862085,37.3862085,37.3862085,37.3862085,37.3862085,37.3862084,37.3862085,37.3862085,37.3862085,37.3862085,37.3862084,37.3862085,37.3862085,37.3862085,37.3862085,37.3862085,37.3862084,37.3862084,37.3862084,37.3862084,37.3862083,37.3862083,37.3862083,37.3862083,37.3862083,37.3862083,37.3862082,37.3862082,37.3862082,37.3862082,37.3862082,37.3862081,37.3862081,37.3862081,37.3862081,37.3862081,37.3862081,37.3862081,37.386208,37.386208,37.386208,37.386208,37.386208,37.386208,37.386208,37.386208,37.386208,37.386208,37.386208,37.3862079,37.3862079,37.3862079,37.3862079,37.3862079,37.3862079,37.3862078,37.3862078,37.3862078,37.3862078,37.3862078,37.3862078,37.3862077,37.3862077,37.3862077,37.3862077,37.3862076,37.3862076,37.3862076,37.3862076,37.3862076,37.3862075,37.3862075,37.3862075,37.3862075,37.3862075,37.3862074,37.3862074,37.3862074,37.3862074,37.3862074,37.3862073,37.3862073,37.3862073,37.3862073,37.3862072,37.3862072,37.3862071,37.3862071,37.3862071,37.3862071,37.3862071,37.3862071,37.386207,37.386207,37.386207,37.386207,37.386207,37.386207,37.3862069,37.3862069,37.3862069,37.3862069,37.3862069,37.3862068,37.3862068,37.3862068,37.3862068,37.3862068,37.3862067,37.3862067,37.3862067,37.3862067,37.3862067,37.3862067,37.3862067,37.3862067,37.3862066,37.3862066,37.3862066,37.3862066,37.3862066,37.3862066,37.3862066,37.3862066,37.3862066,37.3862066,37.3862065,37.3862065,37.3862066,37.3862065,37.3862065,37.3862065,37.3862065,37.3862065,37.3862065,37.3862065,37.3862065,37.3862065,37.3862064,37.3862064,37.3862064,37.3862064,37.3862064,37.3862064,37.3862064,37.3862064,37.3862063,37.3862064,37.3862064,37.3862063,37.3862063,37.3862063,37.3862063,37.3862063,37.3862063,37.3862062,37.3862062,37.3862062,37.3862062,37.3862062,37.3862062,37.3862062,37.3862062,37.3862062,37.3862061,37.3862061,37.3862061,37.3862061,37.3862061,37.3862061,37.3862061,37.3862061,37.386206,37.386206,37.386206,37.3862059,37.3862059,37.3862059,37.3862059,37.3862059,37.3862059,37.3862058,37.3862058,37.3862058,37.3862058,37.3862058,37.3862058,37.3862057,37.3862057,37.3862057,37.3862057,37.3862057,37.3862056,37.3862057,37.3862056,37.3862056,37.3862056,37.3862056,37.3862056,37.3862056,37.3862056,37.3862057,37.3862057,37.3862058,37.3862059,37.386206,37.3862061,37.3862063,37.3862064,37.3862064,37.3862065,37.3862067,37.3862069,37.386207,37.3862071,37.3862074,37.3862075,37.3862076,37.3862077,37.386208,37.3862082,37.3862084,37.3862087,37.3862088,37.3862089,37.3862091,37.3862095,37.3862097,37.38621,37.3862102,37.3862105,37.3862107,37.386211,37.3862112,37.3862114,37.3862116,37.3862119,37.3862122,37.3862124,37.3862128,37.386213,37.3862133,37.3862136,37.3862138,37.3862141,37.3862144,37.3862145,37.386215,37.386215,37.3862153,37.3862156,37.3862159,37.3862162,37.3862166,37.3862169,37.3862171,37.3862174,37.3862177,37.3862178,37.3862181,37.3862183,37.3862183,37.3862188,37.386219,37.3862191,37.3862195,37.3862197,37.3862197,37.3862195,37.3862195,37.3862195,37.3862194,37.3862195,37.3862195,37.3862196,37.3862197,37.3862197,37.3862197,37.3862198,37.3862198,37.38622,37.38622,37.38622,37.3862202,37.3862203,37.3862204,37.3862207,37.3862208,37.386221,37.3862212,37.3862213,37.3862215,37.3862219,37.386222,37.3862223,37.3862225,37.3862228,37.386223,37.3862232,37.3862236,37.386224,37.3862241,37.3862245,37.3862249,37.3862251,37.3862253,37.3862258,37.3862259,37.3862261,37.3862263,37.3862265,37.3862266,37.3862268,37.386227,37.3862274,37.3862276,37.3862277,37.386228,37.3862284,37.3862285,37.3862285,37.3862285,37.3862288,37.3862291,37.3862291,37.3862291,37.3862295,37.3862297,37.3862298,37.38623,37.38623,37.3862302,37.3862302,37.3862303,37.3862303,37.3862305,37.3862305,37.3862306,37.3862306,37.3862305,37.3862304,37.3862304,37.3862304,37.3862304,37.3862304,37.3862304,37.3862304,37.3862303,37.3862303,37.3862303,37.3862303,37.3862303,37.3862303,37.3862303,37.3862303,37.3862302,37.3862303,37.3862302,37.3862303,37.3862303,37.3862303,37.3862304,37.3862304,37.3862304,37.3862305,37.3862304,37.3862305,37.3862306,37.3862307,37.3862308,37.3862309,37.386231,37.386231,37.3862312,37.3862313,37.3862314,37.3862315,37.3862315,37.3862317,37.3862318,37.3862318,37.3862319,37.3862321,37.3862321,37.3862322,37.3862323,37.3862324,37.3862326,37.3862327,37.3862327,37.3862329,37.386233,37.3862331,37.3862333,37.3862335,37.3862336,37.3862336,37.3862337,37.3862338,37.386234,37.3862342,37.3862343,37.3862344,37.3862345,37.3862345,37.3862347,37.3862349,37.386235,37.386235,37.3862351,37.3862352,37.3862353,37.3862354,37.3862356,37.3862357,37.3862357,37.3862358,37.3862359,37.386236,37.3862361,37.3862362,37.3862363,37.3862365,37.3862365,37.3862367,37.3862368,37.3862369,37.3862371,37.3862373,37.3862373,37.3862375,37.3862376,37.3862377,37.3862378,37.386238,37.3862382,37.3862383,37.3862384,37.3862384,37.3862386,37.3862388,37.3862389,37.386239,37.3862391,37.3862393,37.3862393,37.3862395,37.3862395,37.3862397,37.3862399,37.38624,37.3862401,37.3862403,37.3862404,37.3862405,37.3862407,37.3862409,37.3862409,37.386241,37.3862412,37.3862413,37.3862415,37.3862417,37.3862418,37.3862419,37.3862421,37.3862422,37.3862423,37.3862425,37.3862427,37.3862428,37.3862429,37.3862431,37.3862429,37.3862429,37.386243,37.386243,37.3862429,37.3862428,37.3862428,37.3862427,37.3862427,37.3862425,37.3862424,37.3862423,37.3862423,37.3862422,37.386242,37.3862418,37.3862417,37.3862417,37.3862415,37.3862414,37.3862414,37.3862412,37.386241,37.3862407,37.3862406,37.3862406,37.3862404,37.3862402,37.3862401,37.38624,37.3862399,37.3862398,37.3862399,37.3862399,37.3862399,37.3862399,37.38624,37.3862401,37.3862402,37.3862404,37.3862406,37.3862408,37.3862411,37.3862417,37.3862421,37.3862428,37.3862436,37.3862445,37.3862453,37.3862465,37.3862476,37.3862488,37.38625,37.3862513,37.3862529,37.3862543,37.3862557,37.3862575,37.386259,37.3862606,37.3862624,37.386264,37.3862659,37.3862676,37.3862694,37.3862713,37.3862732,37.3862753,37.386277,37.386279,37.3862808,37.3862829,37.3862847,37.3862865,37.3862885,37.3862904,37.3862923,37.3862942,37.3862962,37.386298,37.3863,37.3863021,37.3863041,37.386306,37.386308,37.38631,37.3863121,37.3863139,37.3863159,37.3863178,37.38632,37.3863219,37.386324,37.3863259,37.3863281,37.3863299,37.3863319,37.3863338,37.3863357,37.3863377,37.3863398,37.3863417,37.3863436,37.3863456,37.3863474,37.3863495,37.3863516,37.3863537,37.3863556,37.3863576,37.3863596,37.3863616,37.3863636,37.386366,37.3863679,37.3863699,37.386372,37.386374,37.3863761,37.3863781,37.3863802,37.3863823,37.3863842,37.3863864,37.3863885,37.3863905,37.3863925,37.3863948,37.3863967,37.3863984,37.3864005,37.3864025,37.3864044,37.3864065,37.3864085,37.3864105,37.3864126,37.3864147,37.3864164,37.3864187,37.3864206,37.3864225,37.3864245,37.3864264,37.3864284,37.3864303,37.3864324,37.3864345,37.3864363,37.3864383,37.3864405,37.3864423,37.3864444,37.3864464,37.3864482,37.3864503,37.3864522,37.3864542,37.3864561,37.3864582,37.3864602,37.3864621,37.3864641,37.3864662,37.3864683,37.3864705,37.3864725,37.3864743,37.3864765,37.3864785,37.3864803,37.3864822,37.3864844,37.3864865,37.3864885,37.3864905,37.3864926,37.3864947,37.3864968,37.3864988,37.3865009,37.386503,37.3865048,37.3865069,37.3865089,37.3865109,37.3865129,37.3865147,37.3865166,37.3865186,37.3865207,37.3865225,37.3865242,37.386526,37.386528,37.3865297,37.3865318,37.3865336,37.3865356,37.3865375,37.3865395,37.3865415,37.3865434,37.3865452,37.3865472,37.3865491,37.3865508,37.3865528,37.3865548,37.3865565,37.3865585,37.3865603,37.3865622,37.3865641,37.3865659,37.3865678,37.3865695,37.3865712,37.3865726,37.3865727,37.3865722,37.3865718,37.3865719,37.386572,37.386572,37.3865721,37.3865721,37.3865722,37.3865723,37.3865723,37.3865724,37.3865725,37.3865725,37.3865726,37.3865726,37.3865727,37.3865728,37.386573,37.3865732,37.3865733,37.3865735,37.3865737,37.3865739,37.3865742,37.3865745,37.3865748,37.3865751,37.3865754,37.3865756,37.3865759,37.3865763,37.3865767,37.3865772,37.3865776,37.3865779,37.3865783,37.3865786,37.3865789,37.3865793,37.3865797,37.3865802,37.3865805,37.3865804,37.3865801,37.3865802,37.3865802,37.3865799,37.3865797,37.3865793,37.386579,37.3865789,37.3865787,37.3865783,37.3865779,37.3865774,37.3865769,37.3865764,37.3865758,37.3865752,37.3865747,37.3865741,37.3865735,37.3865729,37.3865723,37.3865718,37.3865711,37.3865706,37.38657,37.3865695,37.3865689,37.3865684,37.386568,37.3865675,37.386567,37.386567,37.3865672,37.3865672,37.3865671,37.3865671,37.3865673,37.3865677,37.3865681,37.3865685,37.3865691,37.3865698,37.3865703,37.386571,37.3865719,37.3865727,37.3865733,37.3865742,37.386575,37.3865758,37.3865769,37.3865779,37.3865789,37.3865799,37.3865812,37.3865822,37.3865835,37.3865847,37.3865858,37.386587,37.3865881,37.3865894,37.3865906,37.386592,37.386593,37.3865941,37.3865956,37.3865971,37.386598,37.3865995,37.3866009,37.3866023,37.3866037,37.3866051,37.3866066,37.3866081,37.3866097,37.3866112,37.3866128,37.3866143,37.3866157,37.3866174,37.3866189,37.3866205,37.3866219,37.3866234,37.3866249,37.3866264,37.3866279,37.3866293,37.3866307,37.3866324,37.3866339,37.3866355,37.3866368,37.3866383,37.3866398,37.3866414,37.3866428,37.3866444,37.3866459,37.3866474,37.3866491,37.3866507,37.3866521,37.3866536,37.3866553,37.3866565,37.3866577,37.3866595,37.3866611,37.3866624,37.3866638,37.3866655,37.3866672,37.3866686,37.3866702,37.3866719,37.3866735,37.3866749,37.3866764,37.3866782,37.3866797,37.3866812,37.3866828,37.3866842,37.3866857,37.3866872,37.3866888,37.3866901,37.3866917,37.3866934,37.386695,37.3866965,37.3866981,37.3866997,37.3867013,37.386703,37.3867045,37.386706,37.3867076,37.3867091,37.3867107,37.3867122,37.3867138,37.3867153,37.3867168,37.3867185,37.38672,37.3867215,37.3867229,37.3867244,37.3867259,37.3867272,37.3867288,37.3867303,37.3867317,37.3867333,37.3867347,37.3867362,37.3867378,37.3867392,37.3867409,37.3867424,37.386744,37.3867455,37.3867471,37.3867486,37.3867501,37.3867517,37.3867532,37.3867547,37.3867563,37.3867579,37.3867595,37.3867611,37.3867628,37.3867644,37.3867659,37.3867675,37.3867692,37.3867711,37.3867729,37.3867745,37.386776,37.3867776,37.3867791,37.3867807,37.3867824,37.3867841,37.3867857,37.3867872,37.386789,37.3867905,37.3867922,37.3867939,37.3867955,37.3867972,37.3867987,37.3868004,37.3868022,37.3868037,37.3868051,37.3868069,37.3868084,37.3868099,37.3868116,37.3868132,37.3868146,37.3868163,37.3868175,37.3868191,37.3868204,37.3868203,37.38682,37.3868196,37.3868195,37.3868195,37.3868195,37.3868195,37.3868195,37.3868195,37.3868195,37.3868195,37.3868195,37.3868195,37.3868195,37.3868195,37.3868195,37.3868195,37.3868195,37.3868195,37.3868196,37.3868196,37.3868197,37.3868198,37.38682,37.3868201,37.3868203,37.3868205,37.3868208,37.3868209,37.3868211,37.3868213,37.3868215,37.3868217,37.3868219,37.3868222,37.3868226,37.3868228,37.386823,37.3868233,37.3868236,37.3868239,37.3868241,37.3868242,37.3868244,37.3868247,37.3868249,37.3868252,37.3868256,37.386826,37.3868262,37.3868265,37.3868267,37.3868268,37.3868271,37.3868274,37.3868275,37.3868278,37.3868279,37.3868281,37.3868283,37.3868284,37.3868286,37.3868289,37.3868289,37.386829,37.3868292,37.3868293,37.3868292,37.3868294,37.3868294,37.3868294,37.3868294,37.3868295,37.3868294,37.3868294,37.3868294,37.3868291,37.386829,37.3868289,37.3868288,37.3868286,37.3868285,37.3868283,37.3868281,37.3868279,37.3868276,37.3868273,37.386827,37.3868266,37.3868263,37.3868259,37.3868256,37.3868251,37.3868247,37.3868244,37.3868242,37.3868237,37.3868234,37.3868229,37.3868224,37.3868222,37.3868219,37.3868215,37.3868211,37.3868207,37.3868204,37.38682,37.3868197,37.3868195,37.3868192,37.3868189,37.3868187,37.3868184,37.386818,37.3868176,37.3868173,37.386817,37.3868168,37.3868166,37.3868164,37.3868164,37.3868163,37.386816,37.3868157,37.3868156,37.3868155,37.3868156,37.3868156,37.3868155,37.3868153,37.3868153,37.3868154,37.3868155,37.3868155,37.3868155,37.3868155,37.3868153,37.3868153,37.3868153,37.3868152,37.3868152,37.3868152,37.3868152,37.3868151,37.386815,37.386815,37.386815,37.386815,37.3868149,37.3868149,37.3868148,37.3868148,37.3868148,37.3868147,37.3868146,37.3868146,37.3868147,37.3868147,37.3868148,37.3868145,37.3868143,37.3868144,37.3868144,37.3868145,37.3868143,37.3868142,37.386814,37.3868139,37.3868141,37.3868141,37.3868141,37.386814,37.3868139,37.3868139,37.386814,37.386814,37.3868139,37.3868138,37.3868137,37.3868136,37.3868136,37.3868137,37.3868137,37.3868137,37.3868136,37.3868136,37.3868135,37.3868135,37.3868135,37.3868135,37.3868135,37.3868135,37.3868135,37.3868134,37.3868135,37.3868135,37.3868135,37.3868134,37.3868134,37.3868135,37.3868134,37.3868135,37.3868134,37.3868134,37.3868134,37.3868134,37.3868135,37.3868135,37.3868134,37.3868135,37.3868135,37.3868135,37.3868135,37.3868135,37.3868135,37.3868135,37.3868136,37.3868135,37.3868136,37.3868135,37.3868135,37.3868135,37.3868135,37.3868135,37.3868135,37.3868134,37.3868134,37.3868134,37.3868135,37.3868134,37.3868134,37.3868135,37.3868134,37.3868134,37.3868134,37.3868134,37.3868134,37.3868134,37.3868134,37.3868135,37.3868134,37.3868134,37.3868135,37.3868135,37.3868134,37.3868134,37.3868135,37.3868135,37.3868134,37.3868135,37.3868134,37.3868135,37.3868134,37.3868134,37.3868134,37.3868134,37.3868134,37.3868134,37.3868134,37.3868134,37.3868134,37.3868134,37.3868134,37.3868134,37.3868134,37.3868134,37.3868134,37.3868134,37.3868133,37.3868133,37.3868133,37.3868133,37.3868133,37.3868133,37.3868133,37.3868133,37.3868133,37.3868133,37.3868133,37.3868133,37.3868132,37.3868133,37.3868132,37.3868132,37.3868132,37.3868133,37.3868132,37.3868132,37.3868132,37.3868132,37.3868132,37.3868132,37.3868132,37.3868132,37.3868132,37.3868132,37.3868132,37.3868132,37.3868132,37.3868132,37.3868132,37.3868131,37.3868132,37.3868132,37.3868132,37.3868132,37.3868132,37.3868132,37.3868132,37.3868132,37.3868132,37.3868132,37.3868132,37.3868132,37.3868132,37.3868132,37.3868133,37.3868133,37.3868132,37.3868133,37.3868133,37.3868133,37.3868133,37.3868133,37.3868132,37.3868133,37.3868133,37.3868133,37.3868133,37.3868133,37.3868132,37.3868133,37.3868132,37.3868133,37.3868132,37.3868133,37.3868132,37.3868132,37.3868132,37.3868132,37.3868132,37.3868132,37.3868132,37.3868132,37.3868132,37.3868133,37.3868133,37.3868132,37.3868133,37.3868133,37.3868133,37.3868133,37.3868133,37.3868133,37.3868133,37.3868133,37.3868133,37.3868133,37.3868133,37.3868133,37.3868133,37.3868133,37.3868133,37.3868133,37.3868133,37.3868134,37.3868134,37.3868133,37.3868134,37.3868134,37.3868134,37.3868134,37.3868134,37.3868134,37.3868134,37.3868134,37.3868134,37.3868135,37.3868135,37.3868134,37.3868135,37.3868134,37.3868135,37.3868135,37.3868135,37.3868135,37.3868135,37.3868135,37.3868135,37.3868135,37.3868134,37.3868135,37.3868135,37.3868134,37.3868134,37.3868133,37.3868131,37.3868129,37.3868129,37.3868129,37.3868128,37.3868127,37.3868126,37.3868127,37.3868126,37.3868126,37.3868127,37.3868127,37.3868127,37.3868126,37.3868124,37.3868124,37.3868124,37.3868125,37.3868126,37.3868125,37.3868125,37.3868125,37.3868125,37.3868125,37.3868124,37.3868123,37.3868122,37.3868121,37.3868118,37.3868115,37.386811,37.3868104,37.3868097,37.386809,37.3868082,37.386807,37.3868061,37.3868052,37.3868038,37.3868028,37.3868019,37.3868006,37.3867993,37.386798,37.3867968,37.3867952,37.3867937,37.3867923,37.3867907,37.3867892,37.3867878,37.3867863,37.3867846,37.3867832,37.3867815,37.3867798,37.386778,37.3867762,37.3867746,37.3867727,37.386771,37.386769,37.3867674,37.3867655,37.3867636,37.3867618,37.3867597,37.3867578,37.386756,37.3867539,37.386752,37.3867498,37.3867479,37.386746,37.3867439,37.386742,37.3867402,37.3867381,37.3867362,37.3867343,37.3867324,37.3867303,37.3867286,37.3867268,37.3867247,37.3867227,37.386721,37.3867191,37.3867171,37.3867151,37.3867133,37.3867111,37.3867093,37.3867074,37.3867053,37.3867032,37.3867014,37.3866994,37.3866976,37.3866957,37.3866937,37.3866917,37.3866898,37.3866879,37.386686,37.386684,37.3866822,37.3866801,37.3866782,37.3866762,37.3866743,37.3866723,37.3866703,37.3866683,37.3866663,37.3866643,37.3866623,37.3866603,37.3866584,37.3866565,37.3866544,37.3866524,37.3866504,37.3866485,37.3866464,37.3866445,37.3866425,37.3866406,37.3866388,37.386637,37.3866349,37.3866332,37.3866314,37.3866295,37.3866276,37.3866258,37.3866239,37.3866219,37.3866199,37.3866181,37.3866161,37.386614,37.3866124,37.3866106,37.3866088,37.3866067,37.3866049,37.386603,37.386601,37.3865991,37.3865971,37.3865952,37.3865934,37.3865915,37.3865896,37.3865876,37.3865855,37.3865837,37.3865816,37.3865797,37.3865778,37.3865759,37.3865738,37.3865719,37.3865702,37.3865682,37.3865663,37.3865645,37.3865625,37.3865605,37.3865585,37.3865567,37.3865545,37.3865525,37.3865506,37.3865486,37.3865467,37.3865449,37.3865429,37.3865409,37.3865389,37.3865369,37.386535,37.3865329,37.386531,37.3865293,37.3865273,37.3865254,37.3865237,37.3865217,37.3865197,37.3865177,37.3865158,37.386514,37.3865119,37.3865099,37.3865081,37.3865061,37.386504,37.3865021,37.3865002,37.3864984,37.3864965,37.3864944,37.3864925,37.3864905,37.3864887,37.3864866,37.3864847,37.3864828,37.3864807,37.3864788,37.3864769,37.3864749,37.3864729,37.3864711,37.386469,37.3864671,37.3864653,37.3864632,37.3864612,37.3864592,37.3864572,37.3864553,37.3864533,37.3864513,37.3864494,37.3864473,37.3864453,37.3864433,37.3864414,37.3864396,37.3864375,37.3864355,37.3864335,37.3864316,37.3864297,37.3864276,37.3864259,37.3864241,37.3864223,37.3864205,37.3864187,37.3864171,37.3864154,37.3864139,37.3864124,37.3864111,37.3864095,37.3864079,37.3864063,37.3864047,37.3864032,37.3864015,37.3863998,37.3863983,37.3863967,37.3863951,37.3863934,37.3863918,37.3863901,37.3863888,37.3863873,37.3863854,37.3863839,37.3863824,37.3863808,37.3863793,37.3863776,37.386376,37.3863745,37.3863728,37.3863713,37.3863696,37.3863682,37.3863664,37.3863647,37.3863631,37.3863615,37.3863599,37.3863584,37.3863567,37.386355,37.3863531,37.3863516,37.38635,37.3863483,37.3863466,37.386345,37.3863434,37.3863416,37.38634,37.3863385,37.3863367,37.386335,37.3863334,37.3863319,37.3863302,37.3863286,37.3863269,37.3863254,37.3863237,37.3863222,37.3863206,37.386319,37.3863174,37.3863158,37.3863141,37.3863126,37.386311,37.3863093,37.3863078,37.3863062,37.3863045,37.3863029,37.3863014,37.3862998,37.3862981,37.3862965,37.3862949,37.3862933,37.3862915,37.3862899,37.3862882,37.3862866,37.386285,37.3862833,37.3862817,37.3862802,37.3862785,37.3862769,37.3862753,37.3862739,37.3862722,37.3862706,37.3862691,37.3862674,37.3862659,37.3862643,37.3862628,37.3862611,37.3862598,37.3862582,37.3862566,37.3862552,37.3862537,37.3862524,37.386251,37.38625,37.3862489,37.3862477,37.3862469,37.3862459,37.3862451,37.3862444,37.3862438,37.3862431,37.3862426,37.386242,37.3862418,37.3862416,37.3862412,37.386241,37.3862409,37.3862408,37.3862407,37.3862406,37.3862406,37.3862406,37.3862406,37.3862407,37.3862407,37.3862407,37.3862407,37.3862407,37.3862407,37.3862407,37.3862407,37.3862407,37.3862407,37.3862407,37.3862407,37.3862407,37.3862407,37.3862407,37.3862407,37.3862407,37.3862406,37.3862406,37.3862406,37.3862406,37.3862406,37.3862407,37.3862406,37.3862406,37.3862406,37.3862406,37.3862406,37.3862406,37.3862406,37.3862406,37.3862406,37.3862406,37.3862406,37.3862406,37.3862406,37.3862406,37.3862406,37.3862407,37.3862406,37.3862407,37.3862407,37.3862407,37.3862408,37.3862408,37.3862408,37.3862408,37.3862409,37.3862408,37.3862408,37.3862409,37.3862409,37.3862409,37.386241,37.386241,37.3862409,37.386241,37.3862409,37.386241,37.386241,37.3862411,37.3862411,37.3862412,37.3862412,37.3862412,37.3862412,37.3862413,37.3862413,37.3862413,37.3862414,37.3862413,37.3862414,37.3862414,37.3862415,37.3862415,37.3862415,37.3862416,37.3862416,37.3862416,37.3862416,37.3862417,37.3862417,37.3862417,37.3862417,37.3862417,37.3862417,37.3862418,37.3862418,37.3862418,37.3862418,37.3862418,37.3862417,37.3862417,37.3862418,37.3862418,37.3862418,37.3862418,37.3862418,37.3862418,37.3862417,37.3862418,37.3862417,37.3862417,37.3862417,37.3862417,37.3862417,37.3862416,37.3862416,37.3862416,37.3862416,37.3862416,37.3862415,37.3862415,37.3862415,37.3862415,37.3862414,37.3862414]]]}}},\"view\":{\"type\":\"object\",\"name\":\"CDSView\",\"id\":\"p1366\",\"attributes\":{\"filter\":{\"type\":\"object\",\"name\":\"AllIndices\",\"id\":\"p1367\"}}},\"glyph\":{\"type\":\"object\",\"name\":\"Scatter\",\"id\":\"p1362\",\"attributes\":{\"x\":{\"type\":\"field\",\"field\":\"x\"},\"y\":{\"type\":\"field\",\"field\":\"y\"},\"size\":{\"type\":\"value\",\"value\":10},\"line_color\":{\"type\":\"value\",\"value\":\"blue\"},\"line_alpha\":{\"type\":\"value\",\"value\":0.05},\"fill_color\":{\"type\":\"value\",\"value\":\"blue\"},\"fill_alpha\":{\"type\":\"value\",\"value\":0.05},\"hatch_color\":{\"type\":\"value\",\"value\":\"blue\"},\"hatch_alpha\":{\"type\":\"value\",\"value\":0.05}}},\"nonselection_glyph\":{\"type\":\"object\",\"name\":\"Scatter\",\"id\":\"p1363\",\"attributes\":{\"x\":{\"type\":\"field\",\"field\":\"x\"},\"y\":{\"type\":\"field\",\"field\":\"y\"},\"size\":{\"type\":\"value\",\"value\":10},\"line_color\":{\"type\":\"value\",\"value\":\"blue\"},\"line_alpha\":{\"type\":\"value\",\"value\":0.1},\"fill_color\":{\"type\":\"value\",\"value\":\"blue\"},\"fill_alpha\":{\"type\":\"value\",\"value\":0.1},\"hatch_color\":{\"type\":\"value\",\"value\":\"blue\"},\"hatch_alpha\":{\"type\":\"value\",\"value\":0.1}}},\"muted_glyph\":{\"type\":\"object\",\"name\":\"Scatter\",\"id\":\"p1364\",\"attributes\":{\"x\":{\"type\":\"field\",\"field\":\"x\"},\"y\":{\"type\":\"field\",\"field\":\"y\"},\"size\":{\"type\":\"value\",\"value\":10},\"line_color\":{\"type\":\"value\",\"value\":\"blue\"},\"line_alpha\":{\"type\":\"value\",\"value\":0.2},\"fill_color\":{\"type\":\"value\",\"value\":\"blue\"},\"fill_alpha\":{\"type\":\"value\",\"value\":0.2},\"hatch_color\":{\"type\":\"value\",\"value\":\"blue\"},\"hatch_alpha\":{\"type\":\"value\",\"value\":0.2}}}}}],\"toolbar\":{\"type\":\"object\",\"name\":\"Toolbar\",\"id\":\"p1333\",\"attributes\":{\"tools\":[{\"type\":\"object\",\"name\":\"PanTool\",\"id\":\"p1346\"},{\"type\":\"object\",\"name\":\"WheelZoomTool\",\"id\":\"p1347\",\"attributes\":{\"renderers\":\"auto\"}},{\"type\":\"object\",\"name\":\"BoxZoomTool\",\"id\":\"p1348\",\"attributes\":{\"overlay\":{\"type\":\"object\",\"name\":\"BoxAnnotation\",\"id\":\"p1349\",\"attributes\":{\"syncable\":false,\"line_color\":\"black\",\"line_alpha\":1.0,\"line_width\":2,\"line_dash\":[4,4],\"fill_color\":\"lightgrey\",\"fill_alpha\":0.5,\"level\":\"overlay\",\"visible\":false,\"left\":{\"type\":\"number\",\"value\":\"nan\"},\"right\":{\"type\":\"number\",\"value\":\"nan\"},\"top\":{\"type\":\"number\",\"value\":\"nan\"},\"bottom\":{\"type\":\"number\",\"value\":\"nan\"},\"left_units\":\"canvas\",\"right_units\":\"canvas\",\"top_units\":\"canvas\",\"bottom_units\":\"canvas\",\"handles\":{\"type\":\"object\",\"name\":\"BoxInteractionHandles\",\"id\":\"p1355\",\"attributes\":{\"all\":{\"type\":\"object\",\"name\":\"AreaVisuals\",\"id\":\"p1354\",\"attributes\":{\"fill_color\":\"white\",\"hover_fill_color\":\"lightgray\"}}}}}}}},{\"type\":\"object\",\"name\":\"SaveTool\",\"id\":\"p1356\"},{\"type\":\"object\",\"name\":\"ResetTool\",\"id\":\"p1357\"},{\"type\":\"object\",\"name\":\"HelpTool\",\"id\":\"p1358\"}]}},\"left\":[{\"type\":\"object\",\"name\":\"LinearAxis\",\"id\":\"p1342\",\"attributes\":{\"ticker\":{\"type\":\"object\",\"name\":\"MercatorTicker\",\"id\":\"p1341\",\"attributes\":{\"mantissas\":[1,2,5],\"dimension\":\"lat\"}},\"formatter\":{\"type\":\"object\",\"name\":\"MercatorTickFormatter\",\"id\":\"p1340\",\"attributes\":{\"dimension\":\"lat\"}},\"axis_label\":\"\",\"major_label_policy\":{\"type\":\"object\",\"name\":\"AllLabels\",\"id\":\"p1345\"}}}],\"below\":[{\"type\":\"object\",\"name\":\"LinearAxis\",\"id\":\"p1336\",\"attributes\":{\"ticker\":{\"type\":\"object\",\"name\":\"MercatorTicker\",\"id\":\"p1335\",\"attributes\":{\"mantissas\":[1,2,5],\"dimension\":\"lon\"}},\"formatter\":{\"type\":\"object\",\"name\":\"MercatorTickFormatter\",\"id\":\"p1334\",\"attributes\":{\"dimension\":\"lon\"}},\"axis_label\":\"\",\"major_label_policy\":{\"type\":\"object\",\"name\":\"AllLabels\",\"id\":\"p1339\"}}}],\"map_options\":{\"type\":\"object\",\"name\":\"GMapOptions\",\"id\":\"p1323\",\"attributes\":{\"lat\":37.38651754999999,\"lng\":-122.00367225,\"zoom\":19,\"map_type\":\"satellite\",\"tilt\":0}},\"api_key\":{\"type\":\"bytes\",\"data\":\"QUl6YVN5Qi1qbW1oUmpldmRnUHROckwzbDB4ZTNZVFpiTjNPNzNF\"}}}]}};\n",
       "  const render_items = [{\"docid\":\"dcb6318c-47b2-417d-b8e3-6d2ecc77a63d\",\"roots\":{\"p1324\":\"d4d91c35-e349-41a9-8907-18237cbbf879\"},\"root_ids\":[\"p1324\"]}];\n",
       "  void root.Bokeh.embed.embed_items_notebook(docs_json, render_items);\n",
       "  }\n",
       "  if (root.Bokeh !== undefined) {\n",
       "    embed_document(root);\n",
       "  } else {\n",
       "    let attempts = 0;\n",
       "    const timer = setInterval(function(root) {\n",
       "      if (root.Bokeh !== undefined) {\n",
       "        clearInterval(timer);\n",
       "        embed_document(root);\n",
       "      } else {\n",
       "        attempts++;\n",
       "        if (attempts > 100) {\n",
       "          clearInterval(timer);\n",
       "          console.log(\"Bokeh: ERROR: Unable to run BokehJS code because BokehJS library is missing\");\n",
       "        }\n",
       "      }\n",
       "    }, 10, root)\n",
       "  }\n",
       "})(window);"
      ],
      "application/vnd.bokehjs_exec.v0+json": ""
     },
     "metadata": {
      "application/vnd.bokehjs_exec.v0+json": {
       "id": "p1324"
      }
     },
     "output_type": "display_data"
    }
   ],
   "source": [
    "display_map_from_log('logs/robomagellan.2025.botnic.spring.run10.txt', zoom=19)"
   ]
  },
  {
   "cell_type": "markdown",
   "id": "4e0b948a-26b7-404b-bf77-cbbc9727b143",
   "metadata": {},
   "source": [
    "## Animated Maps\n",
    "\n",
    "### Define a function to draw an animated map"
   ]
  },
  {
   "cell_type": "code",
   "execution_count": 16,
   "id": "4e88317d-2459-417c-aa13-3eb4dda382c5",
   "metadata": {},
   "outputs": [],
   "source": [
    "import time\n",
    "import sleep_until\n",
    "\n",
    "def display_dynamic_map_with_positions(positions, name=\"Kybernetes 2 GPS Samples\", zoom=20, api_key=API_KEY):\n",
    "    # Rip latitude and longitude from position tuple\n",
    "    times = [position[0] - (positions[0][0] + 0) for position in positions]\n",
    "    lats = [position[1] for position in positions]\n",
    "    lons = [position[2] for position in positions]\n",
    "\n",
    "    # Find the center point of data\n",
    "    lat = (max(lats) + min(lats)) / 2.0\n",
    "    lon = (max(lons) + min(lons)) / 2.0\n",
    "\n",
    "    # Draw each position as a circle on the map\n",
    "    map_options = GMapOptions(lat=lat, lng=lon, map_type='satellite', tilt=0, zoom=zoom)\n",
    "    plot = gmap(api_key, map_options, title=name, width=1024, height=768)\n",
    "\n",
    "    # stuff for animation\n",
    "    source = ColumnDataSource(data=dict(lat=[], lon=[]))\n",
    "    line = Line(x=\"lon\", y=\"lat\", line_width=4, line_color=\"red\")\n",
    "    plot.add_glyph(source, line)\n",
    "\n",
    "    handle = show(plot, notebook_handle=True)\n",
    "    initial = time.time()\n",
    "\n",
    "    for i in range(1, len(times)):\n",
    "        source.data = dict(lat=lats[:i],lon=lons[:i])\n",
    "        push_notebook(handle=handle)\n",
    "        sleep_until.sleep_until(initial + times[i])\n",
    "\n",
    "def display_dynamic_map_from_log(filename, zoom=20, offset=0):\n",
    "    positions = read_gps_data(filename)\n",
    "    display_dynamic_map_with_positions(positions[offset:], name=f'Kybernetes 2 GPS Samples - {filename}', zoom=zoom)"
   ]
  },
  {
   "cell_type": "markdown",
   "id": "6ce94c9e-d78a-4031-beb2-f0c5abdf7737",
   "metadata": {},
   "source": [
    "### Robogames 2023 - Run 1 - Animation"
   ]
  },
  {
   "cell_type": "code",
   "execution_count": 20,
   "id": "40ab936a-e00a-4785-9082-831a41f14387",
   "metadata": {},
   "outputs": [
    {
     "data": {
      "text/html": [
       "\n",
       "  <div id=\"d94f8302-2224-43a4-8f48-2aa4cd1dd9ce\" data-root-id=\"p3299\" style=\"display: contents;\"></div>\n"
      ]
     },
     "metadata": {},
     "output_type": "display_data"
    },
    {
     "data": {
      "application/javascript": [
       "(function(root) {\n",
       "  function embed_document(root) {\n",
       "  const docs_json = {\"0d80aa90-8b9a-472a-8a80-f916acadc042\":{\"version\":\"3.6.0\",\"title\":\"Bokeh Application\",\"roots\":[{\"type\":\"object\",\"name\":\"GMap\",\"id\":\"p3299\",\"attributes\":{\"width\":1024,\"height\":768,\"x_range\":{\"type\":\"object\",\"name\":\"Range1d\",\"id\":\"p3300\"},\"y_range\":{\"type\":\"object\",\"name\":\"Range1d\",\"id\":\"p3301\"},\"x_scale\":{\"type\":\"object\",\"name\":\"LinearScale\",\"id\":\"p3306\"},\"y_scale\":{\"type\":\"object\",\"name\":\"LinearScale\",\"id\":\"p3307\"},\"title\":{\"type\":\"object\",\"name\":\"Title\",\"id\":\"p3304\",\"attributes\":{\"text\":\"Kybernetes 2 GPS Samples - logs/robomagellan.2023.robogames.run1.txt\"}},\"renderers\":[{\"type\":\"object\",\"name\":\"GlyphRenderer\",\"id\":\"p3338\",\"attributes\":{\"data_source\":{\"type\":\"object\",\"name\":\"ColumnDataSource\",\"id\":\"p3334\",\"attributes\":{\"selected\":{\"type\":\"object\",\"name\":\"Selection\",\"id\":\"p3335\",\"attributes\":{\"indices\":[],\"line_indices\":[]}},\"selection_policy\":{\"type\":\"object\",\"name\":\"UnionRenderers\",\"id\":\"p3336\"},\"data\":{\"type\":\"map\",\"entries\":[[\"lat\",[]],[\"lon\",[]]]}}},\"view\":{\"type\":\"object\",\"name\":\"CDSView\",\"id\":\"p3339\",\"attributes\":{\"filter\":{\"type\":\"object\",\"name\":\"AllIndices\",\"id\":\"p3340\"}}},\"glyph\":{\"type\":\"object\",\"name\":\"Line\",\"id\":\"p3337\",\"attributes\":{\"x\":{\"type\":\"field\",\"field\":\"lon\"},\"y\":{\"type\":\"field\",\"field\":\"lat\"},\"line_color\":\"red\",\"line_width\":4}}}}],\"toolbar\":{\"type\":\"object\",\"name\":\"Toolbar\",\"id\":\"p3308\",\"attributes\":{\"tools\":[{\"type\":\"object\",\"name\":\"PanTool\",\"id\":\"p3321\"},{\"type\":\"object\",\"name\":\"WheelZoomTool\",\"id\":\"p3322\",\"attributes\":{\"renderers\":\"auto\"}},{\"type\":\"object\",\"name\":\"BoxZoomTool\",\"id\":\"p3323\",\"attributes\":{\"overlay\":{\"type\":\"object\",\"name\":\"BoxAnnotation\",\"id\":\"p3324\",\"attributes\":{\"syncable\":false,\"line_color\":\"black\",\"line_alpha\":1.0,\"line_width\":2,\"line_dash\":[4,4],\"fill_color\":\"lightgrey\",\"fill_alpha\":0.5,\"level\":\"overlay\",\"visible\":false,\"left\":{\"type\":\"number\",\"value\":\"nan\"},\"right\":{\"type\":\"number\",\"value\":\"nan\"},\"top\":{\"type\":\"number\",\"value\":\"nan\"},\"bottom\":{\"type\":\"number\",\"value\":\"nan\"},\"left_units\":\"canvas\",\"right_units\":\"canvas\",\"top_units\":\"canvas\",\"bottom_units\":\"canvas\",\"handles\":{\"type\":\"object\",\"name\":\"BoxInteractionHandles\",\"id\":\"p3330\",\"attributes\":{\"all\":{\"type\":\"object\",\"name\":\"AreaVisuals\",\"id\":\"p3329\",\"attributes\":{\"fill_color\":\"white\",\"hover_fill_color\":\"lightgray\"}}}}}}}},{\"type\":\"object\",\"name\":\"SaveTool\",\"id\":\"p3331\"},{\"type\":\"object\",\"name\":\"ResetTool\",\"id\":\"p3332\"},{\"type\":\"object\",\"name\":\"HelpTool\",\"id\":\"p3333\"}]}},\"left\":[{\"type\":\"object\",\"name\":\"LinearAxis\",\"id\":\"p3317\",\"attributes\":{\"ticker\":{\"type\":\"object\",\"name\":\"MercatorTicker\",\"id\":\"p3316\",\"attributes\":{\"mantissas\":[1,2,5],\"dimension\":\"lat\"}},\"formatter\":{\"type\":\"object\",\"name\":\"MercatorTickFormatter\",\"id\":\"p3315\",\"attributes\":{\"dimension\":\"lat\"}},\"axis_label\":\"\",\"major_label_policy\":{\"type\":\"object\",\"name\":\"AllLabels\",\"id\":\"p3320\"}}}],\"below\":[{\"type\":\"object\",\"name\":\"LinearAxis\",\"id\":\"p3311\",\"attributes\":{\"ticker\":{\"type\":\"object\",\"name\":\"MercatorTicker\",\"id\":\"p3310\",\"attributes\":{\"mantissas\":[1,2,5],\"dimension\":\"lon\"}},\"formatter\":{\"type\":\"object\",\"name\":\"MercatorTickFormatter\",\"id\":\"p3309\",\"attributes\":{\"dimension\":\"lon\"}},\"axis_label\":\"\",\"major_label_policy\":{\"type\":\"object\",\"name\":\"AllLabels\",\"id\":\"p3314\"}}}],\"map_options\":{\"type\":\"object\",\"name\":\"GMapOptions\",\"id\":\"p3298\",\"attributes\":{\"lat\":37.659686699999995,\"lng\":-121.8857302,\"zoom\":20,\"map_type\":\"satellite\",\"tilt\":0}},\"api_key\":{\"type\":\"bytes\",\"data\":\"QUl6YVN5Qi1qbW1oUmpldmRnUHROckwzbDB4ZTNZVFpiTjNPNzNF\"}}}]}};\n",
       "  const render_items = [{\"docid\":\"0d80aa90-8b9a-472a-8a80-f916acadc042\",\"roots\":{\"p3299\":\"d94f8302-2224-43a4-8f48-2aa4cd1dd9ce\"},\"root_ids\":[\"p3299\"],\"notebook_comms_target\":\"p3341\"}];\n",
       "  void root.Bokeh.embed.embed_items_notebook(docs_json, render_items);\n",
       "  }\n",
       "  if (root.Bokeh !== undefined) {\n",
       "    embed_document(root);\n",
       "  } else {\n",
       "    let attempts = 0;\n",
       "    const timer = setInterval(function(root) {\n",
       "      if (root.Bokeh !== undefined) {\n",
       "        clearInterval(timer);\n",
       "        embed_document(root);\n",
       "      } else {\n",
       "        attempts++;\n",
       "        if (attempts > 100) {\n",
       "          clearInterval(timer);\n",
       "          console.log(\"Bokeh: ERROR: Unable to run BokehJS code because BokehJS library is missing\");\n",
       "        }\n",
       "      }\n",
       "    }, 10, root)\n",
       "  }\n",
       "})(window);"
      ],
      "application/vnd.bokehjs_exec.v0+json": ""
     },
     "metadata": {
      "application/vnd.bokehjs_exec.v0+json": {
       "id": "p3299"
      }
     },
     "output_type": "display_data"
    }
   ],
   "source": [
    "display_dynamic_map_from_log('logs/robomagellan.2023.robogames.run1.txt', zoom=20, offset=0)"
   ]
  },
  {
   "cell_type": "markdown",
   "id": "9b9fd021-96c9-4a99-ac8e-01d3379c8d50",
   "metadata": {},
   "source": [
    "#### Botnic Spring 2025 - Run 1 - Animation"
   ]
  },
  {
   "cell_type": "code",
   "execution_count": 17,
   "id": "bd9a5bbe-f550-494d-a041-35e6f79ae30d",
   "metadata": {},
   "outputs": [
    {
     "data": {
      "text/html": [
       "\n",
       "  <div id=\"a58f7ca7-28f3-48f1-a288-3293a01c2084\" data-root-id=\"p1370\" style=\"display: contents;\"></div>\n"
      ]
     },
     "metadata": {},
     "output_type": "display_data"
    },
    {
     "data": {
      "application/javascript": [
       "(function(root) {\n",
       "  function embed_document(root) {\n",
       "  const docs_json = {\"a62edf22-8a83-4f19-9162-9d49509305c8\":{\"version\":\"3.6.0\",\"title\":\"Bokeh Application\",\"roots\":[{\"type\":\"object\",\"name\":\"GMap\",\"id\":\"p1370\",\"attributes\":{\"width\":1024,\"height\":768,\"x_range\":{\"type\":\"object\",\"name\":\"Range1d\",\"id\":\"p1371\"},\"y_range\":{\"type\":\"object\",\"name\":\"Range1d\",\"id\":\"p1372\"},\"x_scale\":{\"type\":\"object\",\"name\":\"LinearScale\",\"id\":\"p1377\"},\"y_scale\":{\"type\":\"object\",\"name\":\"LinearScale\",\"id\":\"p1378\"},\"title\":{\"type\":\"object\",\"name\":\"Title\",\"id\":\"p1375\",\"attributes\":{\"text\":\"Kybernetes 2 GPS Samples - logs/robomagellan.2025.botnic.spring.run10.txt\"}},\"renderers\":[{\"type\":\"object\",\"name\":\"GlyphRenderer\",\"id\":\"p1409\",\"attributes\":{\"data_source\":{\"type\":\"object\",\"name\":\"ColumnDataSource\",\"id\":\"p1405\",\"attributes\":{\"selected\":{\"type\":\"object\",\"name\":\"Selection\",\"id\":\"p1406\",\"attributes\":{\"indices\":[],\"line_indices\":[]}},\"selection_policy\":{\"type\":\"object\",\"name\":\"UnionRenderers\",\"id\":\"p1407\"},\"data\":{\"type\":\"map\",\"entries\":[[\"lat\",[]],[\"lon\",[]]]}}},\"view\":{\"type\":\"object\",\"name\":\"CDSView\",\"id\":\"p1410\",\"attributes\":{\"filter\":{\"type\":\"object\",\"name\":\"AllIndices\",\"id\":\"p1411\"}}},\"glyph\":{\"type\":\"object\",\"name\":\"Line\",\"id\":\"p1408\",\"attributes\":{\"x\":{\"type\":\"field\",\"field\":\"lon\"},\"y\":{\"type\":\"field\",\"field\":\"lat\"},\"line_color\":\"red\",\"line_width\":4}}}}],\"toolbar\":{\"type\":\"object\",\"name\":\"Toolbar\",\"id\":\"p1379\",\"attributes\":{\"tools\":[{\"type\":\"object\",\"name\":\"PanTool\",\"id\":\"p1392\"},{\"type\":\"object\",\"name\":\"WheelZoomTool\",\"id\":\"p1393\",\"attributes\":{\"renderers\":\"auto\"}},{\"type\":\"object\",\"name\":\"BoxZoomTool\",\"id\":\"p1394\",\"attributes\":{\"overlay\":{\"type\":\"object\",\"name\":\"BoxAnnotation\",\"id\":\"p1395\",\"attributes\":{\"syncable\":false,\"line_color\":\"black\",\"line_alpha\":1.0,\"line_width\":2,\"line_dash\":[4,4],\"fill_color\":\"lightgrey\",\"fill_alpha\":0.5,\"level\":\"overlay\",\"visible\":false,\"left\":{\"type\":\"number\",\"value\":\"nan\"},\"right\":{\"type\":\"number\",\"value\":\"nan\"},\"top\":{\"type\":\"number\",\"value\":\"nan\"},\"bottom\":{\"type\":\"number\",\"value\":\"nan\"},\"left_units\":\"canvas\",\"right_units\":\"canvas\",\"top_units\":\"canvas\",\"bottom_units\":\"canvas\",\"handles\":{\"type\":\"object\",\"name\":\"BoxInteractionHandles\",\"id\":\"p1401\",\"attributes\":{\"all\":{\"type\":\"object\",\"name\":\"AreaVisuals\",\"id\":\"p1400\",\"attributes\":{\"fill_color\":\"white\",\"hover_fill_color\":\"lightgray\"}}}}}}}},{\"type\":\"object\",\"name\":\"SaveTool\",\"id\":\"p1402\"},{\"type\":\"object\",\"name\":\"ResetTool\",\"id\":\"p1403\"},{\"type\":\"object\",\"name\":\"HelpTool\",\"id\":\"p1404\"}]}},\"left\":[{\"type\":\"object\",\"name\":\"LinearAxis\",\"id\":\"p1388\",\"attributes\":{\"ticker\":{\"type\":\"object\",\"name\":\"MercatorTicker\",\"id\":\"p1387\",\"attributes\":{\"mantissas\":[1,2,5],\"dimension\":\"lat\"}},\"formatter\":{\"type\":\"object\",\"name\":\"MercatorTickFormatter\",\"id\":\"p1386\",\"attributes\":{\"dimension\":\"lat\"}},\"axis_label\":\"\",\"major_label_policy\":{\"type\":\"object\",\"name\":\"AllLabels\",\"id\":\"p1391\"}}}],\"below\":[{\"type\":\"object\",\"name\":\"LinearAxis\",\"id\":\"p1382\",\"attributes\":{\"ticker\":{\"type\":\"object\",\"name\":\"MercatorTicker\",\"id\":\"p1381\",\"attributes\":{\"mantissas\":[1,2,5],\"dimension\":\"lon\"}},\"formatter\":{\"type\":\"object\",\"name\":\"MercatorTickFormatter\",\"id\":\"p1380\",\"attributes\":{\"dimension\":\"lon\"}},\"axis_label\":\"\",\"major_label_policy\":{\"type\":\"object\",\"name\":\"AllLabels\",\"id\":\"p1385\"}}}],\"map_options\":{\"type\":\"object\",\"name\":\"GMapOptions\",\"id\":\"p1369\",\"attributes\":{\"lat\":37.38651754999999,\"lng\":-122.00367225,\"zoom\":19,\"map_type\":\"satellite\",\"tilt\":0}},\"api_key\":{\"type\":\"bytes\",\"data\":\"QUl6YVN5Qi1qbW1oUmpldmRnUHROckwzbDB4ZTNZVFpiTjNPNzNF\"}}}]}};\n",
       "  const render_items = [{\"docid\":\"a62edf22-8a83-4f19-9162-9d49509305c8\",\"roots\":{\"p1370\":\"a58f7ca7-28f3-48f1-a288-3293a01c2084\"},\"root_ids\":[\"p1370\"],\"notebook_comms_target\":\"p1412\"}];\n",
       "  void root.Bokeh.embed.embed_items_notebook(docs_json, render_items);\n",
       "  }\n",
       "  if (root.Bokeh !== undefined) {\n",
       "    embed_document(root);\n",
       "  } else {\n",
       "    let attempts = 0;\n",
       "    const timer = setInterval(function(root) {\n",
       "      if (root.Bokeh !== undefined) {\n",
       "        clearInterval(timer);\n",
       "        embed_document(root);\n",
       "      } else {\n",
       "        attempts++;\n",
       "        if (attempts > 100) {\n",
       "          clearInterval(timer);\n",
       "          console.log(\"Bokeh: ERROR: Unable to run BokehJS code because BokehJS library is missing\");\n",
       "        }\n",
       "      }\n",
       "    }, 10, root)\n",
       "  }\n",
       "})(window);"
      ],
      "application/vnd.bokehjs_exec.v0+json": ""
     },
     "metadata": {
      "application/vnd.bokehjs_exec.v0+json": {
       "id": "p1370"
      }
     },
     "output_type": "display_data"
    }
   ],
   "source": [
    "display_dynamic_map_from_log('logs/robomagellan.2025.botnic.spring.run10.txt', zoom=19, offset=0)"
   ]
  }
 ],
 "metadata": {
  "kernelspec": {
   "display_name": "Python 3 (ipykernel)",
   "language": "python",
   "name": "python3"
  },
  "language_info": {
   "codemirror_mode": {
    "name": "ipython",
    "version": 3
   },
   "file_extension": ".py",
   "mimetype": "text/x-python",
   "name": "python",
   "nbconvert_exporter": "python",
   "pygments_lexer": "ipython3",
   "version": "3.11.11"
  }
 },
 "nbformat": 4,
 "nbformat_minor": 5
}
